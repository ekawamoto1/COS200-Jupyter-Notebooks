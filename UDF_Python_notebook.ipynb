{
 "cells": [
  {
   "cell_type": "markdown",
   "metadata": {
    "deletable": false,
    "editable": false
   },
   "source": [
    "## **Built-In and User-Defined Functions - Python notebook**\n",
    "\n"
   ]
  },
  {
   "cell_type": "markdown",
   "metadata": {
    "deletable": false,
    "editable": false
   },
   "source": [
    "#### Built-in functions\n",
    "\n",
    "see https://www.w3schools.com/python/python_ref_functions.asp\n",
    "\n",
    "There is a large number of [built-in functions](https://www.javatpoint.com/python-built-in-functions) in Python. Here, we will illustrate the use of selected built-in functions: <code>float()</code>, <code>int()</code>, <code>hex()</code>, <code>oct()</code>, <code>min()</code>, <code>max()</code>, <code>round()</code>, <code>type()</code>, and <code>str()</code>. <br><br>\n",
    "\n",
    "| Function |  Description  |  Example  |\n",
    "| --: | :-- | :-- |\n",
    "| <code>float()</code> | converts the specified value into a floating-point number | <code>x = float(s)</code> |\n",
    "| <code>int()</code> | converts (or truncates) the specified value into an integer | <code>n = int(x)</code> |\n",
    "| <code>hex()</code> | converts the specified base-10 integer to its base-16 representation | <code>m = hex(n)</code> |\n",
    "| <code>oct()</code> | converts the specified base-10 integer to its base-8 representation | <code>m = oct(n)</code> |\n",
    "| <code>bin()</code> | converts the specified base-10 integer to its base-2 representation | <code>m = bin(n)</code> |\n",
    "| <code>str()</code> | converts the specified value into its string representation | <code>s = str(x)</code> |\n",
    "| <code>min()</code> | returns the item with the smallest value (also works with a list) | <code>m = min(x1, x2, ... , xN)</code> |\n",
    "| <code>max()</code> | returns the item with the largest value (also works with a list) | <code>M = max(x1, x2, ... , xN)</code> |\n",
    "| <code>abs()</code> | returns the absolute value of the specified number | <code>a = abs(x)</code> |\n",
    "| <code>round()</code> | returns a floating-point value that is the specified number rounded to a specified number of decimal places | <code>y = round(x, n)</code> |\n",
    "| <code>type()</code> | returns the type of a specified object | <code>t = type(x)</code> |\n",
    "| <code>len()</code> | returns the number of items in an object (or the number of characters in a string) | <code>n = len(s)</code> |"
   ]
  },
  {
   "cell_type": "markdown",
   "metadata": {
    "deletable": false,
    "editable": false
   },
   "source": [
    "Some examples of built-in functions and their usage"
   ]
  },
  {
   "cell_type": "code",
   "execution_count": 2,
   "metadata": {
    "deletable": false,
    "editable": false
   },
   "outputs": [
    {
     "name": "stdout",
     "output_type": "stream",
     "text": [
      "a = 63\n",
      "<class 'int'>\n",
      "hex(a) = 0x3f\n",
      "oct(a) = 0o77\n",
      "float(a) = 63.0\n",
      "\n",
      "b = [13, 5, -23, 17, -9, 0]\n",
      "<class 'list'>\n",
      "min(b) = -23\n",
      "\n",
      "c = -4.8749\n",
      "<class 'float'>\n",
      "int(c) = -4\n",
      "round(c) = -5\n",
      "round(c, 1) = -4.9\n",
      "round(c, 2) = -4.87\n",
      "\n",
      "d = \"-4.8749\"\n",
      "<class 'str'>\n",
      "float(d) = -4.8749\n",
      "<class 'float'>\n",
      "\n",
      "e = range(-2, 6)\n",
      "s is its representation as a string\n",
      "s = \"-2, -1, 0, 1, 2, 3, 4, 5, \"\n",
      "e is of type <class 'range'>\n",
      "s is of type <class 'str'>\n",
      "\n",
      "enter a number, some text, anything: -1.23E-04\n",
      "you entered -1.23E-04 of type <class 'str'>\n"
     ]
    }
   ],
   "source": [
    "a = 63\n",
    "print(\"a =\", end=\" \"); print(a)\n",
    "print(type(a))\n",
    "print(\"hex(a) =\", end=\" \"); print(hex(a))\n",
    "print(\"oct(a) =\", end=\" \"); print(oct(a))\n",
    "print(\"float(a) =\", end=\" \"); print(float(a))\n",
    "print()\n",
    "\n",
    "b = [13, 5, -23, 17, -9, 0]\n",
    "print(\"b =\", end = \" \"); print(b)\n",
    "print(type(b))\n",
    "print(\"min(b) =\", end=\" \"); print(min(b))\n",
    "print()\n",
    "\n",
    "c = -4.8749\n",
    "print(\"c =\", end = \" \"); print(c)\n",
    "print(type(c))\n",
    "print(\"int(c) =\", end = \" \"); print(int(c))\n",
    "print(\"round(c) =\", end = \" \"); print(round(c))\n",
    "print(\"round(c, 1) =\", end = \" \"); print(round(c, 1))\n",
    "print(\"round(c, 2) =\", end = \" \"); print(round(c, 2))\n",
    "print()\n",
    "\n",
    "d = \"-4.8749\"\n",
    "print(\"d =\", end = \" \"); print('\\\"' + d + '\\\"')\n",
    "print(type(d))\n",
    "print(\"float(d) =\", end = \" \"); print(float(d))\n",
    "print(type(float(d)))\n",
    "print()\n",
    "\n",
    "e = range(-2, 6)\n",
    "s = ''\n",
    "for x in e:\n",
    "    s += str(x) + ', '\n",
    "print(\"e = range(-2, 6)\"); print(\"s is its representation as a string\")\n",
    "print('s = \\\"' + s + '\\\"')\n",
    "print(\"e is of type\", end=\" \"); print(type(e))\n",
    "print(\"s is of type\", end=\" \"); print(type(s))\n",
    "print()\n",
    "\n",
    "if 1:  # this is a cute way of \"commenting out (0) or uncommenting (1)\" a block of code\n",
    "    f = input('enter a number, some text, anything: ')\n",
    "    print('you entered ' + f + ' of type ' + str(type(f)))"
   ]
  },
  {
   "cell_type": "markdown",
   "metadata": {
    "deletable": false,
    "editable": false
   },
   "source": [
    "<div class=\"alert alert-block alert-info\">\n",
    "Try some yourself! First, *run the cell above* in order to assign values to <code>a</code>, <code>b</code>, <code>c</code>, <code>d</code>, and <code>e</code>. Then, in the cell below, write some code using built-in functions to determine and print: <br>\n",
    "1. The binary representation of <code>a</code> <br>\n",
    "2. The maximum element of the list <code>b</code> <br>\n",
    "3. The number of elements in the list <code>b</code> <br>\n",
    "4. The absolute value of <code>c</code> <br>\n",
    "5. A list containing the elements of range <code>e</code> <br>\n",
    "    \n",
    "In the cell above, why does it return <code>< class 'str' ></code> no matter what you input?\n",
    "</div>"
   ]
  },
  {
   "cell_type": "code",
   "execution_count": null,
   "metadata": {
    "deletable": false
   },
   "outputs": [],
   "source": []
  },
  {
   "cell_type": "markdown",
   "metadata": {
    "deletable": false,
    "editable": false
   },
   "source": [
    "Now, let's see some examples of functions imported from modules (see the *long* list of available modules at the bottom of this notebook).\n",
    "\n",
    "Below is a sample of code that use the <code>random</code> module. Why might there be duplicate cards in the first set of hands, but not in the second?"
   ]
  },
  {
   "cell_type": "code",
   "execution_count": 2,
   "metadata": {
    "deletable": false
   },
   "outputs": [
    {
     "name": "stdout",
     "output_type": "stream",
     "text": [
      "number of cards in the deck: 52\n",
      "\n",
      "deck before shuffle: ['♣1', '♣2', '♣3', '♣4', '♣5', '♣6', '♣7', '♣8', '♣9', '♣10', '♣11', '♣12', '♣13', '♦1', '♦2', '♦3', '♦4', '♦5', '♦6', '♦7', '♦8', '♦9', '♦10', '♦11', '♦12', '♦13', '♥1', '♥2', '♥3', '♥4', '♥5', '♥6', '♥7', '♥8', '♥9', '♥10', '♥11', '♥12', '♥13', '♠1', '♠2', '♠3', '♠4', '♠5', '♠6', '♠7', '♠8', '♠9', '♠10', '♠11', '♠12', '♠13']\n",
      "\n",
      "hand 1: ['♦11', '♣1', '♥9']\n",
      "hand 2: ['♣7', '♠6', '♠12']\n",
      "hand 3: ['♠4', '♦13', '♥7']\n",
      "hand 4: ['♠1', '♣5', '♠1']\n",
      "hand 5: ['♦5', '♥3', '♥13']\n",
      "hand 6: ['♣5', '♣1', '♣6']\n",
      "hand 7: ['♣3', '♣4', '♣7']\n",
      "hand 8: ['♣3', '♠12', '♦9']\n",
      "hand 9: ['♥13', '♠9', '♣4']\n",
      "hand 10: ['♣1', '♥11', '♦1']\n",
      "\n",
      "deck after first deal: ['♣1', '♣2', '♣3', '♣4', '♣5', '♣6', '♣7', '♣8', '♣9', '♣10', '♣11', '♣12', '♣13', '♦1', '♦2', '♦3', '♦4', '♦5', '♦6', '♦7', '♦8', '♦9', '♦10', '♦11', '♦12', '♦13', '♥1', '♥2', '♥3', '♥4', '♥5', '♥6', '♥7', '♥8', '♥9', '♥10', '♥11', '♥12', '♥13', '♠1', '♠2', '♠3', '♠4', '♠5', '♠6', '♠7', '♠8', '♠9', '♠10', '♠11', '♠12', '♠13']\n",
      "\n",
      "deck after shuffle: ['♦6', '♦1', '♦10', '♥10', '♦9', '♠9', '♥6', '♥12', '♣10', '♣13', '♠5', '♠3', '♣8', '♠13', '♣11', '♦5', '♣1', '♦11', '♠2', '♥4', '♠12', '♥1', '♣7', '♠6', '♠10', '♦7', '♦12', '♥3', '♦13', '♣5', '♦2', '♠1', '♣12', '♠7', '♥13', '♥9', '♣3', '♣2', '♦8', '♥11', '♣4', '♣9', '♠4', '♦4', '♠8', '♥7', '♣6', '♥8', '♠11', '♥2', '♦3', '♥5']\n",
      "\n",
      "hand 1: ['♦6', '♦1', '♦10']\n",
      "hand 2: ['♥10', '♦9', '♠9']\n",
      "hand 3: ['♥6', '♥12', '♣10']\n",
      "hand 4: ['♣13', '♠5', '♠3']\n",
      "hand 5: ['♣8', '♠13', '♣11']\n",
      "hand 6: ['♦5', '♣1', '♦11']\n",
      "hand 7: ['♠2', '♥4', '♠12']\n",
      "hand 8: ['♥1', '♣7', '♠6']\n",
      "hand 9: ['♠10', '♦7', '♦12']\n",
      "hand 10: ['♥3', '♦13', '♣5']\n",
      "\n",
      "deck after second deal: ['♦2', '♠1', '♣12', '♠7', '♥13', '♥9', '♣3', '♣2', '♦8', '♥11', '♣4', '♣9', '♠4', '♦4', '♠8', '♥7', '♣6', '♥8', '♠11', '♥2', '♦3', '♥5']\n"
     ]
    }
   ],
   "source": [
    "# for more about the random module, see\n",
    "# https://www.geeksforgeeks.org/random-numbers-in-python/\n",
    "import random\n",
    "\n",
    "def main():\n",
    "    m = 10  # number of hands to deal\n",
    "    n = 3   # number of cards in each hand\n",
    "    deck = []\n",
    "    hand = []\n",
    "    suits = ['♣', '♦', '♥', '♠']\n",
    "    for i in range(0, 4):\n",
    "        for j in range(1, 14):\n",
    "            s = suits[i] + str(j)\n",
    "            deck.append(s)\n",
    "    print(\"number of cards in the deck: \" + str(len(deck)))\n",
    "    print()\n",
    "\n",
    "    print(\"deck before shuffle: \" + str(deck))\n",
    "    print()\n",
    "    for k in range(m):\n",
    "        hand.clear()\n",
    "        for p in range(n):\n",
    "            q = random.randint(0, len(deck)-1)  # note that randint() behaves differently than range()!\n",
    "            hand.append(deck[q])\n",
    "        print(\"hand \" + str(k+1) + \": \" + str(hand))\n",
    "    print()\n",
    "    \n",
    "    print(\"deck after first deal: \" + str(deck))\n",
    "    print()\n",
    "    \n",
    "    random.shuffle(deck)\n",
    "    print(\"deck after shuffle: \" + str(deck))\n",
    "    print()\n",
    "    \n",
    "    for k in range(m):\n",
    "        hand.clear()\n",
    "        for p in range(n):\n",
    "            hand.append(deck[0])\n",
    "            deck.remove(deck[0])\n",
    "        print(\"hand \" + str(k+1) + \": \" + str(hand))\n",
    "        \n",
    "    print()\n",
    "    print(\"deck after second deal: \" + str(deck))\n",
    "\n",
    "    \n",
    "main()"
   ]
  },
  {
   "cell_type": "markdown",
   "metadata": {
    "deletable": false,
    "editable": false
   },
   "source": [
    "<div class=\"alert alert-block alert-info\">\n",
    "Now you try! Write some code below that: <br>\n",
    "    1. Creates a list of 10 random integers between 1 and 10 <br>\n",
    "    2. Prints out the list <br>\n",
    "    3. Identifies and prints which numbers occur more than once <br>\n",
    "    4. Counts and prints the number of times each of the non-unique numbers occurs <br>\n",
    "    \n",
    "_Verify that your code still works every time you run it!_ <br>\n",
    "    \n",
    "<b>Extra challenge</b>: Print out the indices (positions in the list) at which each of the non-unique numbers occur.\n",
    "</div>"
   ]
  },
  {
   "cell_type": "code",
   "execution_count": 1,
   "metadata": {
    "deletable": false
   },
   "outputs": [],
   "source": [
    "import random\n",
    "\n",
    "def main():\n",
    "    pass\n",
    "                \n",
    "main()"
   ]
  },
  {
   "cell_type": "markdown",
   "metadata": {
    "deletable": false,
    "editable": false
   },
   "source": [
    "your output should resemble this:\n",
    "<pre>\n",
    "[2, 1, 2, 8, 1, 3, 4, 6, 9, 10]\n",
    "\n",
    "elem 0 (2) equals elem 2 (2)\n",
    "elem 1 (1) equals elem 4 (1)\n",
    "\n",
    "[2, 1]\n",
    "2 occurs at indices [0, 2]\n",
    "1 occurs at indices [1, 4]\n",
    "[2, 2]\n",
    "</pre>"
   ]
  },
  {
   "cell_type": "markdown",
   "metadata": {
    "deletable": false,
    "editable": false
   },
   "source": [
    "Below are some samples of code that use the <code>date</code>, <code>time</code>, <code>datetime</code>, and <code>tz</code> modules"
   ]
  },
  {
   "cell_type": "code",
   "execution_count": 17,
   "metadata": {
    "deletable": false
   },
   "outputs": [
    {
     "name": "stdout",
     "output_type": "stream",
     "text": [
      "tzfile('US/Eastern')\n",
      "2022-09-13 22:46:55.325570-04:00\n",
      "2022-09-14 02:46:55.325570\n",
      "22:46:55.325570\n",
      "2022-09-13\n"
     ]
    }
   ],
   "source": [
    "# for more about the datetime module, see\n",
    "# https://www.geeksforgeeks.org/python-datetime-module/\n",
    "from datetime import date, time, datetime\n",
    "from dateutil import tz\n",
    "\n",
    "timezone = tz.gettz('America/New_York')\n",
    "print(timezone)\n",
    "now = datetime.now(tz=timezone)\n",
    "print(now)               # in Eastern timezone\n",
    "print(datetime.utcnow()) # in UTC\n",
    "\n",
    "s = \"{0:02d}:{1:02d}:{2:02d}.{3:06d}\".format(now.hour, now.minute, now.second, now.microsecond) \n",
    "#s = str(now.hour) + \":\" + str(now.minute) + \":\" + str(now.second)\n",
    "print(s)\n",
    "print(date.today()) "
   ]
  },
  {
   "cell_type": "markdown",
   "metadata": {
    "deletable": false,
    "editable": false
   },
   "source": [
    "<div class=\"alert alert-block alert-info\">\n",
    "Your turn! Look up examples of how to use the <code>datetime</code> and <code>timedelta</code> modules (<a href=https://miguendes.me/how-to-use-datetimetimedelta-in-python-with-examples>https://miguendes.me/how-to-use-datetimetimedelta-in-python-with-examples</a>). Then, write some code below that: <br>\n",
    "1. Sets <code>t1</code> = your birthday (year, month, day) <br>\n",
    "2. Sets <code>t2</code> = today (also year, month, day) <br>\n",
    "3. Computes the difference between today and your birthday (<code>t2-t1</code>), and expresses the result in days <br>\n",
    "4. Sets <code>t0</code> = your birthday (year, month, day, hour=0, minute=0, seconds=0 - assume you were born at midnight) <br>\n",
    "5. Sets <code>t3</code> = now (the moment you run your code) <br>\n",
    "6. Computes the difference between now and your birthday (<code>t3-t0</code>), and expresses the result in days (and fractions thereof) <br>\n",
    "7. Expresses the result of item 5 in minutes (and fractions thereof) <br>\n",
    "8. Expresses the result of item 5 in hours (and fractions thereof) <br>\n",
    "    \n",
    "Hint for items 7 and 8: convert the time difference to seconds first. <br>\n",
    "    \n",
    "<b>Extra challenge</b>: Put steps 1-8 above in a loop, do it 1000 times, and compute the execution time from start to finish using <code>time.time()</code>. This is one way to _profile_ your code; see <a href=https://medium.com/swlh/what-can-you-do-with-pythons-time-module-d4004c739f79>https://medium.com/swlh/what-can-you-do-with-pythons-time-module-d4004c739f79</a> <br>\n",
    "</div>"
   ]
  },
  {
   "cell_type": "code",
   "execution_count": null,
   "metadata": {
    "deletable": false
   },
   "outputs": [],
   "source": []
  },
  {
   "cell_type": "markdown",
   "metadata": {
    "deletable": false,
    "editable": false
   },
   "source": [
    "your output should resemble this:\n",
    "<pre>\n",
    "days between today and my birthday: 21561\n",
    "\n",
    "fractional days between now and my birthday: 21561 days, 0:26:48.526757\n",
    "\n",
    "secs: 1862872008.526757\n",
    "min: 31047866.808779284\n",
    "hr: 517464.4468129881\n",
    "days: 21561.018617207836\n",
    "days between today and my birthday: 21561\n",
    "\n",
    "...\n",
    "\n",
    "fractional days between now and my birthday: 21561 days, 0:26:48.557299\n",
    "\n",
    "secs: 1862872008.557299\n",
    "min: 31047866.809288315\n",
    "hr: 517464.4468214719\n",
    "days: 21561.01861756133\n",
    "\n",
    "elapsed time:  0.030541419982910156\n",
    "</pre>"
   ]
  },
  {
   "cell_type": "markdown",
   "metadata": {
    "deletable": false,
    "editable": false
   },
   "source": [
    "#### User-defined functions\n",
    "\n",
    "You, the user, can <b>define</b> your own functions using the keyword <code>def</code>. The format of a function definition looks similar to that of an <code>if</code> or <code>while</code> block:\n",
    "<pre>\n",
    "def myFunction(input1, input2, ..., inputN):\n",
    "    do something\n",
    "    do something\n",
    "    do something\n",
    "    . . .\n",
    "    return\n",
    "</pre>\n",
    "You may give your function any name you wish, but <b>DO NOT</b> use keywords or the names of built-in functions for the name of your own function! A user-defined function (UDF) may take as many inputs as you wish, or none at all; it may return a value (that is, assign a value to a variable in the calling function), or it may return nothing. Functions can take inputs of any type. Statements in the body of a UDF that make up the function <b>MUST</b> be indented; outdented lines are not part of the function. <br>\n",
    "\n",
    "It turns out that, unlike Java, Python does not have a function <code>isNumeric()</code> that can be used to determine whether an object represents a numeric data type or not. Instead, I have defined a simple user-defined function <code>is_number()</code> in the cell below. Run this cell to show how it is invoked to take something entered by the user (using <code>input()</code>) and convert it to an <code>int</code> or <code>float</code> ONLY IF it is a number.\n"
   ]
  },
  {
   "cell_type": "code",
   "execution_count": 8,
   "metadata": {
    "deletable": false
   },
   "outputs": [
    {
     "name": "stdout",
     "output_type": "stream",
     "text": [
      "enter something at the keyboard: -1.234E-05\n",
      "you entered the number -1.234E-05\n"
     ]
    }
   ],
   "source": [
    "def is_number(string):\n",
    "    try:\n",
    "        float(string)\n",
    "        return True\n",
    "    except ValueError:\n",
    "        return False\n",
    "\n",
    "def main():\n",
    "    inStr = input(\"enter something at the keyboard: \")\n",
    "    if is_number(inStr) == True:\n",
    "        print(\"you entered the number \" + inStr)\n",
    "    else:\n",
    "        print(\"you entered the non-numeric string \" + inStr)\n",
    "        \n",
    "main()"
   ]
  },
  {
   "cell_type": "markdown",
   "metadata": {
    "deletable": false,
    "editable": false
   },
   "source": [
    "In coding languages like C, C++, C#, and Java, the main application code of a program is usually contained in a function called <code>main()</code>. Python also observes this convention, and the name <code>main()</code> should be reserved for this main thread of execution. Generally, it is a good idea to keep your main application code inside <code>main()</code> for readability; otherwise, it becomes difficult to distinguish UDF's from your main application code! When you invoke <code>main()</code>, this should in turn invoke (call) all the other UDF's that are defined in your source code (<code>.py</code>) file. If you define <code>main()</code> without calling it, nothing will run except all unindented lines of code (i.e., right up against the left margin). <br> "
   ]
  },
  {
   "cell_type": "code",
   "execution_count": 9,
   "metadata": {
    "deletable": false
   },
   "outputs": [
    {
     "name": "stdout",
     "output_type": "stream",
     "text": [
      "the two inputs are 2.5 and 4.0\n",
      "6.5\n",
      "their sum is 6.5\n",
      "10.0\n",
      "their product is 10.0\n"
     ]
    }
   ],
   "source": [
    "def print_two_numbers(a, b): \n",
    "    print(\"the two inputs are \" + str(a) + \" and \" + str(b))\n",
    "    return\n",
    "\n",
    "def add(a, b):\n",
    "    c = a + b\n",
    "    return c\n",
    "\n",
    "def mult(a, b):\n",
    "    c = a * b\n",
    "    return c\n",
    "\n",
    "def main():\n",
    "    print_two_numbers(2.5, 4.0)\n",
    "    c = add(2.5, 4.0)\n",
    "    print(c)\n",
    "    print(\"their sum is \" + str(c))\n",
    "    c = mult(2.5, 4.0)\n",
    "    print(c)\n",
    "    print(\"their product is \" + str(c))\n",
    "\n",
    "main()"
   ]
  },
  {
   "cell_type": "code",
   "execution_count": 11,
   "metadata": {
    "deletable": false
   },
   "outputs": [
    {
     "name": "stdout",
     "output_type": "stream",
     "text": [
      "Enter 0 for both numbers to stop.\n",
      "Enter a number: 3\n",
      "Enter another number: 4\n",
      "Enter an operation (+, -, *, /): +\n",
      "the result is 7.0\n",
      "Enter 0 for both numbers to stop.\n",
      "Enter a number: 3\n",
      "Enter another number: 4\n",
      "Enter an operation (+, -, *, /): -\n",
      "the result is -1.0\n",
      "Enter 0 for both numbers to stop.\n",
      "Enter a number: 0\n",
      "Enter another number: 0\n",
      "goodbye!\n"
     ]
    }
   ],
   "source": [
    "def addtwonums(a, b):\n",
    "    return a + b\n",
    "\n",
    "def subtwonums(a, b):\n",
    "    return a - b\n",
    "\n",
    "def twonumcalc(a, b, op):\n",
    "    c = 0\n",
    "    if op == '+':\n",
    "        c = addtwonums(a, b)\n",
    "    elif op == '-':\n",
    "        c = subtwonums(a, b)\n",
    "    elif op == '*':\n",
    "        c = a * b\n",
    "    elif op == '/':\n",
    "        if b == 0:\n",
    "            print('division by zero is not allowed')\n",
    "        else:\n",
    "            c = a / b\n",
    "    return c\n",
    "\n",
    "def main():\n",
    "    while True:\n",
    "        print('Enter 0 for both numbers to stop.')\n",
    "        x = float(input('Enter a number: '))\n",
    "        y = float(input('Enter another number: '))\n",
    "        if (x == 0 and y == 0):\n",
    "            print('goodbye!')\n",
    "            break\n",
    "        op = input('Enter an operation (+, -, *, /): ')\n",
    "        z = twonumcalc(x, y, op)\n",
    "        print('the result is', z)\n",
    "\n",
    "main()"
   ]
  },
  {
   "cell_type": "markdown",
   "metadata": {
    "deletable": false,
    "editable": false
   },
   "source": [
    "Here is an example of a user-defined function to determine and print the sign of a number, and how it is used"
   ]
  },
  {
   "cell_type": "code",
   "execution_count": 10,
   "metadata": {
    "deletable": false,
    "editable": false
   },
   "outputs": [
    {
     "name": "stdout",
     "output_type": "stream",
     "text": [
      "i =  0.00 is zero\n",
      "x =  0.12 is positive\n",
      "-y =  -3.50 is negative\n"
     ]
    }
   ],
   "source": [
    "def sign(a):\n",
    "    if a < 0:\n",
    "        str = \"{0:.2f} is negative\".format(a)\n",
    "    elif a == 0:\n",
    "        str = \"{0:.2f} is zero\".format(a)\n",
    "    else:\n",
    "        str = \"{0:.2f} is positive\".format(a)\n",
    "    print(str)\n",
    "    return\n",
    "\n",
    "def main():\n",
    "    i = 0\n",
    "    print(\"i = \", end=\" \"); sign(i)\n",
    "    x = \"1.2e-01\"\n",
    "    print(\"x = \", end=\" \"); sign(float(x))\n",
    "    y = 3.5\n",
    "    print(\"-y = \", end=\" \"); sign(-y)\n",
    "\n",
    "main()"
   ]
  },
  {
   "cell_type": "markdown",
   "metadata": {
    "deletable": false,
    "editable": false
   },
   "source": [
    "Functions, whether user-defined or built-in, can also have arguments with default values or optional arguments - see https://realpython.com/python-optional-arguments/. Below are some examples, starting with the built-in <code>print()</code> function, which you have seen used above with the optional argument <code>end</code>, which is usually left out of its <b>signature</b> (definition of a function's inputs and outputs, and their types, if using a strongly-typed language). For the <code>print()</code> function, <code>end</code> has the default value <code>\\r\\n</code> (carriage return and linefeed, or CR-LF), so its default behavior is to print the specified string on its own line. However, if the default value of <code>end=\"\\r\\n\"</code> is overridden by specifying <code>end=\" \"</code>, then <code>print()</code> will print the specified string on a line, but will terminate with a space instead of a CR-LF. <br>\n",
    "\n",
    "N.B. The distinction between <b>parameters</b> and <b>arguments</b> is fussy, so I will often use these terms interchangeably. The RealPython article explains the subtle distinction between the two."
   ]
  },
  {
   "cell_type": "code",
   "execution_count": 11,
   "metadata": {
    "deletable": false,
    "editable": false
   },
   "outputs": [
    {
     "name": "stdout",
     "output_type": "stream",
     "text": [
      "this line of text will be terminated with a CR-LF\n",
      "\n",
      "this will be printed all on one line\n",
      "\n",
      "item one, ..., item two\n",
      "\n",
      "Hello, world!\n",
      "Hello, Tom!\n"
     ]
    }
   ],
   "source": [
    "# for more about the functions and default/optional arguments, see\n",
    "# https://realpython.com/python-optional-arguments/\n",
    "\n",
    "# default behavior of print()\n",
    "print(\"this line of text will be terminated with a CR-LF\")\n",
    "print()\n",
    "\n",
    "# overriding the default CR-LF behavior of print()\n",
    "print(\"this will be printed\", end=\" \")\n",
    "print(\"all on one line\")\n",
    "print()\n",
    "\n",
    "# another example\n",
    "print(\"item one\", end=\", ..., \")\n",
    "print(\"item two\")\n",
    "print()\n",
    "\n",
    "# here is a simple example of a user-defined function with a default argument\n",
    "def helloFunc(name=\"world\"):\n",
    "    print(\"Hello, \" + name + \"!\")\n",
    "    return\n",
    "\n",
    "helloFunc()\n",
    "helloFunc(\"Tom\")"
   ]
  },
  {
   "cell_type": "markdown",
   "metadata": {
    "deletable": false,
    "editable": false
   },
   "source": [
    "Note that function arguments without default values are required inputs - they must be specified when the function is invoked. If they are not specified, an error will result."
   ]
  },
  {
   "cell_type": "code",
   "execution_count": 12,
   "metadata": {
    "deletable": false
   },
   "outputs": [
    {
     "name": "stdout",
     "output_type": "stream",
     "text": [
      "retVal = 2.0\n",
      "\n"
     ]
    },
    {
     "ename": "TypeError",
     "evalue": "addFunc() missing 1 required positional argument: 'num3'",
     "output_type": "error",
     "traceback": [
      "\u001b[1;31m---------------------------------------------------------------------------\u001b[0m",
      "\u001b[1;31mTypeError\u001b[0m                                 Traceback (most recent call last)",
      "\u001b[1;32mC:\\Users\\ERICKA~1\\AppData\\Local\\Temp/ipykernel_106544/3547132623.py\u001b[0m in \u001b[0;36m<module>\u001b[1;34m\u001b[0m\n\u001b[0;32m     12\u001b[0m     \u001b[0mprint\u001b[0m\u001b[1;33m(\u001b[0m\u001b[1;34m\"retVal2 = \"\u001b[0m \u001b[1;33m+\u001b[0m \u001b[0mstr\u001b[0m\u001b[1;33m(\u001b[0m\u001b[0mretVal2\u001b[0m\u001b[1;33m)\u001b[0m \u001b[1;33m+\u001b[0m \u001b[1;34m\"\\n\"\u001b[0m\u001b[1;33m)\u001b[0m\u001b[1;33m\u001b[0m\u001b[1;33m\u001b[0m\u001b[0m\n\u001b[0;32m     13\u001b[0m \u001b[1;33m\u001b[0m\u001b[0m\n\u001b[1;32m---> 14\u001b[1;33m \u001b[0mmain\u001b[0m\u001b[1;33m(\u001b[0m\u001b[1;33m)\u001b[0m\u001b[1;33m\u001b[0m\u001b[1;33m\u001b[0m\u001b[0m\n\u001b[0m",
      "\u001b[1;32mC:\\Users\\ERICKA~1\\AppData\\Local\\Temp/ipykernel_106544/3547132623.py\u001b[0m in \u001b[0;36mmain\u001b[1;34m()\u001b[0m\n\u001b[0;32m      9\u001b[0m \u001b[1;33m\u001b[0m\u001b[0m\n\u001b[0;32m     10\u001b[0m     \u001b[1;31m# this will not run!\u001b[0m\u001b[1;33m\u001b[0m\u001b[1;33m\u001b[0m\u001b[1;33m\u001b[0m\u001b[0m\n\u001b[1;32m---> 11\u001b[1;33m     \u001b[0mretVal2\u001b[0m \u001b[1;33m=\u001b[0m \u001b[0maddFunc\u001b[0m\u001b[1;33m(\u001b[0m\u001b[1;36m3.0\u001b[0m\u001b[1;33m,\u001b[0m \u001b[1;36m1.0\u001b[0m\u001b[1;33m)\u001b[0m\u001b[1;33m\u001b[0m\u001b[1;33m\u001b[0m\u001b[0m\n\u001b[0m\u001b[0;32m     12\u001b[0m     \u001b[0mprint\u001b[0m\u001b[1;33m(\u001b[0m\u001b[1;34m\"retVal2 = \"\u001b[0m \u001b[1;33m+\u001b[0m \u001b[0mstr\u001b[0m\u001b[1;33m(\u001b[0m\u001b[0mretVal2\u001b[0m\u001b[1;33m)\u001b[0m \u001b[1;33m+\u001b[0m \u001b[1;34m\"\\n\"\u001b[0m\u001b[1;33m)\u001b[0m\u001b[1;33m\u001b[0m\u001b[1;33m\u001b[0m\u001b[0m\n\u001b[0;32m     13\u001b[0m \u001b[1;33m\u001b[0m\u001b[0m\n",
      "\u001b[1;31mTypeError\u001b[0m: addFunc() missing 1 required positional argument: 'num3'"
     ]
    }
   ],
   "source": [
    "def addFunc(num1, num2, num3):\n",
    "    myResult = (num1 + num2) / num3\n",
    "    return myResult\n",
    "\n",
    "def main():\n",
    "    # this will run\n",
    "    retVal1 = addFunc(3.0, 1.0, 2.0)\n",
    "    print(\"retVal = \" + str(retVal1) + \"\\n\")\n",
    "\n",
    "    # this will not run!\n",
    "    retVal2 = addFunc(3.0, 1.0)\n",
    "    print(\"retVal2 = \" + str(retVal2) + \"\\n\")\n",
    "    \n",
    "main()"
   ]
  },
  {
   "cell_type": "markdown",
   "metadata": {
    "deletable": false,
    "editable": false
   },
   "source": [
    "You can also invoke functions with <b>keyword</b>, or <b>named</b>, arguments using the syntax shown below. Note that, when invoking the function in this manner, the order of arguments does not need to follow the function signature, since specifying the names of its input parameters removes all ambiguity about which argument goes with which parameter. (This is a case where it's helpful to make the distinction between parameter and argument.)"
   ]
  },
  {
   "cell_type": "code",
   "execution_count": 13,
   "metadata": {
    "deletable": false
   },
   "outputs": [
    {
     "name": "stdout",
     "output_type": "stream",
     "text": [
      "retVal3 = 2.0\n"
     ]
    }
   ],
   "source": [
    "def addFunc(num1, num2, num3):\n",
    "    myResult = (num1 + num2) / num3\n",
    "    return myResult\n",
    "\n",
    "def main():\n",
    "    retVal3 = addFunc(num3=2.0, num2=1.0, num1=3.0)\n",
    "    print(\"retVal3 = \" + str(retVal3))\n",
    "    \n",
    "main()"
   ]
  },
  {
   "cell_type": "markdown",
   "metadata": {
    "deletable": false,
    "editable": false
   },
   "source": [
    "You can read more about functions with a variable number of arguments (and how to unpack them), as well as the perils of using default arguments that happen to be mutable objects in the RealPython article. <br>\n",
    "\n",
    "<div class=\"alert alert-block alert-info\">\n",
    "Your turn again! In each case, be sure to invoke your user-defined function (UDF) in your <code>main()</code> function: <br>\n",
    "    1. Write a UDF <code>randselect()</code> whose input is a list of strings, and whose output (return value) is a randomly selected element from that list. <br>\n",
    "    2. Write another UDF <code>charpos()</code> that takes a string and a character as inputs, then returns a list of the position(s) in the string where the character is found (or an empty list if it is not found). <br>\n",
    "\n",
    "You might use functions like these if you code a Wheel of Fortune! type game.\n",
    "</div>"
   ]
  },
  {
   "cell_type": "code",
   "execution_count": 10,
   "metadata": {
    "deletable": false
   },
   "outputs": [],
   "source": [
    "import random\n",
    "\n",
    "def randselect(inList):\n",
    "    pass\n",
    "\n",
    "def charpos(inString, inChar):\n",
    "    pass\n",
    "\n",
    "def main():\n",
    "    myList = []\n",
    "    myString = \"\"\n",
    "\n",
    "\n",
    "main()"
   ]
  },
  {
   "cell_type": "markdown",
   "metadata": {},
   "source": [
    "your output should resemble this:\n",
    "<pre>\n",
    "myList = ['a', 'b', 'c', 'd', 'e', 'f', 'g']\n",
    "randomly selected element from myList: e\n",
    "\n",
    "myString = 'the quick brown fox jumped over the lazy dog'\n",
    "occurrences of e in myString: [2, 24, 29, 34]\n",
    "</pre>"
   ]
  },
  {
   "cell_type": "markdown",
   "metadata": {
    "deletable": false,
    "editable": false
   },
   "source": [
    "<div class=\"alert alert-block alert-info\">\n",
    "One last exercise - this may remind you of something you did in STEM Math or Science back in 9th grade, using TI-Nspire software. The UDF <code>linfit()</code> that I supplied below takes two lists of points (<code>xVals</code> are their x coordinates, while <code>yVals</code> are their y coordinates) as inputs, and outputs a list containing the slope, y-intercept, and correlation coefficient (technically, R^2 is the 'coefficient of determination') of the best-fit line through the points. Both lists must have the same number of elements. I have also supplied a UDF <code>cmpInt()</code> similar to one you wrote in Intro to Comp Sci. (It computes the total amount after a specified principal accumulates interest compounded monthly over a specified number of years.) <br><br>\n",
    "    1. In your <code>main()</code>, populate <code>xVals</code> with numbers from 1 to 10 <br>\n",
    "    2. Using <code>cmpInt()</code>, compute the total amount accumulated after the number of years in <code>xVals</code>, assuming a principal of $1000 with an annual interest rate of 5%, and populate <code>yVals</code> with these values. (You may want to use a loop in order to calculate the values to populate the list <code>yVals</code>, and round each value to two decimal places.) <br>\n",
    "    3. Then, using <code>linfit()</code>, compute the slope and y-intercept of a linear fit through the points. Print out <code>xVals</code>, <code>yVals</code>, compute the y values from the linear fit and print those out, and finally, print the slope and intercept. In the next notebook, you will make a plot of these values and the fitted line. This will illustrate how much faster compound interest grows than simple interest. \n",
    "</div>"
   ]
  },
  {
   "cell_type": "code",
   "execution_count": 7,
   "metadata": {
    "deletable": false
   },
   "outputs": [],
   "source": [
    "import math\n",
    "\n",
    "def linfit(xVals, yVals) -> list:\n",
    "    slope = 0.\n",
    "    yInt = 0.\n",
    "    R2 = 0.\n",
    "    \n",
    "    nPts = len(xVals)\n",
    "    if len(yVals) != nPts:\n",
    "        print(\"error: sizes of xVals and yVals are unequal!\")\n",
    "    elif nPts < 2:\n",
    "        print(\"error: xVals and yVals must have at least two points!\")\n",
    "    else:\n",
    "        Sx = 0.\n",
    "        Sy = 0.\n",
    "        Sxx = 0.\n",
    "        Sxy = 0.\n",
    "        Syy = 0.\n",
    "        for x in xVals:\n",
    "            Sx += x\n",
    "            Sxx += x * x\n",
    "        i = 0\n",
    "        for y in yVals:\n",
    "            Sy += y\n",
    "            Syy += y * y\n",
    "            Sxy += y * xVals[i]\n",
    "            i += 1\n",
    "        denom1 = nPts * Sxx - Sx * Sx\n",
    "        num1 = nPts * Sxy - Sx * Sy\n",
    "        slope = num1 / denom1\n",
    "        yInt = (Sy * Sxx - Sx * Sxy) / denom1\n",
    "        denom2 = (nPts * Sxx - Sx * Sx) * (nPts * Syy - Sy * Sy)\n",
    "        R2 = num1 * num1 / denom2\n",
    "        \n",
    "    return [slope, yInt, R2]\n",
    "\n",
    "def cmpInt(princ, rate, term):\n",
    "    if rate > 1.0:\n",
    "        rate /= 100.\n",
    "    A = princ * math.pow(1.0 + rate / 12., term * 12.)\n",
    "    return A\n",
    "\n",
    "def main():\n",
    "    pass\n",
    "    \n",
    "main()"
   ]
  },
  {
   "cell_type": "markdown",
   "metadata": {
    "deletable": false,
    "editable": false
   },
   "source": [
    "your output should resemble this:\n",
    "<pre>\n",
    "times in years: [1, 2, 3, 4, 5, 6, 7, 8, 9, 10]\n",
    "total amounts: [1051.16, 1104.94, 1161.47, 1220.9, 1283.36, 1349.02, 1418.04, 1490.59, 1566.85, 1647.01]\n",
    "linear fit to amounts: [1032.1, 1098.15, 1164.2, 1230.25, 1296.31, 1362.36, 1428.41, 1494.47, 1560.52, 1626.57]\n",
    "slope = 66.05 per year, intercept = 966.04\n",
    "</pre>"
   ]
  },
  {
   "cell_type": "markdown",
   "metadata": {
    "deletable": false,
    "editable": false
   },
   "source": [
    "In order to find all the modules that are available to you (i.e., that have been installed), run <code>help('modules')</code> - there's a <b>lot</b> of output here!"
   ]
  },
  {
   "cell_type": "code",
   "execution_count": null,
   "metadata": {
    "deletable": false
   },
   "outputs": [],
   "source": [
    "help('modules')"
   ]
  },
  {
   "cell_type": "markdown",
   "metadata": {
    "deletable": false,
    "editable": false
   },
   "source": [
    "Available modules in Python:\n",
    "\n",
    "```\n",
    "Cython              colorcet            kaggle              quopri\n",
    "IPython             colorlover          kapre               random\n",
    "OpenGL              colorsys            keras               re\n",
    "PIL                 community           keras_preprocessing readline\n",
    "ScreenResolution    compileall          keyword             regex\n",
    "__future__          concurrent          kiwisolver          reprlib\n",
    "_abc                configparser        korean_lunar_calendar requests\n",
    "_ast                contextlib          lib2to3             requests_oauthlib\n",
    "_asyncio            contextlib2         libfuturize         resampy\n",
    "_bisect             contextvars         libpasteurize       resource\n",
    "_blake2             convertdate         librosa             retrying\n",
    "_bootlocale         copy                lightgbm            rlcompleter\n",
    "_bz2                copyreg             linecache           rmagic\n",
    "_cffi_backend       coverage            llvmlite            rpy2\n",
    "_codecs             coveralls           lmdb                rsa\n",
    "_codecs_cn          crcmod              locale              runpy\n",
    "_codecs_hk          crypt               logging             samples\n",
    "_codecs_iso2022     csv                 lsb_release         sched\n",
    "_codecs_jp          ctypes              lunarcalendar       scipy\n",
    "_codecs_kr          cufflinks           lxml                scs\n",
    "_codecs_tw          curses              lzma                seaborn\n",
    "_collections        cv2                 macpath             secrets\n",
    "_collections_abc    cvxopt              mailbox             select\n",
    "_compat_pickle      cvxpy               mailcap             selectors\n",
    "_compression        cycler              markdown            semver\n",
    "_contextvars        cymem               markupsafe          send2trash\n",
    "_crypt              cython              marshal             setuptools\n",
    "_csv                cythonmagic         math                setuptools_git\n",
    "_ctypes             daft                matplotlib          shapely\n",
    "_ctypes_test        dask                matplotlib_inline   shelve\n",
    "_curses             dataclasses         matplotlib_venn     shlex\n",
    "_curses_panel       datascience         mimetypes           shutil\n",
    "_cvxcore            datetime            missingno           signal\n",
    "_datetime           dateutil            mistune             simplegeneric\n",
    "_dbm                dbm                 mizani              site\n",
    "_decimal            dbus                mlxtend             sitecustomize\n",
    "_distutils_hack     debugpy             mmap                six\n",
    "_dummy_thread       decimal             modulefinder        skimage\n",
    "_ecos               decorator           more_itertools      sklearn\n",
    "_elementtree        defusedxml          moviepy             sklearn_pandas\n",
    "_functools          descartes           mpmath              slugify\n",
    "_hashlib            difflib             msgpack             smart_open\n",
    "_heapq              dill                multiprocess        smtpd\n",
    "_imp                dis                 multiprocessing     smtplib\n",
    "_io                 distributed         multitasking        sndhdr\n",
    "_json               distutils           murmurhash          snowballstemmer\n",
    "_locale             dlib                music21             socket\n",
    "_lsprof             docopt              natsort             socketserver\n",
    "_lzma               docs                nbclient            socks\n",
    "_markupbase         doctest             nbconvert           sockshandler\n",
    "_md5                docutils            nbformat            softwareproperties\n",
    "_multibytecodec     dopamine            nest_asyncio        sortedcontainers\n",
    "_multiprocess       dot_parser          netCDF4             soundfile\n",
    "_multiprocessing    dummy_threading     netrc               spacy\n",
    "_opcode             easydict            networkx            sphinx\n",
    "_operator           ecos                nibabel             spwd\n",
    "_osx_support        editdistance        nis                 sql\n",
    "_pickle             ee                  nisext              sqlalchemy\n",
    "_plotly_future_     email               nltk                sqlite3\n",
    "_plotly_utils       en_core_web_sm      nntplib             sqlparse\n",
    "_posixsubprocess    encodings           notebook            sre_compile\n",
    "_py_abc             entrypoints         ntpath              sre_constants\n",
    "_pydecimal          enum                nturl2path          sre_parse\n",
    "_pyio               ephem               numba               srsly\n",
    "_pyrsistent_version erfa                numbergen           ssl\n",
    "_pytest             errno               numbers             stat\n",
    "_queue              et_xmlfile          numexpr             statistics\n",
    "_random             examples            numpy               statsmodels\n",
    "_rinterface_cffi_abi fa2                 nvidia_smi          storemagic\n",
    "_rinterface_cffi_api fastai              oauth2client        string\n",
    "_scs_direct         fastdtw             oauthlib            stringprep\n",
    "_scs_indirect       fastprogress        ogr                 struct\n",
    "_scs_python         fastrlock           okgrade             subprocess\n",
    "_sha1               faulthandler        opcode              sunau\n",
    "_sha256             fbprophet           openpyxl            symbol\n",
    "_sha3               fcntl               operator            sympy\n",
    "_sha512             feather             opt_einsum          sympyprinting\n",
    "_signal             filecmp             optparse            symtable\n",
    "_sitebuiltins       fileinput           os                  sys\n",
    "_socket             filelock            osgeo               sysconfig\n",
    "_soundfile          firebase_admin      osqp                syslog\n",
    "_sqlite3            fix_yahoo_finance   osqppurepy          tables\n",
    "_sre                flask               osr                 tabnanny\n",
    "_ssl                flatbuffers         ossaudiodev         tabulate\n",
    "_stat               fnmatch             packaging           tarfile\n",
    "_string             folium              palettable          tblib\n",
    "_strptime           formatter           pandas              telnetlib\n",
    "_struct             fractions           pandas_datareader   tempfile\n",
    "_symtable           ftplib              pandas_gbq          tensorboard\n",
    "_sysconfigdata_m_linux_x86_64-linux-gnu functools           pandas_profiling    tensorboard_data_server\n",
    "_testbuffer         future              pandocfilters       tensorboard_plugin_wit\n",
    "_testcapi           gast                panel               tensorflow\n",
    "_testimportmultiple gc                  param               tensorflow_datasets\n",
    "_testmultiphase     gdal                parser              tensorflow_estimator\n",
    "_thread             gdalconst           parso               tensorflow_gcs_config\n",
    "_threading_local    gdalnumeric         past                tensorflow_hub\n",
    "_tkinter            gdown               pasta               tensorflow_metadata\n",
    "_tracemalloc        genericpath         pathlib             tensorflow_probability\n",
    "_warnings           gensim              patsy               termcolor\n",
    "_weakref            geographiclib       pdb                 terminado\n",
    "_weakrefset         geopy               pep517              termios\n",
    "_xxtestfuzz         getopt              pexpect             test\n",
    "abc                 getpass             pickle              testpath\n",
    "absl                gettext             pickleshare         tests\n",
    "aifc                gi                  pickletools         text_unidecode\n",
    "alabaster           gin                 pip                 textblob\n",
    "albumentations      github2pypi         pipes               textwrap\n",
    "altair              glob                piptools            theano\n",
    "antigravity         glob2               pkg_resources       thinc\n",
    "apiclient           gnm                 pkgutil             this\n",
    "appdirs             google_auth_httplib2 plac                threading\n",
    "apt                 google_auth_oauthlib plac_core           tifffile\n",
    "apt_inst            google_drive_downloader plac_ext            time\n",
    "apt_pkg             googleapiclient     plac_tk             timeit\n",
    "aptsources          googlesearch        platform            tkinter\n",
    "argcomplete         graphviz            plistlib            tlz\n",
    "argon2              greenlet            plotly              token\n",
    "argparse            gridfs              plotlywidget        tokenize\n",
    "array               grp                 plotnine            toml\n",
    "arviz               grpc                pluggy              tomli\n",
    "ast                 gspread             pooch               toolz\n",
    "astor               gspread_dataframe   poplib              torch\n",
    "astropy             gym                 portpicker          torchsummary\n",
    "astunparse          gzip                posix               torchtext\n",
    "asynchat            h5py                posixpath           torchvision\n",
    "asyncio             hashlib             pprint              tornado\n",
    "asyncore            heapdict            prefetch_generator  tqdm\n",
    "atari_py            heapq               preshed             trace\n",
    "atexit              hijri_converter     prettytable         traceback\n",
    "atomicwrites        hmac                profile             tracemalloc\n",
    "attr                holidays            progressbar         traitlets\n",
    "audioop             holoviews           prometheus_client   tree\n",
    "audioread           html                promise             tty\n",
    "autograd            html5lib            prompt_toolkit      turtle\n",
    "autoreload          http                pstats              tweepy\n",
    "babel               httpimport          psutil              typeguard\n",
    "backcall            httplib2            psycopg2            types\n",
    "base64              httplib2shim        pty                 typing\n",
    "bdb                 humanize            ptyprocess          typing_extensions\n",
    "bin                 hyperopt            pvectorc            tzlocal\n",
    "binascii            ideep4py            pwd                 unicodedata\n",
    "binhex              idna                py                  unittest\n",
    "bisect              imageio             py_compile          uritemplate\n",
    "bleach              imagesize           pyarrow             urllib\n",
    "blis                imaplib             pyasn1              urllib3\n",
    "bokeh               imblearn            pyasn1_modules      uu\n",
    "boost               imgaug              pyclbr              uuid\n",
    "bottleneck          imghdr              pycocotools         vega_datasets\n",
    "branca              imp                 pycparser           venv\n",
    "bs4                 importlib           pyct                vis\n",
    "bson                importlib_metadata  pydata_google_auth  warnings\n",
    "builtins            importlib_resources pydoc               wasabi\n",
    "bz2                 imutils             pydoc_data          wave\n",
    "cProfile            inflect             pydot               wcwidth\n",
    "cachecontrol        iniconfig           pydot_ng            weakref\n",
    "cached_property     inspect             pydotplus           webbrowser\n",
    "cachetools          intervaltree        pydrive             webencodings\n",
    "caffe2              io                  pyemd               werkzeug\n",
    "calendar            ipaddress           pyexpat             wheel\n",
    "catalogue           ipykernel           pyglet              widgetsnbextension\n",
    "certifi             ipykernel_launcher  pygments            wordcloud\n",
    "cffi                ipython_genutils    pygtkcompat         wrapt\n",
    "cftime              ipywidgets          pylab               wsgiref\n",
    "cgi                 isympy              pymc3               xarray\n",
    "cgitb               itertools           pymeeus             xdrlib\n",
    "chardet             itsdangerous        pymongo             xgboost\n",
    "charset_normalizer  jax                 pymystem3           xkit\n",
    "chess               jaxlib              pynvml              xlrd\n",
    "chunk               jdcal               pyparsing           xlwt\n",
    "clang               jedi                pyrsistent          xml\n",
    "click               jieba               pysndfile           xmlrpc\n",
    "client              jinja2              pystan              xxlimited\n",
    "cloudpickle         joblib              pytest              xxsubtype\n",
    "cmake               jpeg4py             python_utils        yaml\n",
    "cmath               json                pytz                yellowbrick\n",
    "cmd                 jsonschema          pyviz_comms         zict\n",
    "cmdstanpy           jupyter             pywt                zipapp\n",
    "code                jupyter_client      pyximport           zipfile\n",
    "codecs              jupyter_console     qdldl               zipimport\n",
    "codeop              jupyter_core        qtconsole           zipp\n",
    "colab               jupyterlab_pygments qtpy                zlib\n",
    "collections         jupyterlab_widgets  queue               zmq\n",
    "```"
   ]
  },
  {
   "cell_type": "code",
   "execution_count": null,
   "metadata": {},
   "outputs": [],
   "source": []
  }
 ],
 "metadata": {
  "celltoolbar": "Edit Metadata",
  "colab": {
   "collapsed_sections": [],
   "name": "UDF Python Colab notebook.ipynb",
   "provenance": []
  },
  "kernelspec": {
   "display_name": "Python 3 (ipykernel)",
   "language": "python",
   "name": "python3"
  },
  "language_info": {
   "codemirror_mode": {
    "name": "ipython",
    "version": 3
   },
   "file_extension": ".py",
   "mimetype": "text/x-python",
   "name": "python",
   "nbconvert_exporter": "python",
   "pygments_lexer": "ipython3",
   "version": "3.9.13"
  }
 },
 "nbformat": 4,
 "nbformat_minor": 1
}
