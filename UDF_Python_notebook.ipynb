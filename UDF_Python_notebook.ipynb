{
 "cells": [
  {
   "cell_type": "markdown",
   "metadata": {
    "id": "OtDV7d-vfUKY"
   },
   "source": [
    "## **Built-In and User-Defined Functions - Python notebook**\n",
    "\n"
   ]
  },
  {
   "cell_type": "markdown",
   "metadata": {
    "id": "WkSjvjOf7bqc"
   },
   "source": [
    "#### Built-in functions\n",
    "\n",
    "see https://www.w3schools.com/python/python_ref_functions.asp\n",
    "\n",
    "There is a large number of [built-in functions](https://www.javatpoint.com/python-built-in-functions) in Python. Here, we will illustrate the use of selected built-in functions: <code>float()</code>, <code>int()</code>, <code>hex()</code>, <code>oct()</code>, <code>min()</code>, <code>max()</code>, <code>round()</code>, <code>type()</code>, and <code>str()</code>. <br><br>\n",
    "\n",
    "| Function |  Description  |  Example  |\n",
    "| --: | :-- | :-- |\n",
    "| <code>float()</code> | converts the specified value into a floating-point number | <code>x = float(s)</code> |\n",
    "| <code>int()</code> | converts (or truncates) the specified value into an integer | <code>n = int(x)</code> |\n",
    "| <code>hex()</code> | converts the specified base-10 integer to its base-16 representation | <code>m = hex(n)</code> |\n",
    "| <code>oct()</code> | converts the specified base-10 integer to its base-8 representation | <code>m = oct(n)</code> |\n",
    "| <code>bin()</code> | converts the specified base-10 integer to its base-2 representation | <code>m = bin(n)</code> |\n",
    "| <code>str()</code> | converts the specified value into its string representation | <code>s = str(x)</code> |\n",
    "| <code>min()</code> | returns the item with the smallest value (also works with a list) | <code>m = min(x1, x2, ... , xN)</code> |\n",
    "| <code>max()</code> | returns the item with the largest value (also works with a list) | <code>M = max(x1, x2, ... , xN)</code> |\n",
    "| <code>abs()</code> | returns the absolute value of the specified number | <code>a = abs(x)</code> |\n",
    "| <code>round()</code> | returns a floating-point value that is the specified number rounded to a specified number of decimal places | <code>y = round(x, n)</code> |\n",
    "| <code>type()</code> | returns the type of a specified object | <code>t = type(x)</code> |\n",
    "| <code>len()</code> | returns the number of items in an object (or the number of characters in a string) | <code>n = len(s)</code> |"
   ]
  },
  {
   "cell_type": "markdown",
   "metadata": {
    "id": "LJhszJQAhUUi"
   },
   "source": [
    "some examples of built-in functions and their usage"
   ]
  },
  {
   "cell_type": "code",
   "execution_count": 78,
   "metadata": {
    "colab": {
     "base_uri": "https://localhost:8080/"
    },
    "id": "3t5BJyWc7aW9",
    "outputId": "7659731f-55b7-43b8-ad01-880d5ffa4da7"
   },
   "outputs": [
    {
     "name": "stdout",
     "output_type": "stream",
     "text": [
      "a = 63\n",
      "<class 'int'>\n",
      "hex(a) = 0x3f\n",
      "oct(a) = 0o77\n",
      "float(a) = 63.0\n",
      "\n",
      "b = [13, 5, -23, 17, -9, 0]\n",
      "<class 'list'>\n",
      "min(b) = -23\n",
      "\n",
      "c = -4.8749\n",
      "<class 'float'>\n",
      "int(c) = -4\n",
      "round(c) = -5\n",
      "round(c, 1) = -4.9\n",
      "round(c, 2) = -4.87\n",
      "\n",
      "d = \"-4.8749\"\n",
      "<class 'str'>\n",
      "float(d) = -4.8749\n",
      "<class 'float'>\n",
      "\n",
      "e = range(-2, 6)\n",
      "s is its representation as a string\n",
      "s = \"-2, -1, 0, 1, 2, 3, 4, 5, \"\n",
      "e is of type <class 'range'>\n",
      "s is of type <class 'str'>\n",
      "\n",
      "enter a number, some text, anything: -1.23E-04\n",
      "you entered -1.23E-04 of type <class 'str'>\n"
     ]
    }
   ],
   "source": [
    "a = 63\n",
    "print(\"a =\", end=\" \"); print(a)\n",
    "print(type(a))\n",
    "print(\"hex(a) =\", end=\" \"); print(hex(a))\n",
    "print(\"oct(a) =\", end=\" \"); print(oct(a))\n",
    "print(\"float(a) =\", end=\" \"); print(float(a))\n",
    "print()\n",
    "\n",
    "b = [13, 5, -23, 17, -9, 0]\n",
    "print(\"b =\", end = \" \"); print(b)\n",
    "print(type(b))\n",
    "print(\"min(b) =\", end=\" \"); print(min(b))\n",
    "print()\n",
    "\n",
    "c = -4.8749\n",
    "print(\"c =\", end = \" \"); print(c)\n",
    "print(type(c))\n",
    "print(\"int(c) =\", end = \" \"); print(int(c))\n",
    "print(\"round(c) =\", end = \" \"); print(round(c))\n",
    "print(\"round(c, 1) =\", end = \" \"); print(round(c, 1))\n",
    "print(\"round(c, 2) =\", end = \" \"); print(round(c, 2))\n",
    "print()\n",
    "\n",
    "d = \"-4.8749\"\n",
    "print(\"d =\", end = \" \"); print('\\\"' + d + '\\\"')\n",
    "print(type(d))\n",
    "print(\"float(d) =\", end = \" \"); print(float(d))\n",
    "print(type(float(d)))\n",
    "print()\n",
    "\n",
    "e = range(-2, 6)\n",
    "s = ''\n",
    "for x in e:\n",
    "    s += str(x) + ', '\n",
    "print(\"e = range(-2, 6)\"); print(\"s is its representation as a string\")\n",
    "print('s = \\\"' + s + '\\\"')\n",
    "print(\"e is of type\", end=\" \"); print(type(e))\n",
    "print(\"s is of type\", end=\" \"); print(type(s))\n",
    "print()\n",
    "\n",
    "if 1:  # this is a cute way of \"commenting out (0) or uncommenting (1)\" a block of code\n",
    "    f = input('enter a number, some text, anything: ')\n",
    "    print('you entered ' + f + ' of type ' + str(type(f)))"
   ]
  },
  {
   "cell_type": "markdown",
   "metadata": {
    "id": "PYBjldXzhata"
   },
   "source": [
    "<div class=\"alert alert-block alert-info\">\n",
    "try some yourself! run the cell above in order to assign values to <code>a</code>, <code>b</code>, <code>c</code>, <code>d</code>, and <code>e</code>. then, in the cell below, write some code using built-in functions to determine and print: <br>\n",
    "1. the binary representation of <code>a</code> <br>\n",
    "2. the maximum element of the list <code>b</code> <br>\n",
    "3. the number of elements in the list <code>b</code> <br>\n",
    "4. the absolute value of <code>c</code> <br>\n",
    "5. a list containing the elements of range <code>e</code> <br>\n",
    "    \n",
    "In the cell above, why does it return <code>< class 'str' ></code> no matter what you input?\n",
    "</div>"
   ]
  },
  {
   "cell_type": "code",
   "execution_count": null,
   "metadata": {
    "id": "0RlLkPqKioP7"
   },
   "outputs": [],
   "source": []
  },
  {
   "cell_type": "markdown",
   "metadata": {
    "id": "fs-IPB_pizCe"
   },
   "source": [
    "now, let's see some examples of functions imported from modules (see the *long* list of available modules at the bottom of this notebook)\n",
    "\n",
    "below is a sample of code that use the <code>random</code> module. why might there be duplicate cards in the first set of hands, but not in the second?"
   ]
  },
  {
   "cell_type": "code",
   "execution_count": 109,
   "metadata": {
    "colab": {
     "base_uri": "https://localhost:8080/"
    },
    "id": "hvWwxauujKxI",
    "outputId": "954ba109-bd04-42b7-cdc8-1b32b0cf0397"
   },
   "outputs": [
    {
     "name": "stdout",
     "output_type": "stream",
     "text": [
      "number of cards in the deck: 52\n",
      "\n",
      "deck before shuffle: ['♣1', '♣2', '♣3', '♣4', '♣5', '♣6', '♣7', '♣8', '♣9', '♣10', '♣11', '♣12', '♣13', '♦1', '♦2', '♦3', '♦4', '♦5', '♦6', '♦7', '♦8', '♦9', '♦10', '♦11', '♦12', '♦13', '♥1', '♥2', '♥3', '♥4', '♥5', '♥6', '♥7', '♥8', '♥9', '♥10', '♥11', '♥12', '♥13', '♠1', '♠2', '♠3', '♠4', '♠5', '♠6', '♠7', '♠8', '♠9', '♠10', '♠11', '♠12', '♠13']\n",
      "\n",
      "hand 1: ['♥3', '♠10', '♦2']\n",
      "hand 2: ['♥7', '♥8', '♣12']\n",
      "hand 3: ['♣1', '♥5', '♠2']\n",
      "hand 4: ['♥3', '♠8', '♣3']\n",
      "hand 5: ['♠5', '♦12', '♦7']\n",
      "hand 6: ['♠2', '♠9', '♥1']\n",
      "hand 7: ['♣2', '♣2', '♥7']\n",
      "hand 8: ['♥4', '♠4', '♣8']\n",
      "hand 9: ['♠10', '♣2', '♣11']\n",
      "hand 10: ['♠6', '♥5', '♠12']\n",
      "\n",
      "deck after shuffle: ['♠4', '♠7', '♣1', '♠12', '♣5', '♥7', '♥11', '♥3', '♣11', '♠13', '♠9', '♠1', '♠6', '♠5', '♣12', '♠3', '♦13', '♦4', '♣13', '♠2', '♦11', '♣3', '♣7', '♦12', '♣10', '♦10', '♣9', '♦6', '♣4', '♦3', '♥1', '♦9', '♠8', '♥9', '♥13', '♠11', '♥5', '♠10', '♥4', '♥10', '♦7', '♦1', '♦8', '♦5', '♣8', '♥8', '♥2', '♥12', '♥6', '♣6', '♦2', '♣2']\n",
      "\n",
      "hand 1: ['♠4', '♠7', '♣1']\n",
      "hand 2: ['♠12', '♣5', '♥7']\n",
      "hand 3: ['♥11', '♥3', '♣11']\n",
      "hand 4: ['♠13', '♠9', '♠1']\n",
      "hand 5: ['♠6', '♠5', '♣12']\n",
      "hand 6: ['♠3', '♦13', '♦4']\n",
      "hand 7: ['♣13', '♠2', '♦11']\n",
      "hand 8: ['♣3', '♣7', '♦12']\n",
      "hand 9: ['♣10', '♦10', '♣9']\n",
      "hand 10: ['♦6', '♣4', '♦3']\n"
     ]
    }
   ],
   "source": [
    "# for more about the random module, see\n",
    "# https://www.geeksforgeeks.org/random-numbers-in-python/\n",
    "import random\n",
    "\n",
    "def main():\n",
    "    m = 10  # number of hands to deal\n",
    "    n = 3   # number of cards in each hand\n",
    "    deck = []\n",
    "    hand = []\n",
    "    suits = ['♣', '♦', '♥', '♠']\n",
    "    for i in range(0, 4):\n",
    "        for j in range(1, 14):\n",
    "            s = suits[i] + str(j)\n",
    "            deck.append(s)\n",
    "    print(\"number of cards in the deck: \" + str(len(deck)))\n",
    "    print()\n",
    "\n",
    "    print(\"deck before shuffle: \" + str(deck))\n",
    "    print()\n",
    "    for k in range(m):\n",
    "        hand.clear()\n",
    "        for p in range(n):\n",
    "            q = random.randint(0, len(deck)-1)  # note that randint() behaves differently than range()!\n",
    "            hand.append(deck[q])\n",
    "        print(\"hand \" + str(k+1) + \": \" + str(hand))\n",
    "    print()\n",
    "    \n",
    "    random.shuffle(deck)\n",
    "    print(\"deck after shuffle: \" + str(deck))\n",
    "    print()\n",
    "    \n",
    "    for k in range(m):\n",
    "        hand.clear()\n",
    "        for p in range(n):\n",
    "            hand.append(deck[0])\n",
    "            deck.remove(deck[0])\n",
    "        print(\"hand \" + str(k+1) + \": \" + str(hand))\n",
    "        \n",
    "main()"
   ]
  },
  {
   "cell_type": "markdown",
   "metadata": {
    "id": "bIImA8ibtPAt"
   },
   "source": [
    "<div class=\"alert alert-block alert-info\">\n",
    "now you try: write some code below that <br>\n",
    "    1. creates a list of 10 random integers between 1 and 10 <br>\n",
    "    2. prints out the list <br>\n",
    "    3. identifies and prints which numbers occur more than once <br>\n",
    "    4. counts and prints the number of times each of the non-unique numbers occurs <br>\n",
    "    \n",
    "verify that your code works every time you run it! <br>\n",
    "<b>extra challenge</b>: print out the indices (positions in the list) at which the non-unique numbers occur.\n",
    "</div>"
   ]
  },
  {
   "cell_type": "code",
   "execution_count": null,
   "metadata": {
    "id": "6Dfbxs-ytxR1"
   },
   "outputs": [],
   "source": []
  },
  {
   "cell_type": "markdown",
   "metadata": {
    "id": "2_WhYkMPuAF8"
   },
   "source": [
    "below are some samples of code that use the <code>date</code>, <code>time</code>, <code>datetime</code>, and <code>tz</code> modules"
   ]
  },
  {
   "cell_type": "code",
   "execution_count": 113,
   "metadata": {
    "colab": {
     "base_uri": "https://localhost:8080/"
    },
    "id": "WFjWoalYlKYT",
    "outputId": "894e8f95-f9c9-4da2-a16a-dbca5b59b25f"
   },
   "outputs": [
    {
     "name": "stdout",
     "output_type": "stream",
     "text": [
      "tzfile('US/Eastern')\n",
      "2022-02-07 17:03:17.002326-05:00\n",
      "2022-02-07 22:03:17.002326\n",
      "17:03:17.002326\n",
      "2022-02-07\n"
     ]
    }
   ],
   "source": [
    "# for more about the datetime module, see\n",
    "# https://www.geeksforgeeks.org/python-datetime-module/\n",
    "from datetime import date, time, datetime\n",
    "from dateutil import tz\n",
    "\n",
    "timezone = tz.gettz('America/New_York')\n",
    "print(timezone)\n",
    "now = datetime.now(tz=timezone)\n",
    "print(now)               # in Eastern timezone\n",
    "print(datetime.utcnow()) # in UTC\n",
    "\n",
    "s = \"{0:02d}:{1:02d}:{2:02d}.{3:06d}\".format(now.hour, now.minute, now.second, now.microsecond) \n",
    "#s = str(now.hour) + \":\" + str(now.minute) + \":\" + str(now.second)\n",
    "print(s)\n",
    "print(date.today()) "
   ]
  },
  {
   "cell_type": "markdown",
   "metadata": {
    "id": "tnq6xl-Nr7o4"
   },
   "source": [
    "<div class=\"alert alert-block alert-info\">\n",
    "your turn! look up examples of how to use the <code>datetime</code> and <code>timedelta</code> modules (<a href=https://miguendes.me/how-to-use-datetimetimedelta-in-python-with-examples>https://miguendes.me/how-to-use-datetimetimedelta-in-python-with-examples</a>). then, write some code below that: <br>\n",
    "1. sets <code>t1</code> = your birthday <br>\n",
    "2. sets <code>t2</code> = today <br>\n",
    "3. computes the difference between today and your birthday, and expresses the result in days <br>\n",
    "4. computes the same difference, but expresses the result in hours <br>\n",
    "5. computes the same difference, but expresses the result in minutes <br>\n",
    "</div>"
   ]
  },
  {
   "cell_type": "code",
   "execution_count": null,
   "metadata": {
    "id": "gyXY_9CNsqnA"
   },
   "outputs": [],
   "source": []
  },
  {
   "cell_type": "markdown",
   "metadata": {},
   "source": [
    "#### User-defined functions\n",
    "\n",
    "You, the user, can <b>define</b> your own functions using the keyword <code>def</code>. The format of a function definition looks similar to that of an <code>if</code> or <code>while</code> block:\n",
    "<pre>\n",
    "def myFunction(input1, input2, ..., inputN):\n",
    "    do something\n",
    "    do something\n",
    "    do something\n",
    "    . . .\n",
    "    return\n",
    "</pre>\n",
    "You may give your function any name you wish, but <b>DO NOT</b> use keywords or the names of built-in functions for the name of your own function! A user-defined function (UDF) may take as many inputs as you wish, or none at all; it may return a value (that is, assign a value to a variable in the calling function), or it may return nothing. Functions can take inputs of any type. Statements in the body of a UDF that make up the function <b>MUST</b> be indented; outdented lines are not part of the function. <br>\n",
    "\n",
    "It turns out that, unlike Java, Python does not have a function <code>isNumeric()</code> that can be used to determine whether an object represents a numeric data type or not. Instead, I have defined a simple user-defined function <code>is_number()</code> in the cell below. Run this cell to show how it is invoked to take something entered by the user (using <code>input()</code>) and convert it to an <code>int</code> or <code>float</code> ONLY IF it is a number.\n"
   ]
  },
  {
   "cell_type": "code",
   "execution_count": 110,
   "metadata": {},
   "outputs": [
    {
     "name": "stdout",
     "output_type": "stream",
     "text": [
      "enter something at the keyboard: -1.234E-05\n",
      "you entered the number -1.234E-05\n"
     ]
    }
   ],
   "source": [
    "def is_number(string):\n",
    "    try:\n",
    "        float(string)\n",
    "        return True\n",
    "    except ValueError:\n",
    "        return False\n",
    "\n",
    "def main():\n",
    "    inStr = input(\"enter something at the keyboard: \")\n",
    "    if is_number(inStr) == True:\n",
    "        print(\"you entered the number \" + inStr)\n",
    "    else:\n",
    "        print(\"you entered the non-numeric string \" + inStr)\n",
    "        \n",
    "main()"
   ]
  },
  {
   "cell_type": "markdown",
   "metadata": {},
   "source": [
    "In coding languages like C, C++, C#, and Java, the main application code of a program is usually contained in a function called <code>main()</code>. Python also observes this convention, and the name <code>main()</code> should be reserved for this main thread of execution. Generally, it is a good idea to keep your main application code inside <code>main()</code> for readability; otherwise, it becomes difficult to distinguish UDF's from your main application code! When you invoke <code>main()</code>, this should in turn invoke (call) all the other UDF's that are defined in your source code (<code>.py</code>) file. If you define <code>main()</code> without calling it, nothing will run except all unindented lines of code (i.e., right up against the left margin). <br> "
   ]
  },
  {
   "cell_type": "code",
   "execution_count": 112,
   "metadata": {},
   "outputs": [
    {
     "name": "stdout",
     "output_type": "stream",
     "text": [
      "the two inputs are 2.5 and 4.0\n",
      "6.5\n",
      "their sum is 6.5\n",
      "10.0\n",
      "their product is 10.0\n"
     ]
    }
   ],
   "source": [
    "def print_two_numbers(a, b): \n",
    "    print(\"the two inputs are \" + str(a) + \" and \" + str(b))\n",
    "    return\n",
    "\n",
    "def add(a, b):\n",
    "    c = a + b\n",
    "    return c\n",
    "\n",
    "def mult(a, b):\n",
    "    c = a * b\n",
    "    return c\n",
    "\n",
    "def main():\n",
    "    print_two_numbers(2.5, 4.0)\n",
    "    c = add(2.5, 4.0)\n",
    "    print(c)\n",
    "    print(\"their sum is \" + str(c))\n",
    "    c = mult(2.5, 4.0)\n",
    "    print(c)\n",
    "    print(\"their product is \" + str(c))\n",
    "\n",
    "main()"
   ]
  },
  {
   "cell_type": "markdown",
   "metadata": {
    "id": "77Wgebafurzz"
   },
   "source": [
    "here is an example of a user-defined function to determine and print the sign of a number, and how it is used"
   ]
  },
  {
   "cell_type": "code",
   "execution_count": 77,
   "metadata": {
    "colab": {
     "base_uri": "https://localhost:8080/"
    },
    "id": "wkj2_FrUbwe8",
    "outputId": "ce5e0dd2-0d3a-453c-de56-47b90c0e0fe0"
   },
   "outputs": [
    {
     "name": "stdout",
     "output_type": "stream",
     "text": [
      "i =  0.00 is zero\n",
      "x =  0.12 is positive\n",
      "-y =  -3.50 is negative\n"
     ]
    }
   ],
   "source": [
    "def sign(a):\n",
    "    if a < 0:\n",
    "        str = \"{0:.2f} is negative\".format(a)\n",
    "    elif a == 0:\n",
    "        str = \"{0:.2f} is zero\".format(a)\n",
    "    else:\n",
    "        str = \"{0:.2f} is positive\".format(a)\n",
    "    print(str)\n",
    "    return\n",
    "\n",
    "def main():\n",
    "    i = 0\n",
    "    print(\"i = \", end=\" \"); sign(i)\n",
    "    x = \"1.2e-01\"\n",
    "    print(\"x = \", end=\" \"); sign(float(x))\n",
    "    y = 3.5\n",
    "    print(\"-y = \", end=\" \"); sign(-y)\n",
    "\n",
    "main()"
   ]
  },
  {
   "cell_type": "markdown",
   "metadata": {
    "id": "oYbqDDrzu4ov"
   },
   "source": [
    "<div class=\"alert alert-block alert-info\">\n",
    "now, you try. in each case, be sure to invoke the user-defined function (UDF) in your <code>main()</code> function: <br>\n",
    "1. write a UDF whose input is a list of strings, and whose output (return value) is a randomly selected element from that list. <br>\n",
    "2. profile this UDF using functions in the <code>datetime</code> module to determine and print how fast this function runs (it will be either zero or milliseconds, depending on what your computer is doing in the background). <br>\n",
    "3. write another UDF that takes a string and a character as inputs, then returns a list of the position(s) in the string where the character is found (or an empty list if it is not found). <br>\n",
    "\n",
    "you will use these functions in your first project - build a Wheel of Fortune! type game.\n",
    "</div>"
   ]
  },
  {
   "cell_type": "code",
   "execution_count": null,
   "metadata": {
    "id": "trstG7NNsbkQ"
   },
   "outputs": [],
   "source": []
  },
  {
   "cell_type": "markdown",
   "metadata": {},
   "source": [
    "to find all the modules that are available (have been installed), run <code>help('modules')</code> - there's a <b>lot</b> of output here!"
   ]
  },
  {
   "cell_type": "code",
   "execution_count": 1,
   "metadata": {
    "id": "DSfXdkDlCKAn"
   },
   "outputs": [
    {
     "name": "stdout",
     "output_type": "stream",
     "text": [
      "\n",
      "Please wait a moment while I gather a list of all available modules...\n",
      "\n"
     ]
    },
    {
     "name": "stderr",
     "output_type": "stream",
     "text": [
      "c:\\users\\erickawamoto\\appdata\\local\\programs\\python\\python39\\lib\\site-packages\\IPython\\kernel\\__init__.py:12: ShimWarning: The `IPython.kernel` package has been deprecated since IPython 4.0.You should import from ipykernel or jupyter_client instead.\n",
      "  warn(\"The `IPython.kernel` package has been deprecated since IPython 4.0.\"\n",
      "c:\\users\\erickawamoto\\appdata\\local\\programs\\python\\python39\\lib\\pkgutil.py:93: MatplotlibDeprecationWarning: \n",
      "The matplotlib.compat module was deprecated in Matplotlib 3.3 and will be removed two minor releases later.\n",
      "  __import__(info.name)\n",
      "c:\\users\\erickawamoto\\appdata\\local\\programs\\python\\python39\\lib\\site-packages\\setuptools\\distutils_patch.py:25: UserWarning: Distutils was imported before Setuptools. This usage is discouraged and may exhibit undesirable behaviors or errors. Please use Setuptools' objects directly or at least import Setuptools first.\n",
      "  warnings.warn(\n",
      "c:\\users\\erickawamoto\\appdata\\local\\programs\\python\\python39\\lib\\pkgutil.py:108: VisibleDeprecationWarning: zmq.eventloop.minitornado is deprecated in pyzmq 14.0 and will be removed.\n",
      "    Install tornado itself to use zmq with the tornado IOLoop.\n",
      "    \n",
      "  yield from walk_packages(path, info.name+'.', onerror)\n"
     ]
    },
    {
     "name": "stdout",
     "output_type": "stream",
     "text": [
      "IPython             bleach              mimetypes           stringprep\n",
      "PIL                 builtins            mistune             struct\n",
      "__future__          bz2                 mmap                subprocess\n",
      "_abc                cProfile            mmapfile            sunau\n",
      "_aix_support        calendar            mmsystem            symbol\n",
      "_ast                certifi             mobilechelonian     sympyprinting\n",
      "_asyncio            cffi                modulefinder        symtable\n",
      "_bisect             cgi                 msilib              sys\n",
      "_blake2             cgitb               msvcrt              sysconfig\n",
      "_bootlocale         charset_normalizer  multiprocessing     tabnanny\n",
      "_bootsubprocess     chunk               nbclassic           tarfile\n",
      "_bz2                cmath               nbclient            telnetlib\n",
      "_cffi_backend       cmd                 nbconvert           tempfile\n",
      "_codecs             code                nbformat            terminado\n",
      "_codecs_cn          codecs              nest_asyncio        test\n",
      "_codecs_hk          codeop              netbios             testpath\n",
      "_codecs_iso2022     collections         netrc               tests\n",
      "_codecs_jp          colorama            nntplib             textwrap\n",
      "_codecs_kr          colorsys            notebook            this\n",
      "_codecs_tw          commctrl            nt                  threading\n",
      "_collections        compileall          ntpath              time\n",
      "_collections_abc    concurrent          ntsecuritycon       timeit\n",
      "_compat_pickle      configparser        nturl2path          timer\n",
      "_compression        contextlib          numbers             tkinter\n",
      "_contextvars        contextvars         numpy               token\n",
      "_csv                copy                odbc                tokenize\n",
      "_ctypes             copyreg             opcode              tornado\n",
      "_ctypes_test        crypt               operator            trace\n",
      "_datetime           csv                 optparse            traceback\n",
      "_decimal            ctypes              os                  tracemalloc\n",
      "_elementtree        curses              packaging           traitlets\n",
      "_functools          cycler              pandas              tty\n",
      "_hashlib            cythonmagic         pandocfilters       turtle\n",
      "_heapq              dataclasses         parser              turtledemo\n",
      "_imp                datetime            parso               types\n",
      "_io                 dateutil            pathlib             typing\n",
      "_json               dbi                 pdb                 unicodedata\n",
      "_locale             dbm                 perfmon             unittest\n",
      "_lsprof             dde                 pickle              urllib\n",
      "_lzma               debugpy             pickleshare         urllib3\n",
      "_markupbase         decimal             pickletools         uu\n",
      "_md5                decorator           pip                 uuid\n",
      "_msi                defusedxml          pipes               venv\n",
      "_multibytecodec     difflib             pkg_resources       warnings\n",
      "_multiprocessing    dis                 pkgutil             wave\n",
      "_opcode             distutils           platform            wcwidth\n",
      "_operator           doctest             plistlib            weakref\n",
      "_osx_support        easy_install        poplib              webbrowser\n",
      "_overlapped         email               posixpath           webencodings\n",
      "_peg_parser         encodings           pprint              websocket\n",
      "_pickle             ensurepip           profile             widgetsnbextension\n",
      "_py_abc             entrypoints         prometheus_client   win2kras\n",
      "_pydecimal          enum                prompt_toolkit      win32api\n",
      "_pyio               errno               pstats              win32clipboard\n",
      "_pyrsistent_version faulthandler        pty                 win32com\n",
      "_queue              filecmp             pvectorc            win32con\n",
      "_random             fileinput           py_compile          win32console\n",
      "_sha1               fnmatch             pyclbr              win32cred\n",
      "_sha256             formatter           pycparser           win32crypt\n",
      "_sha3               fractions           pydoc               win32cryptcon\n",
      "_sha512             ftplib              pydoc_data          win32event\n",
      "_signal             functools           pyexpat             win32evtlog\n",
      "_sitebuiltins       gc                  pyfirmata2          win32evtlogutil\n",
      "_socket             genericpath         pygments            win32file\n",
      "_sqlite3            getopt              pylab               win32gui\n",
      "_sre                getpass             pyparsing           win32gui_struct\n",
      "_ssl                gettext             pyrsistent          win32help\n",
      "_stat               glob                pythoncom           win32inet\n",
      "_statistics         graphlib            pytz                win32inetcon\n",
      "_string             gzip                pywin               win32job\n",
      "_strptime           hashlib             pywin32_bootstrap   win32lz\n",
      "_struct             heapq               pywin32_testutil    win32net\n",
      "_symtable           hmac                pywintypes          win32netcon\n",
      "_testbuffer         html                queue               win32pdh\n",
      "_testcapi           http                quopri              win32pdhquery\n",
      "_testconsole        idlelib             random              win32pdhutil\n",
      "_testimportmultiple idna                rasutil             win32pipe\n",
      "_testinternalcapi   imaplib             re                  win32print\n",
      "_testmultiphase     imghdr              regcheck            win32process\n",
      "_thread             imp                 regutil             win32profile\n",
      "_threading_local    importlib           reprlib             win32ras\n",
      "_tkinter            inspect             requests            win32rcparser\n",
      "_tracemalloc        io                  requests_unixsocket win32security\n",
      "_uuid               ipaddress           rlcompleter         win32service\n",
      "_warnings           ipykernel           rmagic              win32serviceutil\n",
      "_weakref            ipykernel_launcher  runpy               win32timezone\n",
      "_weakrefset         ipython_genutils    sched               win32trace\n",
      "_win32sysloader     ipywidgets          secrets             win32traceutil\n",
      "_winapi             isapi               select              win32transaction\n",
      "_winxptheme         itertools           selectors           win32ts\n",
      "_xxsubinterpreters  jedi                send2trash          win32ui\n",
      "_zoneinfo           jinja2              serial              win32uiole\n",
      "abc                 json                servicemanager      win32verstamp\n",
      "adodbapi            json5               setuptools          win32wnet\n",
      "afxres              jsonschema          shelve              winerror\n",
      "aifc                jupyter             shlex               winioctlcon\n",
      "antigravity         jupyter_client      shutil              winnt\n",
      "anyio               jupyter_core        signal              winperf\n",
      "argon2              jupyter_server      site                winpty\n",
      "argparse            jupyterlab          six                 winreg\n",
      "array               jupyterlab_pygments smtpd               winsound\n",
      "ast                 jupyterlab_server   smtplib             winxpgui\n",
      "async_generator     jupyterlab_widgets  sndhdr              winxptheme\n",
      "asynchat            keyword             sniffio             wsgiref\n",
      "asyncio             kiwisolver          socket              xdrlib\n",
      "asyncore            lib2to3             socketserver        xml\n",
      "atexit              linecache           sqlite3             xmlrpc\n",
      "attr                locale              sre_compile         xxsubtype\n",
      "audioop             logging             sre_constants       zipapp\n",
      "autoreload          lzma                sre_parse           zipfile\n",
      "babel               mailbox             ssl                 zipimport\n",
      "backcall            mailcap             sspi                zlib\n",
      "base64              markupsafe          sspicon             zmq\n",
      "bdb                 marshal             stat                zoneinfo\n",
      "binascii            math                statistics          \n",
      "binhex              matplotlib          storemagic          \n",
      "bisect              matplotlib_inline   string              \n",
      "\n",
      "Enter any module name to get more help.  Or, type \"modules spam\" to search\n",
      "for modules whose name or summary contain the string \"spam\".\n",
      "\n"
     ]
    }
   ],
   "source": [
    "help('modules')"
   ]
  },
  {
   "cell_type": "markdown",
   "metadata": {
    "id": "GiYcQBpX64_4"
   },
   "source": [
    "avaiable modules in Python:\n",
    "\n",
    "```\n",
    "Cython              colorcet            kaggle              quopri\n",
    "IPython             colorlover          kapre               random\n",
    "OpenGL              colorsys            keras               re\n",
    "PIL                 community           keras_preprocessing readline\n",
    "ScreenResolution    compileall          keyword             regex\n",
    "__future__          concurrent          kiwisolver          reprlib\n",
    "_abc                configparser        korean_lunar_calendar requests\n",
    "_ast                contextlib          lib2to3             requests_oauthlib\n",
    "_asyncio            contextlib2         libfuturize         resampy\n",
    "_bisect             contextvars         libpasteurize       resource\n",
    "_blake2             convertdate         librosa             retrying\n",
    "_bootlocale         copy                lightgbm            rlcompleter\n",
    "_bz2                copyreg             linecache           rmagic\n",
    "_cffi_backend       coverage            llvmlite            rpy2\n",
    "_codecs             coveralls           lmdb                rsa\n",
    "_codecs_cn          crcmod              locale              runpy\n",
    "_codecs_hk          crypt               logging             samples\n",
    "_codecs_iso2022     csv                 lsb_release         sched\n",
    "_codecs_jp          ctypes              lunarcalendar       scipy\n",
    "_codecs_kr          cufflinks           lxml                scs\n",
    "_codecs_tw          curses              lzma                seaborn\n",
    "_collections        cv2                 macpath             secrets\n",
    "_collections_abc    cvxopt              mailbox             select\n",
    "_compat_pickle      cvxpy               mailcap             selectors\n",
    "_compression        cycler              markdown            semver\n",
    "_contextvars        cymem               markupsafe          send2trash\n",
    "_crypt              cython              marshal             setuptools\n",
    "_csv                cythonmagic         math                setuptools_git\n",
    "_ctypes             daft                matplotlib          shapely\n",
    "_ctypes_test        dask                matplotlib_inline   shelve\n",
    "_curses             dataclasses         matplotlib_venn     shlex\n",
    "_curses_panel       datascience         mimetypes           shutil\n",
    "_cvxcore            datetime            missingno           signal\n",
    "_datetime           dateutil            mistune             simplegeneric\n",
    "_dbm                dbm                 mizani              site\n",
    "_decimal            dbus                mlxtend             sitecustomize\n",
    "_distutils_hack     debugpy             mmap                six\n",
    "_dummy_thread       decimal             modulefinder        skimage\n",
    "_ecos               decorator           more_itertools      sklearn\n",
    "_elementtree        defusedxml          moviepy             sklearn_pandas\n",
    "_functools          descartes           mpmath              slugify\n",
    "_hashlib            difflib             msgpack             smart_open\n",
    "_heapq              dill                multiprocess        smtpd\n",
    "_imp                dis                 multiprocessing     smtplib\n",
    "_io                 distributed         multitasking        sndhdr\n",
    "_json               distutils           murmurhash          snowballstemmer\n",
    "_locale             dlib                music21             socket\n",
    "_lsprof             docopt              natsort             socketserver\n",
    "_lzma               docs                nbclient            socks\n",
    "_markupbase         doctest             nbconvert           sockshandler\n",
    "_md5                docutils            nbformat            softwareproperties\n",
    "_multibytecodec     dopamine            nest_asyncio        sortedcontainers\n",
    "_multiprocess       dot_parser          netCDF4             soundfile\n",
    "_multiprocessing    dummy_threading     netrc               spacy\n",
    "_opcode             easydict            networkx            sphinx\n",
    "_operator           ecos                nibabel             spwd\n",
    "_osx_support        editdistance        nis                 sql\n",
    "_pickle             ee                  nisext              sqlalchemy\n",
    "_plotly_future_     email               nltk                sqlite3\n",
    "_plotly_utils       en_core_web_sm      nntplib             sqlparse\n",
    "_posixsubprocess    encodings           notebook            sre_compile\n",
    "_py_abc             entrypoints         ntpath              sre_constants\n",
    "_pydecimal          enum                nturl2path          sre_parse\n",
    "_pyio               ephem               numba               srsly\n",
    "_pyrsistent_version erfa                numbergen           ssl\n",
    "_pytest             errno               numbers             stat\n",
    "_queue              et_xmlfile          numexpr             statistics\n",
    "_random             examples            numpy               statsmodels\n",
    "_rinterface_cffi_abi fa2                 nvidia_smi          storemagic\n",
    "_rinterface_cffi_api fastai              oauth2client        string\n",
    "_scs_direct         fastdtw             oauthlib            stringprep\n",
    "_scs_indirect       fastprogress        ogr                 struct\n",
    "_scs_python         fastrlock           okgrade             subprocess\n",
    "_sha1               faulthandler        opcode              sunau\n",
    "_sha256             fbprophet           openpyxl            symbol\n",
    "_sha3               fcntl               operator            sympy\n",
    "_sha512             feather             opt_einsum          sympyprinting\n",
    "_signal             filecmp             optparse            symtable\n",
    "_sitebuiltins       fileinput           os                  sys\n",
    "_socket             filelock            osgeo               sysconfig\n",
    "_soundfile          firebase_admin      osqp                syslog\n",
    "_sqlite3            fix_yahoo_finance   osqppurepy          tables\n",
    "_sre                flask               osr                 tabnanny\n",
    "_ssl                flatbuffers         ossaudiodev         tabulate\n",
    "_stat               fnmatch             packaging           tarfile\n",
    "_string             folium              palettable          tblib\n",
    "_strptime           formatter           pandas              telnetlib\n",
    "_struct             fractions           pandas_datareader   tempfile\n",
    "_symtable           ftplib              pandas_gbq          tensorboard\n",
    "_sysconfigdata_m_linux_x86_64-linux-gnu functools           pandas_profiling    tensorboard_data_server\n",
    "_testbuffer         future              pandocfilters       tensorboard_plugin_wit\n",
    "_testcapi           gast                panel               tensorflow\n",
    "_testimportmultiple gc                  param               tensorflow_datasets\n",
    "_testmultiphase     gdal                parser              tensorflow_estimator\n",
    "_thread             gdalconst           parso               tensorflow_gcs_config\n",
    "_threading_local    gdalnumeric         past                tensorflow_hub\n",
    "_tkinter            gdown               pasta               tensorflow_metadata\n",
    "_tracemalloc        genericpath         pathlib             tensorflow_probability\n",
    "_warnings           gensim              patsy               termcolor\n",
    "_weakref            geographiclib       pdb                 terminado\n",
    "_weakrefset         geopy               pep517              termios\n",
    "_xxtestfuzz         getopt              pexpect             test\n",
    "abc                 getpass             pickle              testpath\n",
    "absl                gettext             pickleshare         tests\n",
    "aifc                gi                  pickletools         text_unidecode\n",
    "alabaster           gin                 pip                 textblob\n",
    "albumentations      github2pypi         pipes               textwrap\n",
    "altair              glob                piptools            theano\n",
    "antigravity         glob2               pkg_resources       thinc\n",
    "apiclient           gnm                 pkgutil             this\n",
    "appdirs             google_auth_httplib2 plac                threading\n",
    "apt                 google_auth_oauthlib plac_core           tifffile\n",
    "apt_inst            google_drive_downloader plac_ext            time\n",
    "apt_pkg             googleapiclient     plac_tk             timeit\n",
    "aptsources          googlesearch        platform            tkinter\n",
    "argcomplete         graphviz            plistlib            tlz\n",
    "argon2              greenlet            plotly              token\n",
    "argparse            gridfs              plotlywidget        tokenize\n",
    "array               grp                 plotnine            toml\n",
    "arviz               grpc                pluggy              tomli\n",
    "ast                 gspread             pooch               toolz\n",
    "astor               gspread_dataframe   poplib              torch\n",
    "astropy             gym                 portpicker          torchsummary\n",
    "astunparse          gzip                posix               torchtext\n",
    "asynchat            h5py                posixpath           torchvision\n",
    "asyncio             hashlib             pprint              tornado\n",
    "asyncore            heapdict            prefetch_generator  tqdm\n",
    "atari_py            heapq               preshed             trace\n",
    "atexit              hijri_converter     prettytable         traceback\n",
    "atomicwrites        hmac                profile             tracemalloc\n",
    "attr                holidays            progressbar         traitlets\n",
    "audioop             holoviews           prometheus_client   tree\n",
    "audioread           html                promise             tty\n",
    "autograd            html5lib            prompt_toolkit      turtle\n",
    "autoreload          http                pstats              tweepy\n",
    "babel               httpimport          psutil              typeguard\n",
    "backcall            httplib2            psycopg2            types\n",
    "base64              httplib2shim        pty                 typing\n",
    "bdb                 humanize            ptyprocess          typing_extensions\n",
    "bin                 hyperopt            pvectorc            tzlocal\n",
    "binascii            ideep4py            pwd                 unicodedata\n",
    "binhex              idna                py                  unittest\n",
    "bisect              imageio             py_compile          uritemplate\n",
    "bleach              imagesize           pyarrow             urllib\n",
    "blis                imaplib             pyasn1              urllib3\n",
    "bokeh               imblearn            pyasn1_modules      uu\n",
    "boost               imgaug              pyclbr              uuid\n",
    "bottleneck          imghdr              pycocotools         vega_datasets\n",
    "branca              imp                 pycparser           venv\n",
    "bs4                 importlib           pyct                vis\n",
    "bson                importlib_metadata  pydata_google_auth  warnings\n",
    "builtins            importlib_resources pydoc               wasabi\n",
    "bz2                 imutils             pydoc_data          wave\n",
    "cProfile            inflect             pydot               wcwidth\n",
    "cachecontrol        iniconfig           pydot_ng            weakref\n",
    "cached_property     inspect             pydotplus           webbrowser\n",
    "cachetools          intervaltree        pydrive             webencodings\n",
    "caffe2              io                  pyemd               werkzeug\n",
    "calendar            ipaddress           pyexpat             wheel\n",
    "catalogue           ipykernel           pyglet              widgetsnbextension\n",
    "certifi             ipykernel_launcher  pygments            wordcloud\n",
    "cffi                ipython_genutils    pygtkcompat         wrapt\n",
    "cftime              ipywidgets          pylab               wsgiref\n",
    "cgi                 isympy              pymc3               xarray\n",
    "cgitb               itertools           pymeeus             xdrlib\n",
    "chardet             itsdangerous        pymongo             xgboost\n",
    "charset_normalizer  jax                 pymystem3           xkit\n",
    "chess               jaxlib              pynvml              xlrd\n",
    "chunk               jdcal               pyparsing           xlwt\n",
    "clang               jedi                pyrsistent          xml\n",
    "click               jieba               pysndfile           xmlrpc\n",
    "client              jinja2              pystan              xxlimited\n",
    "cloudpickle         joblib              pytest              xxsubtype\n",
    "cmake               jpeg4py             python_utils        yaml\n",
    "cmath               json                pytz                yellowbrick\n",
    "cmd                 jsonschema          pyviz_comms         zict\n",
    "cmdstanpy           jupyter             pywt                zipapp\n",
    "code                jupyter_client      pyximport           zipfile\n",
    "codecs              jupyter_console     qdldl               zipimport\n",
    "codeop              jupyter_core        qtconsole           zipp\n",
    "colab               jupyterlab_pygments qtpy                zlib\n",
    "collections         jupyterlab_widgets  queue               zmq\n",
    "```"
   ]
  }
 ],
 "metadata": {
  "colab": {
   "collapsed_sections": [],
   "name": "UDF Python Colab notebook.ipynb",
   "provenance": []
  },
  "kernelspec": {
   "display_name": "Python 3 (ipykernel)",
   "language": "python",
   "name": "python3"
  },
  "language_info": {
   "codemirror_mode": {
    "name": "ipython",
    "version": 3
   },
   "file_extension": ".py",
   "mimetype": "text/x-python",
   "name": "python",
   "nbconvert_exporter": "python",
   "pygments_lexer": "ipython3",
   "version": "3.9.2"
  }
 },
 "nbformat": 4,
 "nbformat_minor": 1
}
