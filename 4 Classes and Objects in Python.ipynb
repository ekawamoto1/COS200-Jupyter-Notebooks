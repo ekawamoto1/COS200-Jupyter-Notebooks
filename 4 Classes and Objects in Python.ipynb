{
 "cells": [
  {
   "cell_type": "markdown",
   "metadata": {
    "deletable": false,
    "editable": false
   },
   "source": [
    "## **Classes and Objects - Python notebook**"
   ]
  },
  {
   "cell_type": "markdown",
   "metadata": {
    "deletable": false,
    "editable": false
   },
   "source": [
    "Classes and objects in Python:\n",
    "\n",
    "<b>https://realpython.com/python3-object-oriented-programming/</b>\n",
    "\n",
    "Other references:\n",
    "- GeeksForGeeks: [<b>Introduction to Object-Oriented Programming</b>](https://www.geeksforgeeks.org/introduction-of-object-oriented-programming/)\n",
    "- Dublin City University EE402, Chapter 1: [<b>Introduction to Object-Oriented Programming</b>](http://ee402.eeng.dcu.ie/introduction/chapter-1---introduction-to-object-oriented-programming)\n",
    "- YouTube: [<b>Intro to Object-Oriented Programming - Crash Course</b>](https://www.youtube.com/watch?v=SiBw7os-_zI)\n",
    "- [<b>Java All-in-One for Dummies</b>](https://drive.google.com/file/d/1IDL6gNItSSU8VexIUT1dbDRWRIwTyqeq/view?usp=sharing), Book III: Object-Oriented Programming, Chapters 1-6, pp. 221-320\n",
    "- [<b>Python All-in-One for Dummies</b>](https://drive.google.com/file/d/1wCUZVEjw3q5cPoX7_Feu2KqMBGd2Ix_Z/view?usp=sharing), Book 2, Chapter 6: Doing Python with Class, pp. 213-243"
   ]
  },
  {
   "cell_type": "markdown",
   "metadata": {
    "deletable": false,
    "editable": false
   },
   "source": [
    "### Essential terminology:\n",
    "\n",
    "* __class__ - a user-defined _type_, code that generates a unique object (think of this like a mold, cookie cutter, a factory, or a blueprint)<br><br>\n",
    "\n",
    "* __instance__ - occurrence of a particular type of object (think of what comes out of a mold or cookie cutter, or what is produced by a factory, or from a blueprint)<br><br>\n",
    "\n",
    "* __object__ - synonymous with instance; each object has a unique identity (location in memory), even if it is produced from the same class\n",
    "    * objects have type, state, and behavior<br><br>\n",
    "    \n",
    "* __attributes__ - also known as class variables or fields, these store data about the (state of an) object<br><br>\n",
    "\n",
    "* __methods__ - functions that give an object its behavior, the services it provides to other objects<br><br>\n",
    "\n",
    "* __interface__ - methods that the class makes public (exposes to the outside world) so other objects can access them<br>"
   ]
  },
  {
   "cell_type": "markdown",
   "metadata": {
    "deletable": false,
    "editable": false
   },
   "source": [
    "A user-defined type (UDT) without any methods is what C/C++ calls a <b>_data structure_</b>. <br>\n",
    "C/C++ and Java force you to define the attributes that comprise the data structure. <br>\n",
    "Python does not - you simply use the [<b>dot operator</b>](https://www.askpython.com/python/built-in-methods/dot-notation) to indicate the attributes that belong to this UDT. <br>"
   ]
  },
  {
   "cell_type": "code",
   "execution_count": 1,
   "metadata": {
    "deletable": false,
    "editable": false
   },
   "outputs": [
    {
     "name": "stdout",
     "output_type": "stream",
     "text": [
      "<class '__main__.Point'>\n",
      "<__main__.Point object at 0x000002A4E2EDFFD0>\n",
      "\n",
      "p0: 0.0, 0.0\n",
      "p1: 5.0, 12.0\n",
      "distance between p0 and p1 is 13.0000\n",
      "\n",
      "p0: 0.0, 0.0\n",
      "p1: 3.0, 4.0\n",
      "distance between p0 and p1 is now 5.0000\n"
     ]
    }
   ],
   "source": [
    "# code cell 1\n",
    "\n",
    "import math\n",
    "\n",
    "# note that this class has nothing in it - the three double quotes are docstrings\n",
    "# https://www.programiz.com/python-programming/docstrings for more about inline documentation\n",
    "class Point(object):\n",
    "    \"\"\"Represents a point in 2-D space.\n",
    "    attributes: x, y\n",
    "    \"\"\"\n",
    "\n",
    "def dist(p, q) -> float:\n",
    "    dx = p.x - q.x\n",
    "    dy = p.y - q.y\n",
    "    d = math.sqrt(dx*dx + dy*dy)\n",
    "    return d\n",
    "\n",
    "\n",
    "def main():\n",
    "    p0 = Point()\n",
    "    p0.x = 0.0\n",
    "    p0.y = 0.0\n",
    "    p1 = Point()\n",
    "    p1.x = 5.0\n",
    "    p1.y = 12.0\n",
    "    print(type(p0))\n",
    "    print(p0) # note that this gives us gobbledy-gook instead of the coordinates!\n",
    "    print()\n",
    "    \n",
    "    print(\"p0: \" + str(p0.x) + \", \" + str(p0.y))\n",
    "    print(\"p1: \" + str(p1.x) + \", \" + str(p1.y))\n",
    "    s = f\"distance between p0 and p1 is {dist(p0, p1):.4f}\"\n",
    "    print(s)\n",
    "    print()\n",
    "    \n",
    "    p1.x -= 2.0\n",
    "    p1.y -= 8.0\n",
    "    print(\"p0: \" + str(p0.x) + \", \" + str(p0.y))\n",
    "    print(\"p1: \" + str(p1.x) + \", \" + str(p1.y))\n",
    "    s = f\"distance between p0 and p1 is now {dist(p0, p1):.4f}\"\n",
    "    print(s)    \n",
    "\n",
    "\n",
    "if __name__ == '__main__':    \n",
    "    main()"
   ]
  },
  {
   "cell_type": "code",
   "execution_count": 2,
   "metadata": {
    "deletable": false,
    "editable": false
   },
   "outputs": [
    {
     "name": "stdout",
     "output_type": "stream",
     "text": [
      "<class '__main__.Point'>\n",
      "blank (3, 4)\n",
      "\n",
      "<class '__main__.Rectangle'>\n",
      "center: (50, 100)\n",
      "width = 100.0, height = 200.0\n",
      "\n",
      "grow by 50 horiz, 100 vert\n",
      "width = 150.0, height = 300.0\n",
      "center: (75, 150)\n"
     ]
    }
   ],
   "source": [
    "# code cell 2\n",
    "\n",
    "\"\"\"This module contains a code example related to\n",
    "Think Python, 2nd Edition\n",
    "by Allen Downey\n",
    "http://thinkpython2.com\n",
    "Copyright 2015 Allen Downey\n",
    "License: http://creativecommons.org/licenses/by/4.0/\n",
    "\"\"\"\n",
    "\n",
    "class Point:\n",
    "    \"\"\"Represents a point in 2-D space.\n",
    "    attributes: x, y\n",
    "    \"\"\"\n",
    "    pass\n",
    "\n",
    "def print_point(p):\n",
    "    \"\"\"Print a Point object in human-readable format.\"\"\"\n",
    "    print('(%g, %g)' % (p.x, p.y))\n",
    "\n",
    "class Rectangle:\n",
    "    \"\"\"Represents a rectangle. \n",
    "    attributes: width, height, corner.\n",
    "    \"\"\"\n",
    "    pass\n",
    "\n",
    "def find_center(rect):\n",
    "    \"\"\"Returns a Point at the center of a Rectangle.\n",
    "    rect: Rectangle\n",
    "    returns: new Point\n",
    "    \"\"\"\n",
    "    p = Point()\n",
    "    p.x = rect.corner.x + rect.width/2.0\n",
    "    p.y = rect.corner.y + rect.height/2.0\n",
    "    return p\n",
    "\n",
    "def grow_rectangle(rect, dwidth, dheight):\n",
    "    \"\"\"Modifies the Rectangle by adding to its width and height.\n",
    "    rect: Rectangle object.\n",
    "    dwidth: change in width (can be negative).\n",
    "    dheight: change in height (can be negative).\n",
    "    \"\"\"\n",
    "    rect.width += dwidth\n",
    "    rect.height += dheight\n",
    "\n",
    "\n",
    "def main():\n",
    "    blank = Point()\n",
    "    blank.x = 3\n",
    "    blank.y = 4\n",
    "    print(type(blank))\n",
    "    print('blank', end=' ')\n",
    "    print_point(blank)\n",
    "    print()\n",
    "\n",
    "    box = Rectangle()\n",
    "    box.width = 100.0\n",
    "    box.height = 200.0\n",
    "    print(type(box))\n",
    "    box.corner = Point()\n",
    "    box.corner.x = 0.0\n",
    "    box.corner.y = 0.0\n",
    "\n",
    "    center = find_center(box)\n",
    "    print('center: ', end='')\n",
    "    print_point(center)\n",
    "    print(\"width = \" + str(box.width) + \", height = \" + str(box.height))\n",
    "    print()\n",
    "    \n",
    "    print('grow by 50 horiz, 100 vert')\n",
    "    grow_rectangle(box, 50, 100)\n",
    "    print(\"width = \" + str(box.width) + \", height = \" + str(box.height))\n",
    "    print('center: ', end='')\n",
    "    center = find_center(box)\n",
    "    print_point(center)\n",
    "\n",
    "\n",
    "if __name__ == '__main__':\n",
    "    main()"
   ]
  },
  {
   "cell_type": "markdown",
   "metadata": {
    "deletable": false,
    "editable": false
   },
   "source": [
    "The \"official\" way to do this is to use a <b>_constructor_</b>, which is a special method that initializes objects produced by a class (its instances). This \"init method\" is also called \"dunder init\" (<b>_dunder_</b> = <b>_d_</b>ouble <b>_under_</b>line). Remember that you can think of a class like a cookie cutter, while the instance is like the cookie made from it."
   ]
  },
  {
   "cell_type": "code",
   "execution_count": 3,
   "metadata": {
    "deletable": false,
    "editable": false
   },
   "outputs": [
    {
     "name": "stdout",
     "output_type": "stream",
     "text": [
      "<class '__main__.Point'>\n",
      "<__main__.Point object at 0x7fe8eb473d00>\n",
      "\n",
      "p0: 0.0, 0.0\n",
      "p1: 5.0, 12.0\n",
      "distance between p0 and p1 is 13.0000\n",
      "\n",
      "p0: 0.0, 0.0\n",
      "p1: 3.0, 4.0\n",
      "distance between p0 and p1 is now 5.0000\n"
     ]
    }
   ],
   "source": [
    "# code cell 3\n",
    "\n",
    "class Point:\n",
    "    # this is the constructor for objects of class Point\n",
    "    def __init__(self, xCoord, yCoord):\n",
    "        self.x = xCoord\n",
    "        self.y = yCoord\n",
    "\n",
    "def dist(p, q) -> float:\n",
    "    dx = p.x - q.x\n",
    "    dy = p.y - q.y\n",
    "    d = math.sqrt(dx*dx + dy*dy)\n",
    "    return d        \n",
    "\n",
    "\n",
    "def main():\n",
    "    # note that 'self' is dropped from the argument list when invoking the constructor\n",
    "    p0 = Point(0.0, 0.0)\n",
    "    p1 = Point(5.0, 12.0)\n",
    "    print(type(p0))\n",
    "    print(p0) # note that this gives us gobbledy-gook instead of the coordinates!\n",
    "    print()\n",
    "    \n",
    "    print(\"p0: \" + str(p0.x) + \", \" + str(p0.y))\n",
    "    print(\"p1: \" + str(p1.x) + \", \" + str(p1.y))\n",
    "    s = f\"distance between p0 and p1 is {dist(p0, p1):.4f}\"\n",
    "    print(s)\n",
    "    print()\n",
    "    \n",
    "    # note that we can change the attributes of p1 by referring to its attributes\n",
    "    p1.x -= 2\n",
    "    p1.y -= 8\n",
    "    print(\"p0: \" + str(p0.x) + \", \" + str(p0.y))\n",
    "    print(\"p1: \" + str(p1.x) + \", \" + str(p1.y))\n",
    "    s = f\"distance between p0 and p1 is now {dist(p0, p1):.4f}\"\n",
    "    print(s)\n",
    "\n",
    "if __name__ == '__main__':\n",
    "    main()"
   ]
  },
  {
   "cell_type": "markdown",
   "metadata": {
    "deletable": false,
    "editable": false
   },
   "source": [
    "Of course, what we have created above merely creates a data structure whose attributes are named ```x``` and ```y```. Let's give this class some functionality now."
   ]
  },
  {
   "cell_type": "code",
   "execution_count": 3,
   "metadata": {
    "deletable": false,
    "editable": false
   },
   "outputs": [
    {
     "name": "stdout",
     "output_type": "stream",
     "text": [
      "<class '__main__.Point'>\n",
      "0.0000, 0.0000\n",
      "0.0000, 0.0000 from print_point()\n"
     ]
    }
   ],
   "source": [
    "# code cell 4\n",
    "\n",
    "class Point:\n",
    "    def __init__(self, xCoord, yCoord):\n",
    "        self.x = xCoord\n",
    "        self.y = yCoord\n",
    "    \n",
    "    # this special dunder method returns a string representation of the object\n",
    "    def __str__(self):  \n",
    "        s = f\"{self.x:.4f}, {self.y:.4f}\"\n",
    "        return s\n",
    "    \n",
    "    def print_point(self):\n",
    "        s = f\"{self.x:.4f}, {self.y:.4f} from print_point()\"\n",
    "        print(s)      \n",
    "\n",
    "\n",
    "def main():\n",
    "    p0 = Point(0.0, 0.0)\n",
    "    p1 = Point(5.0, 12.0)\n",
    "    print(type(p0))\n",
    "    print(p0) # note that this now gives us the coordinates!\n",
    "    p0.print_point() # this is another way to print the object without using __str__\n",
    "\n",
    "\n",
    "if __name__ == '__main__':\n",
    "    main()"
   ]
  },
  {
   "cell_type": "markdown",
   "metadata": {
    "deletable": false,
    "editable": false
   },
   "source": [
    "Let's give our ```Point``` class more functionality."
   ]
  },
  {
   "cell_type": "code",
   "execution_count": 5,
   "metadata": {
    "deletable": false,
    "editable": false
   },
   "outputs": [
    {
     "name": "stdout",
     "output_type": "stream",
     "text": [
      "<class '__main__.Point'>\n",
      "0.0000, 0.0000\n",
      "0.0000, 0.0000 from print_point()\n",
      "\n",
      "midpoint of 3.0000, 4.0000: 1.5000, 2.0000\n",
      "\n",
      "3.0000, 4.0000 rotated 90 deg counterclockwise: -4.0000, 3.0000\n",
      "\n",
      "distance of 3.0000, 4.0000 from origin: 5.0000\n"
     ]
    }
   ],
   "source": [
    "# code cell 5\n",
    "\n",
    "import math\n",
    "\n",
    "class Point:\n",
    "    def __init__(self, xCoord, yCoord):\n",
    "        self.x = xCoord\n",
    "        self.y = yCoord\n",
    "    \n",
    "    def __str__(self):  \n",
    "        s = f\"{self.x:.4f}, {self.y:.4f}\"\n",
    "        return s\n",
    "    \n",
    "    def print_point(self):\n",
    "        s = f\"{self.x:.4f}, {self.y:.4f} from print_point()\"\n",
    "        print(s)\n",
    "        \n",
    "    def midpt(self):\n",
    "        m = Point(self.x/2.0, self.y/2.0)\n",
    "        return m\n",
    "    \n",
    "    def ccw90(self):\n",
    "        r = Point(-self.y, self.x)\n",
    "        return r\n",
    "    \n",
    "    def dist_from_origin(self):\n",
    "        d = math.sqrt(self.x * self.x + self.y * self.y)\n",
    "        return d\n",
    "    \n",
    "\n",
    "def main():\n",
    "    p0 = Point(0.0, 0.0)\n",
    "    print(type(p0))\n",
    "    print(p0) # note that this now gives us the coordinates!\n",
    "    p0.print_point() # this is another way to print the object without using __str__\n",
    "    print()\n",
    "    \n",
    "    p1 = Point(3.0, 4.0)\n",
    "    p1a = p1.midpt()\n",
    "    print(\"midpoint of \" + str(p1) + \": \" + str(p1a) + \"\\n\")\n",
    "    \n",
    "    p1b = p1.ccw90()\n",
    "    print(str(p1) + \" rotated 90 deg counterclockwise: \" + str(p1b) + \"\\n\")\n",
    "    \n",
    "    d0 = p1.dist_from_origin()\n",
    "    print(\"distance of \" + str(p1) + f\" from origin: {d0:.4f}\")\n",
    "\n",
    "\n",
    "if __name__ == '__main__':\n",
    "    main()"
   ]
  },
  {
   "cell_type": "markdown",
   "metadata": {
    "deletable": false,
    "editable": false
   },
   "source": [
    "In strongly typed object-oriented languages (C/C++, Java), it is customary to prevent \"unauthorized access\" to an object's attributes (member variables). These languages have keywords like ```private``` and ```protected``` to prevent code from outside the class from, say, changing attributes. (Failure to shield member variables from changes could cause errors in code execution.) Unfortunately, Python does not have this mechanism, but by convention, member variables (attributes) whose values should NOT be accessed or changed from outside the object are preceded by a single underline."
   ]
  },
  {
   "cell_type": "code",
   "execution_count": 6,
   "metadata": {
    "deletable": false,
    "editable": false
   },
   "outputs": [
    {
     "name": "stdout",
     "output_type": "stream",
     "text": [
      "<class '__main__.Point'>\n",
      "0.0000, 0.0000\n",
      "0.0000, 0.0000 from print_point()\n",
      "\n",
      "p1 is originally set to 3.0000, 4.0000\n",
      "now p1 is 5.0000, 12.0000 after 'unauthorized access' to its _x and _y attributes\n",
      "\n",
      "midpoint of 5.0000, 12.0000: 2.5000, 6.0000\n",
      "5.0000, 12.0000 rotated 90 deg counterclockwise: -12.0000, 5.0000\n",
      "\n",
      "distance of 5.0000, 12.0000 from origin: 13.0000\n",
      "\n",
      "p1 is currently 5.0, 12.0\n",
      "p1 is now 4.0, 3.0 after using its getters and setters\n"
     ]
    }
   ],
   "source": [
    "# code cell 6\n",
    "\n",
    "import math\n",
    "\n",
    "class Point:\n",
    "    def __init__(self, xCoord, yCoord):\n",
    "        # single underline indicates (but does not enforce) that these variables are \"private\"\n",
    "        # that is, they should not be accessed from outside the Point class\n",
    "        self._x = xCoord\n",
    "        self._y = yCoord\n",
    "        \n",
    "    def __str__(self):\n",
    "        s = f\"{self._x:.4f}, {self._y:.4f}\"\n",
    "        return s\n",
    "    \n",
    "     # these \"getters\" are the \"authorized\" way to view the private member variables _x and _y\n",
    "    def getX(self):\n",
    "        return self._x\n",
    "    \n",
    "    def getY(self):\n",
    "        return self._y\n",
    "    \n",
    "    # these \"setters\" are the \"authorized\" way to change the private member variables _x and _y\n",
    "    def setX(self, newX):\n",
    "        self._x = newX\n",
    "        \n",
    "    def setY(self, newY):\n",
    "        self._y = newY\n",
    "    \n",
    "    def print_point(self):\n",
    "        s = f\"{self._x:.4f}, {self._y:.4f} from print_point()\"\n",
    "        print(s)\n",
    "        \n",
    "    def midpt(self):\n",
    "        m = Point(self._x/2.0, self._y/2.0)\n",
    "        return m\n",
    "    \n",
    "    def ccw90(self):\n",
    "        r = Point(-self._y, self._x)\n",
    "        return r\n",
    "    \n",
    "    def dist_from_origin(self):\n",
    "        d = math.sqrt(self._x * self._x + self._y * self._y)\n",
    "        return d\n",
    "    \n",
    "\n",
    "def main():\n",
    "    p0 = Point(0.0, 0.0)\n",
    "    print(type(p0))\n",
    "    print(p0) # note that this now gives us the coordinates!\n",
    "    p0.print_point() # this is another way to print the object without using __str__\n",
    "    print()\n",
    "    \n",
    "    p1 = Point(3.0, 4.0)\n",
    "    print(\"p1 is originally set to \" + str(p1))\n",
    "    \n",
    "    # don't do this!\n",
    "    p1._x += 2.0\n",
    "    p1._y += 8.0\n",
    "    print(\"now p1 is \"+ str(p1) + \" after 'unauthorized access' to its _x and _y attributes\\n\")\n",
    "    \n",
    "    p1a = p1.midpt()\n",
    "    print(\"midpoint of \" + str(p1) + \": \" + str(p1a))\n",
    "    p1b = p1.ccw90()\n",
    "    print(str(p1) + \" rotated 90 deg counterclockwise: \" + str(p1b) + \"\\n\")\n",
    "    d0 = p1.dist_from_origin()\n",
    "    print(\"distance of \" + str(p1) + f\" from origin: {d0:.4f}\")\n",
    "    print()\n",
    "    \n",
    "    # do this instead:\n",
    "    print(\"p1 is currently \" + str(p1.getX()) + \", \" + str(p1.getY()))\n",
    "    p1.setX(4.0)\n",
    "    p1.setY(3.0)\n",
    "    print(\"p1 is now \" + str(p1.getX()) + \", \" + str(p1.getY()) + \" after using its getters and setters\")\n",
    "    \n",
    "\n",
    "if __name__ == '__main__':\n",
    "    main()"
   ]
  },
  {
   "cell_type": "markdown",
   "metadata": {
    "deletable": false
   },
   "source": [
    "Class variables are attributes that belong to the _class_, not to each _instance_ of the class. (These are sometimes called [<b>_static variables_</b>](https://www.geeksforgeeks.org/g-fact-34-class-or-static-variables-in-python/).) The values of class variables are shared by all instances of the class, while the value of instance variables (what we have used so far) can be different for each instance of the class. In this example, we will create a class variable that counts how many instances of the ```Point``` class we have created (instantiated)."
   ]
  },
  {
   "cell_type": "code",
   "execution_count": 7,
   "metadata": {
    "deletable": false,
    "editable": false
   },
   "outputs": [
    {
     "name": "stdout",
     "output_type": "stream",
     "text": [
      "<class '__main__.Point'>\n",
      "0.0000, 0.0000\n",
      "0.0000, 0.0000 from print_point()\n",
      "number of instances of Point so far: 1\n",
      "\n",
      "p1 is originally set to 3.0, 4.0\n",
      "number of instances of Point so far: 2\n",
      "number of instances of Point so far: 2\n",
      "now p1 is 5.0, 12.0 after 'unauthorized access' to its _x and _y attributes\n",
      "\n",
      "midpoint of 5.0000, 12.0000: 2.5000, 6.0000\n",
      "number of instances of Point so far: 3\n",
      "\n",
      "5.0000, 12.0000 rotated 90 deg counterclockwise: -12.0000, 5.0000\n",
      "number of instances of Point so far: 4\n",
      "\n",
      "distance of 5.0000, 12.0000 from origin: 13.0000\n",
      "\n",
      "p1 is currently 5.0, 12.0\n",
      "p1 is now 4.0, 3.0 after using its getters and setters\n"
     ]
    }
   ],
   "source": [
    "# code cell 7\n",
    "\n",
    "import math\n",
    "\n",
    "class Point:\n",
    "    # this is a class variable - it belongs to, and has the same value for, all instances of the class Point\n",
    "    _numInstances = 0\n",
    "    \n",
    "    def __init__(self, xCoord, yCoord):\n",
    "        # single underline indicates (but does not enforce) that these variables are \"private\"\n",
    "        # that is, they should not be accessed from outside the Point class\n",
    "        self._x = xCoord\n",
    "        self._y = yCoord\n",
    "        # note that this does not refer to self (instance variable), but to the class Point instead\n",
    "        Point._numInstances += 1\n",
    "        \n",
    "    def __str__(self):\n",
    "        s = f\"{self._x:.4f}, {self._y:.4f}\"\n",
    "        return s\n",
    "    \n",
    "    def getX(self):\n",
    "        return self._x\n",
    "    \n",
    "    def getY(self):\n",
    "        return self._y\n",
    "    \n",
    "    def getNumInstances(self):\n",
    "        # note that this does not refer to self (instance variable), but to the class Point instead\n",
    "        return Point._numInstances\n",
    "    \n",
    "    def setX(self, newX):\n",
    "        self._x = newX\n",
    "        \n",
    "    def setY(self, newY):\n",
    "        self._y = newY\n",
    "    \n",
    "    def print_point(self):\n",
    "        s = f\"{self._x:.4f}, {self._y:.4f} from print_point()\"\n",
    "        print(s)\n",
    "        \n",
    "    def midpt(self):\n",
    "        m = Point(self._x/2.0, self._y/2.0)\n",
    "        return m\n",
    "    \n",
    "    def ccw90(self):\n",
    "        r = Point(-self._y, self._x)\n",
    "        return r\n",
    "    \n",
    "    def dist_from_origin(self):\n",
    "        d = math.sqrt(self._x * self._x + self._y * self._y)\n",
    "        return d\n",
    "    \n",
    "\n",
    "def main():\n",
    "    p0 = Point(0.0, 0.0)\n",
    "    print(type(p0))\n",
    "    print(p0)\n",
    "    p0.print_point()\n",
    "    print(\"number of instances of Point so far: \" + str(p0.getNumInstances()))\n",
    "    print()\n",
    "    \n",
    "    p1 = Point(3.0, 4.0)\n",
    "    print(\"p1 is originally set to 3.0, 4.0\")\n",
    "    print(\"number of instances of Point so far: \" + str(p0.getNumInstances()))\n",
    "    print(\"number of instances of Point so far: \" + str(p1.getNumInstances()))\n",
    "    \n",
    "    # don't do this!\n",
    "    p1._x += 2.0\n",
    "    p1._y += 8.0\n",
    "    print(\"now p1 is 5.0, 12.0 after 'unauthorized access' to its _x and _y attributes\\n\")\n",
    "    \n",
    "    p1a = p1.midpt()\n",
    "    print(\"midpoint of \" + str(p1) + \": \" + str(p1a))\n",
    "    print(\"number of instances of Point so far: \" + str(p1a.getNumInstances()) + \"\\n\")\n",
    "    p1b = p1.ccw90()\n",
    "    print(str(p1) + \" rotated 90 deg counterclockwise: \" + str(p1b))\n",
    "    print(\"number of instances of Point so far: \" + str(p1.getNumInstances()) + \"\\n\")\n",
    "    d0 = p1.dist_from_origin()\n",
    "    print(\"distance of \" + str(p1) + f\" from origin: {d0:.4f}\")\n",
    "    print()\n",
    "    \n",
    "    # do this instead:\n",
    "    print(\"p1 is currently \" + str(p1.getX()) + \", \" + str(p1.getY()))\n",
    "    p1.setX(4.0)\n",
    "    p1.setY(3.0)\n",
    "    print(\"p1 is now \" + str(p1.getX()) + \", \" + str(p1.getY()) + \" after using its getters and setters\")\n",
    "    \n",
    "\n",
    "if __name__ == '__main__':\n",
    "    main()"
   ]
  },
  {
   "cell_type": "markdown",
   "metadata": {
    "deletable": false,
    "editable": false
   },
   "source": [
    "By analogy, there are also [<b>class methods</b>](https://www.geeksforgeeks.org/classmethod-in-python/), which are methods that are bound to the class itself, rather than the instances of the class. We won't go into this right now, but do know that they exist. There are also [<b>static methods</b>](https://www.askpython.com/python/python-static-method), but there are important [<b>differences between class and static methods</b>](https://www.geeksforgeeks.org/class-method-vs-static-method-python/). Once again, know that these exist.<br>\n"
   ]
  },
  {
   "cell_type": "markdown",
   "metadata": {
    "deletable": false,
    "editable": false
   },
   "source": [
    "<div class=\"alert alert-block alert-info\">\n",
    "Your turn!<br> \n",
    "1. Create a class called <code>Cat</code>, with attributes <code>name</code>, <code>age</code>, and <code>number</code>.<br>\n",
    "2. Give the <code>Cat</code> class two static attributes: <code>species</code>, set to \"F. catus\", and an instance counter <code>count</code>, initialized to zero.<br>\n",
    "3. Give this class a method <code>desc()</code> that returns a string that gives the cat number, its name, its age, the total number of cats that we've created, and its species.<br>\n",
    "4. Give this class another method <code>speak(sound)</code> that prints the cat's name and the sound it makes.<br>\n",
    "5. In your <code>main()</code>, create at least three <code>Cat</code> objects, give them names and ages, and use the <code>desc()</code> method to print info (number, how many total cats, name, age, and species) about each cat. Then, make each cat say something.<br>\n",
    "</div>\n",
    "\n",
    "Your output should resemble the following:\n",
    "<pre>\n",
    "Cat #1 of 3 is named Freya, age 3.5, species F. catus\n",
    "Cat #2 of 3 is named Henri, age 1.0, species F. catus\n",
    "Cat #3 of 3 is named Dmitri, age 6.0, species F. catus\n",
    "Dmitri says hiss\n",
    "Henri says yawn\n",
    "Freya says meow   \n",
    "</pre>"
   ]
  },
  {
   "cell_type": "code",
   "execution_count": 121,
   "metadata": {
    "deletable": false
   },
   "outputs": [],
   "source": [
    "class Cat:\n",
    "    pass\n",
    "\n",
    "\n",
    "def main():\n",
    "    c1 = Cat() # eventually, this will take args like \"cat1\", 3.5, 1\n",
    "\n",
    "\n",
    "if __name__ == '__main__':\n",
    "    main()"
   ]
  },
  {
   "cell_type": "markdown",
   "metadata": {
    "deletable": false,
    "editable": false
   },
   "source": [
    "<div class=\"alert alert-block alert-info\">\n",
    "Now try this:<br>\n",
    "1. Create a class called <code>Point</code>, with attributes <code>x</code> and <code>y</code>. (See earlier code cells - just borrow the code.) <br>\n",
    "2. Create a class called <code>Triangle</code>, with one class variable being a <code>Point</code> at the origin, and the other two <code>Points</code> as arguments to the constructor. (That is, your <code>Triangle</code> object will always have one vertex at the origin.) <br>\n",
    "3. Give this class a method <code>sides()</code>, which computes the lengths of each of the three sides, and returns them as a list of floats. (Again, borrow this code from cells above.) <br>\n",
    "4. Give this class a method <code>info()</code>, which prints out a list of the three vertices (<code>Point</code> coordinates) and a list of the three side lengths. <br>\n",
    "5. Give this class a method <code>isIsosceles()</code>, which returns a boolean <code>True</code> if any two sides are equal in length. <br>\n",
    "6. Give this class a method <code>isEquilateral()</code>, which returns a boolean <code>True</code> if all three sides are equal in length.<br>\n",
    "7. Give this class a method <code>area()</code>, which uses <a href=\"https://en.wikipedia.org/wiki/Heron%27s_formula\"><b>Heron's formula</b></a> to compute the area given the lengths of all three sides, and returns it as a float. <br>\n",
    "8. Now, in your <code>main()</code>, ask the user to input the coordinates of two vertices of a triangle. Using the <code>Triangle</code> class methods, print out info about the triangle (coordinates of all vertices and the side lengths), then print out whether the triangle is isosceles, is equilateral, is a right triangle, and report its area. <br>\n",
    "9. Show the results of testing your code for four cases: (1) triangle is scalene (all sides unequal in length), (2) triangle is isosceles (two sides equal in length), (3) triangle is equilateral, (three sides equal in length), and (4) triangle is degenerate (all vertices lie on a line, so area is zero). <br>\n",
    "    \n",
    "<b>Extra challenge</b>: <br>\n",
    "10. Give this class a method <code>slopes()</code>, which computes the slopes of each of the three sides, and returns them as a list of floats. (If the x coordinates of any two points are the same, the slope is <code>float(\"nan\")</code>.) <br>\n",
    "11. Give this class a method <code>isRight()</code>, which returns a boolean <code>True</code> if any two sides have slopes that are negative reciprocals of each other. (If one slope is zero and another is <code>float(\"nan\")</code>, return <code>True</code>.) <br>\n",
    "12. Test your code for an additional two cases: (5) triangle is a right triangle, where (a) the two perpendicular sides are aligned with the x and y axes, and (b) the two perpendicular sides are not aligned with the x and y axes. <br>\n",
    "</div>\n",
    "<br>\n",
    "You may find the following function handy. <code>areFloatsEqual()</code> enables two floating-point numbers to be compared for equality <b>within a specified tolerance</b> <code>eps</code>, to mitigate the effects of rounding errors (due to the way floats are internally stored, according to the <a href=\"https://en.wikipedia.org/wiki/IEEE_754\"><b>IEEE-754</b></a> specification)\n",
    "<pre>\n",
    "import math\n",
    "\n",
    "def areFloatsEqual(a, b, eps=1.0E-06): \n",
    "    if abs(a - b) < eps:\n",
    "        return True\n",
    "    else:\n",
    "        return False\n",
    "      \n",
    "x1 = 1.7320508\n",
    "x2 = math.sqrt(3.0)\n",
    "print(areFloatsEqual(x1, x2))  # returns True\n",
    "\n",
    "x1 = 1.732\n",
    "print(areFloatsEqual(x1, x2))  # returns False\n",
    "</pre>\n"
   ]
  },
  {
   "cell_type": "code",
   "execution_count": null,
   "metadata": {
    "deletable": false
   },
   "outputs": [],
   "source": []
  }
 ],
 "metadata": {
  "colab": {
   "collapsed_sections": [],
   "name": "File I/O Python Colab notebook.ipynb",
   "provenance": []
  },
  "kernelspec": {
   "display_name": "Python 3 (ipykernel)",
   "language": "python",
   "name": "python3"
  },
  "language_info": {
   "codemirror_mode": {
    "name": "ipython",
    "version": 3
   },
   "file_extension": ".py",
   "mimetype": "text/x-python",
   "name": "python",
   "nbconvert_exporter": "python",
   "pygments_lexer": "ipython3",
   "version": "3.9.12"
  }
 },
 "nbformat": 4,
 "nbformat_minor": 1
}
