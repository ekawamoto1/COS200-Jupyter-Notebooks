{
 "cells": [
  {
   "cell_type": "markdown",
   "metadata": {
    "deletable": false,
    "editable": false
   },
   "source": [
    "## **Classes, Subclasses, and Inheritance - Python notebook**"
   ]
  },
  {
   "cell_type": "markdown",
   "metadata": {
    "deletable": false,
    "editable": false
   },
   "source": [
    "Inheritance in Python:\n",
    "\n",
    "https://www.pythontutorial.net/python-oop/python-inheritance/ <br>\n",
    "https://www.geeksforgeeks.org/inheritance-in-python/ <br>\n",
    "https://realpython.com/inheritance-composition-python/ <br>\n",
    "https://www.w3schools.com/python/python_inheritance.asp <br>\n",
    "https://docs.python.org/3/tutorial/classes.html <br><br>\n"
   ]
  },
  {
   "cell_type": "markdown",
   "metadata": {
    "deletable": false,
    "editable": false
   },
   "source": [
    "### Essential terminology:\n",
    "\n",
    "* __inheritance__ - the capability of one class to derive or inherit properties from another class <br><br>\n",
    "* __superclass__ - also known as a <b>parent</b> or <b>base</b> class, this is a class that serves as an ancestor to the classes which inherit from it <br><br>\n",
    "* __subclass__ - also known as a <b>child</b> or <b>derived</b> class, this is a class that serves as a descendant of a class from which it inherits properties <br><br>\n"
   ]
  },
  {
   "cell_type": "markdown",
   "metadata": {
    "deletable": false,
    "editable": false
   },
   "source": [
    "### Some notes about inheritance\n",
    "Inheritance allows a class to reuse the logic of an existing class. Since the subclass inherits attributes and methods of its superclass, you can use the instance of the subclass as if it were an instance of the superclass. While this notebook contains examples of single inheritance (subclasses inherit only from a single class), Python supports [multiple inheritance](https://www.geeksforgeeks.org/types-of-inheritance-python/), in which subclasses can inherit from more than one class. (Java does not allow this!) <br><br>\n",
    "In Python3, all classes are descendants of the ```object``` class, except for exceptions, which all descend from [a ```BaseExceptions``` class](https://docs.python.org/3/library/exceptions.html). The ```object``` class is what provides common methods such as ```__init__```, ```__str__```, ```__repr__```, and quite a few others. Child classes can (and do) override these methods. <br>"
   ]
  },
  {
   "cell_type": "markdown",
   "metadata": {
    "deletable": false,
    "editable": false
   },
   "source": [
    "### Classes of related objects *without* inheritance\n",
    "- note that there is a lot of duplicated code <br>\n",
    "- this is inefficient, prone to error (especially if something is copied and pasted inaccurately), and does not promote code reuse <br>\n",
    "\n"
   ]
  },
  {
   "cell_type": "code",
   "execution_count": 1,
   "metadata": {
    "deletable": false,
    "editable": false
   },
   "outputs": [
    {
     "name": "stdout",
     "output_type": "stream",
     "text": [
      "Name = John, dob = 01/01/1980, address = 123 A Ave.\n",
      "<class '__main__.Person'>\n",
      "person1 is an instance of Person? True\n",
      "Hello! My name is John.\n",
      "\n",
      "Name = Anne, dob = 01/01/1970, address = 456 B Ave., school = Baxter Academy, department = Science\n",
      "<class '__main__.Teacher'>\n",
      "teacher1 is an instance of Teacher? True\n",
      "teacher1 is an instance of Student? False\n",
      "teacher1 is an instance of Person? False\n",
      "Good morning! I'm Anne, a teacher in the Science department of Baxter Academy.\n",
      "\n",
      "Name = Fred, dob = 01/01/2005, address = 123 Main St., school = Baxter Academy, id number = 123456789\n",
      "<class '__main__.Student'>\n",
      "student1 is an instance of Student? True\n",
      "student1 is an instance of Teacher? False\n",
      "student1 is an instance of Person? False\n",
      "\n",
      "student1's info is now: Name = Julius, dob = 03/15/2006, address = 123 Main St., school = Baxter Academy, id number = 123456789\n",
      "Yo! I'm Julius, a student in the Class of 2023 at Baxter Academy.\n"
     ]
    }
   ],
   "source": [
    "# code cell 1\n",
    "# first, let's illustrate three related classes without inheritance\n",
    "\n",
    "class Person:\n",
    "    def __init__(self, name, dob, addr):\n",
    "        self.name = name\n",
    "        self.dob = dob\n",
    "        self.addr = addr\n",
    "    \n",
    "    def __str__(self):\n",
    "        s = \"Name = \" + self.name + \", dob = \" + self.dob + \", address = \" + self.addr\n",
    "        return s\n",
    "    \n",
    "    def greeting(self):\n",
    "        print(\"Hello! My name is \" + self.name + \".\")\n",
    "\n",
    "\n",
    "class Teacher:\n",
    "    def __init__(self, name, dob, addr, dept, school = \"Baxter Academy\"):\n",
    "        self.name = name\n",
    "        self.dob = dob\n",
    "        self.addr = addr\n",
    "        self.school = school\n",
    "        self.dept = dept\n",
    "    \n",
    "    def __str__(self):\n",
    "        s = \"Name = \" + self.name + \", dob = \" + self.dob + \", address = \" + self.addr\n",
    "        s += \", school = \" + self.school + \", department = \" + self.dept\n",
    "        return s\n",
    "    \n",
    "    def greeting(self):\n",
    "        print(\"Good morning! I'm \" + self.name + \", a teacher in the \" + self.dept + \" department of \" + self.school + \".\")\n",
    "\n",
    "\n",
    "class Student:\n",
    "    def __init__(self, name, dob, addr, id_no, school = \"Baxter Academy\"):\n",
    "        self.name = name\n",
    "        self.dob = dob\n",
    "        self.addr = addr\n",
    "        self.school = school\n",
    "        self.id_no = id_no\n",
    "    \n",
    "    def __str__(self):\n",
    "        s = \"Name = \" + self.name + \", dob = \" + self.dob + \", address = \" + self.addr\n",
    "        s += \", school = \" + self.school + \", id number = \" + self.id_no\n",
    "        return s\n",
    "\n",
    "    def greeting(self):\n",
    "        ymd = self.dob.split(\"/\")\n",
    "        yob = ymd[2]\n",
    "        yoc = int(yob) + 17\n",
    "        print(\"Yo! I'm \" + self.name + \", a student in the Class of \" + str(yoc) + \" at \" + self.school + \".\")\n",
    "\n",
    "\n",
    "def main():\n",
    "    person1 = Person(\"John\", \"01/01/1980\", \"123 A Ave.\")\n",
    "    print(person1)\n",
    "    print(type(person1))\n",
    "    print(\"person1 is an instance of Person? \" + str(isinstance(person1, Person)))\n",
    "    person1.greeting()\n",
    "    print()\n",
    "\n",
    "    teacher1 = Teacher(\"Anne\", \"01/01/1970\", \"456 B Ave.\", \"Science\")\n",
    "    print(teacher1)\n",
    "    print(type(teacher1))\n",
    "    print(\"teacher1 is an instance of Teacher? \" + str(isinstance(teacher1, Teacher)))\n",
    "    print(\"teacher1 is an instance of Student? \" + str(isinstance(teacher1, Student)))\n",
    "    print(\"teacher1 is an instance of Person? \" + str(isinstance(teacher1, Person)))\n",
    "    teacher1.greeting()\n",
    "    print()\n",
    "    \n",
    "    student1 = Student(\"Fred\", \"01/01/2005\", \"123 Main St.\", \"123456789\")\n",
    "    print(student1)\n",
    "    print(type(student1))\n",
    "    print(\"student1 is an instance of Student? \" + str(isinstance(student1, Student)))\n",
    "    print(\"student1 is an instance of Teacher? \" + str(isinstance(student1, Teacher)))\n",
    "    print(\"student1 is an instance of Person? \" + str(isinstance(student1, Person)) + \"\\n\")\n",
    "    \n",
    "    student1.name = \"Julius\"\n",
    "    student1.dob = \"03/15/2006\"\n",
    "    print(\"student1's info is now: \" + str(student1))\n",
    "    student1.greeting()\n",
    "\n",
    "if __name__ == '__main__':\n",
    "    main()    "
   ]
  },
  {
   "cell_type": "markdown",
   "metadata": {
    "deletable": false,
    "editable": false
   },
   "source": [
    "### Classes of related objects *with* inheritance\n",
    "- the definition of the subclass takes as an argument the name of the superclass <br>\n",
    "- attributes and methods can both be inherited, but if the subclass has a method of the same name as the superclass, it overrides the superclass's method <br>\n",
    "- inheritance is transitive: if B is a subclass of A, then all subclasses of B will automatically inherit from A <br>\n",
    "- we can determine whether an instance of a class is also an instance of its superclass (```isinstance()```) <br>\n",
    "- we can determine whether a class is a subclass of another class (```issubclass()```) <br>\n",
    "- the ```dir()``` function returns a list of all attributes and methods defined on any Python object. <br>"
   ]
  },
  {
   "cell_type": "code",
   "execution_count": 2,
   "metadata": {
    "deletable": false,
    "editable": false
   },
   "outputs": [
    {
     "name": "stdout",
     "output_type": "stream",
     "text": [
      "Name = John, dob = 01/01/1980, address = 123 A Ave.\n",
      "<class '__main__.Person'>\n",
      "person1 is an instance of Person? True\n",
      "Hello! My name is John.\n",
      "\n",
      "Name = Anne, dob = 01/01/1970, address = 456 B Ave., school = Baxter Academy, department = Science\n",
      "<class '__main__.Teacher'>\n",
      "teacher1 is an instance of Teacher? True\n",
      "teacher1 is an instance of Student? False\n",
      "teacher1 is an instance of Person? True\n",
      "Good morning! I'm Anne, a teacher in the Science department of Baxter Academy.\n",
      "\n",
      "Name = Fred, dob = 01/01/2007, address = 123 Main St., school = Baxter Academy, id number = 123456789\n",
      "<class '__main__.Student'>\n",
      "student1 is an instance of Student? True\n",
      "student1 is an instance of Teacher? False\n",
      "student1 is an instance of Person? True\n",
      "Yo! I'm Fred, a student in the Class of 2024 at Baxter Academy.\n",
      "\n",
      "person1 is an instance of object? True\n",
      "student1 is an instance of object? True\n",
      "teacher1 is an instance of object? True\n",
      "\n",
      "Teacher is a subclass of Person? True\n",
      "Student is a subclass of Person? True\n",
      "\n",
      "Being is a subclass of object? True\n",
      "Person is a subclass of object? True\n",
      "Teacher is a subclass of object? True\n",
      "Student is a subclass of object? True\n",
      "\n",
      "Being (which has no methods or attributes) inherits these attributes and methods from object: ['__class__', '__delattr__', '__dict__', '__dir__', '__doc__', '__eq__', '__format__', '__ge__', '__getattribute__', '__gt__', '__hash__', '__init__', '__init_subclass__', '__le__', '__lt__', '__module__', '__ne__', '__new__', '__reduce__', '__reduce_ex__', '__repr__', '__setattr__', '__sizeof__', '__str__', '__subclasshook__', '__weakref__']\n",
      "\n",
      "Student inherits these attributes and methods: ['__class__', '__delattr__', '__dict__', '__dir__', '__doc__', '__eq__', '__format__', '__ge__', '__getattribute__', '__gt__', '__hash__', '__init__', '__init_subclass__', '__le__', '__lt__', '__module__', '__ne__', '__new__', '__reduce__', '__reduce_ex__', '__repr__', '__setattr__', '__sizeof__', '__str__', '__subclasshook__', '__weakref__', 'greeting']\n",
      "\n"
     ]
    }
   ],
   "source": [
    "# code cell 2\n",
    "# now, let's relate these classes via inheritance\n",
    "\n",
    "class Being:\n",
    "    pass\n",
    "\n",
    "\n",
    "class Person:\n",
    "    def __init__(self, name, dob, addr):\n",
    "        self.name = name\n",
    "        self.dob = dob\n",
    "        self.addr = addr\n",
    "    \n",
    "    def __str__(self):\n",
    "        s = \"Name = \" + self.name + \", dob = \" + self.dob + \", address = \" + self.addr\n",
    "        return s\n",
    "    \n",
    "    def greeting(self):\n",
    "        print(\"Hello! My name is \" + self.name + \".\")\n",
    "\n",
    "\n",
    "class Teacher(Person):\n",
    "    # subclass parameters\n",
    "    def __init__(self, name, dob, addr, dept, school = \"Baxter Academy\"):\n",
    "        # pass Person parameters to superclass by directly invoking its name (Person) - need to use self as an arg\n",
    "        Person.__init__(self, name, dob, addr)\n",
    "        self.school = school\n",
    "        self.dept = dept\n",
    "    \n",
    "    def __str__(self):\n",
    "        # pass Person parameters to superclass by directly invoking its name (Person) - need to use self as an arg\n",
    "        s = Person.__str__(self)\n",
    "        s += \", school = \" + self.school + \", department = \" + self.dept\n",
    "        return s\n",
    "\n",
    "    def greeting(self):\n",
    "        print(\"Good morning! I'm \" + self.name + \", a teacher in the \" + self.dept + \" department of \" + self.school + \".\")\n",
    "\n",
    "\n",
    "class Student(Person):\n",
    "    def __init__(self, name, dob, addr, id_no, school = \"Baxter Academy\"):\n",
    "        # pass Person parameters to superclass by invoking super() - no need to use self as an arg\n",
    "        super().__init__(name, dob, addr)\n",
    "        self.school = school\n",
    "        self.id_no = id_no\n",
    "    \n",
    "    def __str__(self):\n",
    "         # pass Person parameters to superclass by invoking super() - no need to use self as an arg\n",
    "        s = super().__str__()\n",
    "        s += \", school = \" + self.school + \", id number = \" + self.id_no\n",
    "        return s\n",
    "\n",
    "    def greeting(self):\n",
    "        ymd = self.dob.split(\"/\")\n",
    "        yob = ymd[2]\n",
    "        yoc = int(yob) + 17\n",
    "        print(\"Yo! I'm \" + self.name + \", a student in the Class of \" + str(yoc) + \" at \" + self.school + \".\")\n",
    "\n",
    "\n",
    "def main():\n",
    "    person1 = Person(\"John\", \"01/01/1980\", \"123 A Ave.\")\n",
    "    print(person1)\n",
    "    print(type(person1))\n",
    "    print(\"person1 is an instance of Person? \" + str(isinstance(person1, Person)))\n",
    "    person1.greeting()\n",
    "    print()\n",
    "\n",
    "    teacher1 = Teacher(\"Anne\", \"01/01/1970\", \"456 B Ave.\", \"Science\")\n",
    "    print(teacher1)\n",
    "    print(type(teacher1))\n",
    "    print(\"teacher1 is an instance of Teacher? \" + str(isinstance(teacher1, Teacher)))\n",
    "    print(\"teacher1 is an instance of Student? \" + str(isinstance(teacher1, Student)))\n",
    "    print(\"teacher1 is an instance of Person? \" + str(isinstance(teacher1, Person)))\n",
    "    teacher1.greeting()\n",
    "    print()\n",
    "    \n",
    "    student1 = Student(\"Fred\", \"01/01/2007\", \"123 Main St.\", \"123456789\")\n",
    "    print(student1)\n",
    "    print(type(student1))\n",
    "    print(\"student1 is an instance of Student? \" + str(isinstance(student1, Student)))\n",
    "    print(\"student1 is an instance of Teacher? \" + str(isinstance(student1, Teacher)))\n",
    "    print(\"student1 is an instance of Person? \" + str(isinstance(student1, Person)))\n",
    "    student1.greeting()\n",
    "    print()\n",
    "    \n",
    "    print(\"person1 is an instance of object? \" + str(isinstance(person1, object)))\n",
    "    print(\"student1 is an instance of object? \" + str(isinstance(student1, object)))\n",
    "    print(\"teacher1 is an instance of object? \" + str(isinstance(teacher1, object)))\n",
    "    print()\n",
    "\n",
    "    print(\"Teacher is a subclass of Person? \" + str(issubclass(Teacher, Person)))\n",
    "    print(\"Student is a subclass of Person? \" + str(issubclass(Student, Person)))\n",
    "    print()\n",
    "    print(\"Being is a subclass of object? \" + str(issubclass(Being, object)))\n",
    "    print(\"Person is a subclass of object? \" + str(issubclass(Person, object)))\n",
    "    print(\"Teacher is a subclass of object? \" + str(issubclass(Teacher, object)))\n",
    "    print(\"Student is a subclass of object? \" + str(issubclass(Student, object)))\n",
    "    print()\n",
    "    \n",
    "    print(\"Being (which has no methods or attributes) inherits these attributes and methods from object: \" + str(dir(Being)))\n",
    "    print()\n",
    "    print(\"Student inherits these attributes and methods: \" + str(dir(Student)))\n",
    "    print()\n",
    "    \n",
    "if __name__ == '__main__':\n",
    "    main()    "
   ]
  },
  {
   "cell_type": "markdown",
   "metadata": {
    "deletable": false,
    "editable": false
   },
   "source": [
    "<div class=\"alert alert-block alert-info\">\n",
    "<b>Your turn!</b><br>\n",
    "1. In the constructor of <code>Teacher</code> below, add an attribute <code>student_names</code> and initialize it to an empty set. <br>\n",
    "2. In the constructor of <code>Student</code> below, add an attribute <code>teacher_names</code> and initialize it to an empty set. <br>\n",
    "3. In the class definition of <code>Teacher</code>, define a method <code>add_student(person)</code> which adds the <b>name</b> of the person to the set of student names. <br>\n",
    "4. In the class definition of <code>Student</code>, define a method <code>add_teacher(person)</code> which adds the <b>name</b> of the teacher to the set of teacher names. <br>\n",
    "5. In <code>Teacher.add_student(person)</code>, determine whether <code>person</code> is an instance of <code>Student</code>; if it is, then call <code>Student.add_teacher()</code> to add the teacher's name to the set of the student's teachers. <br>\n",
    "6. To test this, create (instantiate) at least two teachers (Anne and Joe) and three students (Fred, Mary, and Sarah), then give each teacher at least one student. print out the set of each student's teachers, and the set of each teacher's students.<br>\n",
    "</div>"
   ]
  },
  {
   "cell_type": "code",
   "execution_count": 29,
   "metadata": {
    "deletable": false
   },
   "outputs": [],
   "source": [
    "class Person:\n",
    "    def __init__(self, name, dob, addr):\n",
    "        self.name = name\n",
    "        self.dob = dob\n",
    "        self.addr = addr\n",
    "    \n",
    "    def __str__(self):\n",
    "        s = \"Name = \" + self.name + \", dob = \" + self.dob + \", address = \" + self.addr\n",
    "        return s\n",
    "    \n",
    "    def greeting(self):\n",
    "        print(\"Hello! My name is \" + self.name + \".\")\n",
    "\n",
    "\n",
    "class Teacher(Person):\n",
    "    # subclass parameters\n",
    "    def __init__(self, name, dob, addr, dept, school = \"Baxter Academy\"):\n",
    "        # pass Person parameters to superclass by directly invoking its name (Person) - need to use self as an arg\n",
    "        Person.__init__(self, name, dob, addr)\n",
    "        self.school = school\n",
    "        self.dept = dept\n",
    "    \n",
    "    def __str__(self):\n",
    "        s = super().__str__()\n",
    "        s += \", school = \" + self.school + \", department = \" + self.dept\n",
    "        return s\n",
    "\n",
    "    def greeting(self):\n",
    "        print(\"Good morning! I'm \" + self.name + \", a teacher in the \" + self.dept + \" department of \" + self.school + \".\")\n",
    "        \n",
    "\n",
    "class Student(Person):\n",
    "    def __init__(self, name, dob, addr, id_no, school = \"Baxter Academy\"):\n",
    "        # pass Person parameters to superclass by invoking super() - no need to use self as an arg\n",
    "        super().__init__(name, dob, addr)\n",
    "        self.school = school\n",
    "        self.id_no = id_no\n",
    "    \n",
    "    def __str__(self):\n",
    "        s = super().__str__()\n",
    "        s += \", school = \" + self.school + \", id number = \" + self.id_no\n",
    "        return s\n",
    "\n",
    "    def greeting(self):\n",
    "        ymd = self.dob.split(\"/\")\n",
    "        yob = ymd[2]\n",
    "        yoc = int(yob) + 17\n",
    "        print(\"Yo! I'm \" + self.name + \", a student in the Class of \" + str(yoc) + \" at \" + self.school + \".\")\n",
    "\n",
    "\n",
    "def main():\n",
    "    pass\n",
    "\n",
    "if __name__ == '__main__':\n",
    "    main()"
   ]
  },
  {
   "cell_type": "markdown",
   "metadata": {
    "deletable": false,
    "editable": false
   },
   "source": [
    "<div class=\"alert alert-block alert-info\">\n",
    "<b>Now, try this!</b><br>\n",
    "1. Create a subclass called <code>Car</code> that inherits from <code>Vehicle</code>, which also has the same value for <code>number_of_wheels</code> and the same default value for <code>fuel</code>; also give it attributes <code>color</code> and <code>year</code>. <br>\n",
    "2. For the <code>Car</code> class, give this a method <code>isOld()</code> that returns <code>True</code> if the model year is less than the current calendar year - 10, and <code>False</code> otherwise. <br>\n",
    "3. Create a subclass called <code>Truck</code> that also inherits from <code>Vehicle</code>, but make <code>number_of_wheels = 6</code> and the default value of <code>fuel = \"diesel\"</code>; also give it attributes <code>length</code> and <code>height</code>.  <br>\n",
    "4. Create a subclass called <code>Motorcycle</code> that also inherits from <code>Vehicle</code>, but make <code>number_of_wheels = 2</code>, and give it an attribute <code>horsepower</code>. <br>\n",
    "5. Give each class a method called <code>description()</code> that prints the type of vehicle it is, and its attributes <br>\n",
    "6. Then, in your <code>main()</code>, instantiate a vehicle of each class: <code>Car(\"Chevy\", \"Malibu\", 23, \"gas\", \"red\", \"2005\")</code>, <code>Truck(\"Freightliner\", \"M2 112\", 9, \"diesel\", 28, 102)</code>, <code>Motorcycle(\"Harley-Davidson\", \"Iron 1200\", 48, \"gas\", 60)</code>. <br>\n",
    "7. Instantiate another <code>Car(\"Toyota\", \"Prius c\", 45, \"hybrid\", \"blue\", 2019)</code>, and invoke the <code>isOld()</code> method on both cars to determine which one is old. <br>\n",
    "8. Determine whether <code>Car</code> is a subclass of <code>Vehicle</code>, and that your Harley-Davidson is an instance of <code>Vehicle</code>, <code>Motorcycle</code>, and <code>Car</code>. <br>\n",
    "9. Report the vehicle's range by calling the <code>range()</code> method for your car, truck, and motorcycle objects, given these tank capacities: 16 gal (2005 Chevy Malibu), 11.3 gal (2019 Toyota Prius c), 3.3 gal (2020 Harley-Davidson Iron 1200), and 80 gal (2016 Freightliner M2 112).\n",
    "</div>"
   ]
  },
  {
   "cell_type": "code",
   "execution_count": 9,
   "metadata": {
    "deletable": false
   },
   "outputs": [
    {
     "name": "stdout",
     "output_type": "stream",
     "text": [
      "current year: 2021\n"
     ]
    }
   ],
   "source": [
    "from datetime import datetime\n",
    "\n",
    "class Vehicle:\n",
    "    number_of_wheels = 4\n",
    "    \n",
    "    def __init__(self, make, model, mpg, fuel=\"gas\"):\n",
    "        self.make = make\n",
    "        self.model = model\n",
    "        self.mpg = mpg\n",
    "        self.fuel = fuel\n",
    "\n",
    "    def range(self, tank_vol):\n",
    "        return tank_vol * self.mpg\n",
    "\n",
    "\n",
    "\n",
    "def main():\n",
    "    # this might come in handy somewhere else\n",
    "    print(\"current year: \" + str(datetime.now().year)) \n",
    "\n",
    "\n",
    "if __name__ == '__main__':\n",
    "    main()  "
   ]
  },
  {
   "cell_type": "code",
   "execution_count": null,
   "metadata": {
    "deletable": false
   },
   "outputs": [],
   "source": []
  }
 ],
 "metadata": {
  "celltoolbar": "Edit Metadata",
  "colab": {
   "collapsed_sections": [],
   "name": "File I/O Python Colab notebook.ipynb",
   "provenance": []
  },
  "kernelspec": {
   "display_name": "Python 3 (ipykernel)",
   "language": "python",
   "name": "python3"
  },
  "language_info": {
   "codemirror_mode": {
    "name": "ipython",
    "version": 3
   },
   "file_extension": ".py",
   "mimetype": "text/x-python",
   "name": "python",
   "nbconvert_exporter": "python",
   "pygments_lexer": "ipython3",
   "version": "3.9.2"
  }
 },
 "nbformat": 4,
 "nbformat_minor": 1
}
