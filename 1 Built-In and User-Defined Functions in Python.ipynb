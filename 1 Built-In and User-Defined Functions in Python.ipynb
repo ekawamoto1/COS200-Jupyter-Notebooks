{
 "cells": [
  {
   "cell_type": "markdown",
   "metadata": {
    "deletable": false
   },
   "source": [
    "## **Built-In and User-Defined Functions in Python**\n",
    "\n"
   ]
  },
  {
   "cell_type": "markdown",
   "metadata": {
    "deletable": false,
    "editable": false
   },
   "source": [
    "#### Built-in functions\n",
    "\n",
    "see https://www.w3schools.com/python/python_ref_functions.asp\n",
    "\n",
    "There is a large number of [built-in functions](https://www.javatpoint.com/python-built-in-functions) in Python. Here, we will illustrate the use of selected built-in functions: <code>float()</code>, <code>int()</code>, <code>hex()</code>, <code>oct()</code>, <code>min()</code>, <code>max()</code>, <code>round()</code>, <code>type()</code>, and <code>str()</code>. <br><br>\n",
    "\n",
    "| Function |  Description  |  Example  |\n",
    "| --: | :-- | :-- |\n",
    "| <code>float()</code> | converts the specified value into a floating-point number | <code>x = float(s)</code> |\n",
    "| <code>int()</code> | converts (or truncates) the specified value into an integer | <code>n = int(x)</code> |\n",
    "| <code>hex()</code> | converts the specified base-10 integer to its base-16 representation | <code>m = hex(n)</code> |\n",
    "| <code>oct()</code> | converts the specified base-10 integer to its base-8 representation | <code>m = oct(n)</code> |\n",
    "| <code>bin()</code> | converts the specified base-10 integer to its base-2 representation | <code>m = bin(n)</code> |\n",
    "| <code>chr()</code> | converts the specified Unicode value to its string representation | <code>c = chr(n)</code> |\n",
    "| <code>ord()</code> | converts the specified character to its Unicode value | <code>n = ord(c)</code> |\n",
    "| <code>str()</code> | converts the specified value into its string representation | <code>s = str(x)</code> |\n",
    "| <code>min()</code> | returns the item with the smallest value (also works with a list) | <code>m = min(x1, x2, ... , xN)</code> |\n",
    "| <code>max()</code> | returns the item with the largest value (also works with a list) | <code>M = max(x1, x2, ... , xN)</code> |\n",
    "| <code>abs()</code> | returns the absolute value of the specified number | <code>a = abs(x)</code> |\n",
    "| <code>round()</code> | returns a floating-point value that is the specified number rounded to a specified number of decimal places | <code>y = round(x, n)</code> |\n",
    "| <code>type()</code> | returns the type of a specified object | <code>t = type(x)</code> |\n",
    "| <code>len()</code> | returns the number of items in an object (or the number of characters in a string) | <code>n = len(s)</code> |"
   ]
  },
  {
   "cell_type": "markdown",
   "metadata": {
    "deletable": false,
    "editable": false
   },
   "source": [
    "Some examples of built-in functions and their usage:"
   ]
  },
  {
   "cell_type": "code",
   "execution_count": null,
   "metadata": {
    "deletable": false,
    "editable": false
   },
   "outputs": [],
   "source": [
    "# code cell 1\n",
    "\n",
    "a = 63\n",
    "print(\"a =\", end=\" \"); print(a)\n",
    "print(type(a))\n",
    "print(\"hex(a) =\", end=\" \"); print(hex(a))\n",
    "print(\"oct(a) =\", end=\" \"); print(oct(a))\n",
    "print(\"float(a) =\", end=\" \"); print(float(a))\n",
    "print()\n",
    "\n",
    "b = [13, 5, -23, 17, -9, 0]\n",
    "print(\"b =\", end = \" \"); print(b)\n",
    "print(type(b))\n",
    "print(\"min(b) =\", end=\" \"); print(min(b))\n",
    "print()\n",
    "\n",
    "c = -4.8749E+01\n",
    "print(\"c =\", end = \" \"); print(c)\n",
    "print(type(c))\n",
    "print(\"int(c) =\", end = \" \"); print(int(c))\n",
    "print(\"round(c) =\", end = \" \"); print(round(c))\n",
    "print(\"round(c, 1) =\", end = \" \"); print(round(c, 1))\n",
    "print(\"round(c, 2) =\", end = \" \"); print(round(c, 2))\n",
    "print()\n",
    "\n",
    "d = \"-4.8749\"\n",
    "print(\"d =\", end = \" \"); print('\\\"' + d + '\\\"')\n",
    "print(type(d))\n",
    "print(\"float(d) =\", end = \" \"); print(float(d))\n",
    "print(type(float(d)))\n",
    "print()\n",
    "\n",
    "e = range(-2, 6)\n",
    "s = ''\n",
    "for x in e:\n",
    "    s += str(x) + ', '\n",
    "print(\"e = range(-2, 6)\"); print(\"s is its representation as a string\")\n",
    "print('s = \\\"' + s + '\\\"')\n",
    "print(\"e is of type\", end=\" \"); print(type(e))\n",
    "print(\"s is of type\", end=\" \"); print(type(s))\n",
    "print()\n",
    "\n",
    "f = ord('a')\n",
    "print(\"f = ord('a')\")\n",
    "print(f, \"is the Unicode value corresponding to the character 'a'\")\n",
    "c = chr(65)\n",
    "print(\"'\" + c + \"'\", \"is the character corresponding to the Unicode value 65\")\n",
    "\n",
    "if 1:  # this is a cute way of \"commenting out (0) or uncommenting (1)\" a block of code\n",
    "    g = input('Enter a number, some text, anything: ')\n",
    "    print(g + ' is of type ' + str(type(g)))"
   ]
  },
  {
   "cell_type": "markdown",
   "metadata": {
    "deletable": false
   },
   "source": [
    "<div class=\"alert alert-block alert-info\">\n",
    "Try some yourself! First, <b>run the cell above</b> in order to assign values to <code>a</code>, <code>b</code>, <code>c</code>, <code>d</code>, and <code>e</code>. Then, in the cell below, write some code using built-in functions to determine and print: <br>\n",
    "    \n",
    "1. The binary representation of <code>a</code> <br>\n",
    "2. The maximum element of the list <code>b</code> <br>\n",
    "3. The number of elements in the list <code>b</code> <br>\n",
    "4. The absolute value of <code>c</code> <br>\n",
    "5. A list containing the elements of range <code>e</code> <br>\n",
    "    \n",
    "In the cell above, why does it return <code>< class 'str' ></code> no matter what you input?\n",
    "</div>"
   ]
  },
  {
   "cell_type": "code",
   "execution_count": null,
   "metadata": {
    "deletable": false
   },
   "outputs": [],
   "source": [
    "# code for built-in functions exercises\n",
    "\n"
   ]
  },
  {
   "cell_type": "markdown",
   "metadata": {
    "deletable": false,
    "editable": false
   },
   "source": [
    "Now, let's see some examples of functions imported from modules (see the *long* list of available modules at the bottom of this notebook).\n",
    "\n",
    "Below is an example of code that uses the <code>random</code> module - it is a game that resembles Wheel of Fortune. "
   ]
  },
  {
   "cell_type": "code",
   "execution_count": null,
   "metadata": {
    "deletable": false,
    "editable": false
   },
   "outputs": [],
   "source": [
    "# code cell 2\n",
    "\n",
    "# for more about the random module, see\n",
    "# https://www.geeksforgeeks.org/random-numbers-in-python/\n",
    "import random\n",
    "\n",
    "def main():\n",
    "    word = \"phosphorylation\"\n",
    "    guessed = \"\"\n",
    "    score = 0\n",
    "    n = len(word)\n",
    "    s = n * '*'\n",
    "    print(s)\n",
    "    \n",
    "    while True:\n",
    "        c = input(\"Guess a lowercase letter (? to stop), or the entire word or phrase: \")\n",
    "        if c == '?':\n",
    "            print('The word was', word, 'and your final score is', score, '... goodbye!')\n",
    "            break\n",
    "        elif c == 'a' or c == 'e' or c == 'i' or c == 'o' or c == 'u':\n",
    "            score -= 100\n",
    "            print(\"A vowel costs 100; your score is\", score)\n",
    "        elif c in guessed:\n",
    "            print(\"You already guessed\", c, \"... try again!\\n\")\n",
    "            continue\n",
    "        elif len(c) > 1:\n",
    "            if c == word:\n",
    "                score += 1000\n",
    "                print('You win! Your final score is', score)\n",
    "                break\n",
    "            else:\n",
    "                score -= 1000\n",
    "                print('Your guess was incorrect; your score is', score)\n",
    "        else:\n",
    "            k = word.count(c)\n",
    "            pts = 10 * random.randint(-1, 10)\n",
    "            if pts < 0:\n",
    "                score = 0\n",
    "                print(\"Womp womp! Your score is 0\")\n",
    "            else:\n",
    "                print(\"Each letter is worth\", str(pts), end='')\n",
    "                if k == 0:\n",
    "                    score -= pts\n",
    "                    print(\", but\", c, \"is not in the word; your score is\", score)\n",
    "                else:\n",
    "                    score += k * pts\n",
    "                    print(\"; your score is\", score)\n",
    "        guessed += c\n",
    "        print()\n",
    "        \n",
    "        t = ''\n",
    "        for i in range(n):\n",
    "            if word[i] == c:\n",
    "                t += c\n",
    "            elif s[i] == '*':\n",
    "                t += '*'\n",
    "            else:\n",
    "                t += s[i]\n",
    "        print(t)\n",
    "        s = t\n",
    "\n",
    "\n",
    "main()"
   ]
  },
  {
   "cell_type": "markdown",
   "metadata": {
    "deletable": false,
    "editable": false
   },
   "source": [
    "<div class=\"alert alert-block alert-info\">\n",
    "Now you try! Write some code below that: <br>\n",
    "    \n",
    "1. Creates a string of ten random letters between A and J (hint: use <code>chr()</code>: see <a href=\"https://www.digitalocean.com/community/tutorials/python-ord-chr\"><b>Python <code>ord()</code>, <code>chr()</code> functions</b></a>) <br>\n",
    "2. Prints out the string <br>\n",
    "3. Identifies and prints which letters occur more than once <br>\n",
    "4. Counts and prints the number of times each of the non-unique letters occurs <br>\n",
    "\n",
    "    \n",
    "Your output should resemble this:\n",
    "<pre>\n",
    "DFJFDIBAFE\n",
    "D occurs 2 times\n",
    "F occurs 3 times\n",
    "</pre>\n",
    "    \n",
    "Remember to <b>copy</b> your output (<code>CTRL-C</code>), <b>paste</b> it into the bottom of the code cell (<code>CTRL-V</code>), and <b>comment</b> it out (<code>CTRL-/</code>). <br><br>\n",
    "    \n",
    "<b>Extra challenge</b>: Print out the indices (positions in the string) at which each of the non-unique letters occur, as well as a \"ruler\" (the string <code>\"0123456789\"</code>) directly above your random letters:\n",
    "<pre>\n",
    "           0123456789\n",
    "string s = DFJFDIBAFE\n",
    "D occurs 2 times in s at indices 0 4 \n",
    "F occurs 3 times in s at indices 1 3 8 \n",
    "</pre>     \n",
    "</div>"
   ]
  },
  {
   "cell_type": "code",
   "execution_count": null,
   "metadata": {
    "deletable": false
   },
   "outputs": [],
   "source": [
    "# code for exercises on non-unique letters in a string\n",
    "\n",
    "import random\n",
    "\n",
    "def main():\n",
    "    pass\n",
    "\n",
    "# remember to invoke main()!\n",
    "main()"
   ]
  },
  {
   "cell_type": "markdown",
   "metadata": {
    "deletable": false,
    "editable": false
   },
   "source": [
    "Below are some samples of code that use the <code>date</code>, <code>time</code>, <code>datetime</code>, and <code>tz</code> modules"
   ]
  },
  {
   "cell_type": "code",
   "execution_count": null,
   "metadata": {
    "deletable": false
   },
   "outputs": [],
   "source": [
    "# code cell 3\n",
    "\n",
    "# for more about the datetime module, see \n",
    "# https://www.geeksforgeeks.org/python-datetime-module/?ref=lbp\n",
    "# for more about the time module, time.time(), and time.sleep(), see\n",
    "# https://www.digitalocean.com/community/tutorials/python-time-sleep\n",
    "# for more about formatted strings, see\n",
    "# https://www.w3schools.com/python/python_string_formatting.asp\n",
    "\n",
    "from datetime import date, datetime\n",
    "\n",
    "today1 = date.today()\n",
    "print(\"The current date is\", str(today1) + \"; this has data type\", type(today1))\n",
    "\n",
    "y1 = today1.year\n",
    "m1 = today1.month\n",
    "d1 = today1.day\n",
    "print(f\"in mm/dd/yyyy format, {m1:02d}/{d1:02d}/{y1:04d}\\n\")\n",
    "      \n",
    "today2 = datetime.today()\n",
    "print(\"The current date and time is\", str(today2) + \"; this has data type\", type(today2))\n",
    "\n",
    "h2 = today2.hour\n",
    "m2 = today2.minute\n",
    "s2 = today2.second\n",
    "us2 = today2.microsecond\n",
    "s = f\"in hh:mm:ss format, {h2:02d}:{m2:02d}:{s2:02d} + {us2:06d} usec\\n\"\n",
    "print(s)\n",
    "\n",
    "nyd2025 = datetime(2025, 1, 1, 0, 0, 0)\n",
    "dow = [\"Monday\", \"Tuesday\", \"Wednesday\", \"Thursday\", \"Friday\", \"Saturday\", \"Sunday\"]\n",
    "print(\"New Year's Day was\", nyd2025, \", which fell on a\", dow[nyd2025.weekday()], \"\\n\")\n",
    "\n",
    "diff = today2 - nyd2025\n",
    "print(\"The difference between today and New Year's Day is\", diff, \"hours\")\n",
    "print(\"or\", diff.days, \"hours and\", diff.seconds, \"seconds\")\n",
    "print(\"the difference between two datetime objects has data type\", type(diff), \"\\n\")\n",
    "\n",
    "ts = diff.total_seconds()\n",
    "print(\"It has been\", ts, \"seconds since New Year's Day\")\n",
    "tm = ts / 60\n",
    "th = ts / (60 * 60)\n",
    "td = ts / (24 * 60 * 60)\n",
    "print(\"or\", round(ts), \"seconds, or\", round(tm, 1), \"minutes, or\", round(th, 2), \"hours, or\", round(td, 3), \"days\\n\")\n",
    "\n",
    "\n",
    "# using the timer\n",
    "import time\n",
    "\n",
    "st = float(input(\"Enter time to sleep (seconds): \"))\n",
    "start = time.time()\n",
    "time.sleep(st)\n",
    "end = time.time()\n",
    "\n",
    "etms = 1000 * (end - start)\n",
    "print(\"elapsed time:\", round(st, 3), \"sec, or\", round(etms, 1), \"msec\")"
   ]
  },
  {
   "cell_type": "markdown",
   "metadata": {
    "deletable": false,
    "editable": false
   },
   "source": [
    "<div class=\"alert alert-block alert-info\">\n",
    "Your turn! After running and understanding the examples above, <br>\n",
    "\n",
    "1. Assign to <code>t1</code> your birthday (year, month, day) (just use 01/01/YOB if you don't want to use your actual DOB)<br>\n",
    "\n",
    "2. Set <code>t2</code> to now (just year, month, day) <br>\n",
    "\n",
    "3. Compute the difference between today and your birthday (<code>t2 - t1</code>), and express the result in days <br>\n",
    "\n",
    "4. Express the result from #3 in years (round to two decimal places) <br>\n",
    "\n",
    "5. Assign to <code>t3</code> the date and time school started this morning (08:25:00) <br>\n",
    "\n",
    "6. Assign to <code>t4</code> the date and time school ends for today (14:30:00) <br>\n",
    "\n",
    "7. Compute the difference between the start of the school day and now, and between now and the end of the school day. Express both results in seconds (round to the nearest second) <br>\n",
    "\n",
    "8. Express both results from #7 in hours, minutes, and seconds (all integers) <br>\n",
    "\n",
    "Your output should resemble this:\n",
    "<pre>\n",
    "days since 1/1/YOB: 22671\n",
    "years since 1/1/YOB: 62.11\n",
    "\n",
    "difference between 8:25 am and now: 2100 sec\n",
    "or 0 hours, 35 minutes, 0 sec\n",
    "difference between now and 2:30 pm: 19800 sec\n",
    "or 5 hours, 30 minutes, 0 sec\n",
    "</pre>\n",
    "Remember to <b>copy</b> your output (<code>CTRL-C</code>), <b>paste</b> it into the bottom of the code cell (<code>CTRL-V</code>), and <b>comment</b> it out (<code>CTRL-/</code>). <br><br>\n",
    "    \n",
    "<b>Extra challenge</b>: Write a loop that computes the sum of 1000 random integers between 1 and 10, then put it in another loop that does it 1000 times and <b>suppress the output for all but the first and last iterations</b>. Compute\n",
    "* the execution time from start to finish in seconds using <code>time.time()</code> (round to three decimal places) <br>\n",
    "* the time per iteration of the outer loop in milliseconds (round to one decimal place). <br>\n",
    "    \n",
    "This is one way to <b>profile</b> your code; see <a href=https://medium.com/swlh/what-can-you-do-with-pythons-time-module-d4004c739f79><b>https://medium.com/swlh/what-can-you-do-with-pythons-time-module-d4004c739f79</b></a> <br>\n",
    "</div>"
   ]
  },
  {
   "cell_type": "code",
   "execution_count": 42,
   "metadata": {
    "deletable": false
   },
   "outputs": [],
   "source": [
    "# code for time module exercises\n",
    "\n",
    "# TODO: improve this exercise\n",
    "\n",
    "from datetime import date, time, datetime\n",
    "import time, random\n"
   ]
  },
  {
   "cell_type": "markdown",
   "metadata": {
    "deletable": false,
    "editable": false
   },
   "source": [
    "#### User-defined functions\n",
    "\n",
    "You, the user, can <b>define</b> your own functions using the keyword <code>def</code>. The format of a function definition looks similar to that of an <code>if</code> or <code>while</code> block:\n",
    "<pre>\n",
    "def myFunction(input1, input2, ..., inputN):\n",
    "    do something\n",
    "    do something\n",
    "    do something\n",
    "    . . .\n",
    "    return\n",
    "</pre>\n",
    "You may give your function any name you wish, but <b>DO NOT</b> use keywords or the names of built-in functions for the name of your own function! A user-defined function (UDF) may take as many inputs as you wish, or none at all; it may return a value (that is, assign a value to a variable in the calling function), or it may return nothing. Functions can take inputs of any type. Statements in the body of a UDF that make up the function <b>MUST</b> be indented; outdented lines are not part of the function. <br>\n",
    "\n",
    "It turns out that, unlike Java, Python does not have a function <code>isNumeric()</code> that can be used to determine whether an object represents a numeric data type or not. Instead, I have defined a simple user-defined function <code>is_number()</code> in the cell below. Run this cell to show how it is invoked to take something entered by the user (using <code>input()</code>) and convert it to an <code>int</code> or <code>float</code> ONLY IF it is a number.\n"
   ]
  },
  {
   "cell_type": "code",
   "execution_count": null,
   "metadata": {
    "deletable": false,
    "editable": false
   },
   "outputs": [],
   "source": [
    "# code cell 4\n",
    "\n",
    "def is_number(string):     # this UDF uses exception handling (try ... except), which we will cover in notebook #7\n",
    "    try:\n",
    "        float(string)\n",
    "        return True\n",
    "    except ValueError:\n",
    "        return False\n",
    "\n",
    "\n",
    "def main():\n",
    "    inStr = input(\"Enter something at the keyboard: \")\n",
    "    if is_number(inStr) == True:\n",
    "        print(\"You entered the number \" + inStr)\n",
    "    else:\n",
    "        print(\"You entered the non-numeric string \" + inStr)\n",
    "\n",
    "        \n",
    "# remember to invoke main()!\n",
    "main()"
   ]
  },
  {
   "cell_type": "markdown",
   "metadata": {
    "deletable": false,
    "editable": false
   },
   "source": [
    "In coding languages like C, C++, C#, and Java, the main application code of a program is usually contained in a function called <code>main()</code>. Python also observes this convention, and the name <code>main()</code> should be reserved for this main thread of execution. Generally, it is a good idea to keep your main application code inside <code>main()</code> for readability; otherwise, it becomes difficult to distinguish UDF's from your main application code! When you invoke <code>main()</code>, this should in turn invoke (call) all the other UDF's that are defined in your source code (<code>.py</code>) file. If you define <code>main()</code> without calling it, nothing will run except all unindented lines of code (i.e., right up against the left margin). <br> "
   ]
  },
  {
   "cell_type": "code",
   "execution_count": null,
   "metadata": {
    "deletable": false,
    "editable": false
   },
   "outputs": [],
   "source": [
    "# code cell 5a\n",
    "\n",
    "def print_two_numbers(a, b): \n",
    "    print(\"The two input values are \" + str(a) + \" and \" + str(b))\n",
    "    return\n",
    "\n",
    "def add(a, b):\n",
    "    c = a + b\n",
    "    return c\n",
    "\n",
    "def mult(a, b):\n",
    "    c = a * b\n",
    "    return c\n",
    "\n",
    "\n",
    "def main():\n",
    "    print_two_numbers(2.5, 4.0)\n",
    "    c = add(2.5, 4.0)\n",
    "    print(\"Their sum is \" + str(c))\n",
    "    c = mult(2.5, 4.0)\n",
    "    print(\"Their product is \" + str(c))\n",
    "\n",
    "# remember to invoke main()!\n",
    "main()"
   ]
  },
  {
   "cell_type": "code",
   "execution_count": null,
   "metadata": {
    "deletable": false,
    "editable": false
   },
   "outputs": [],
   "source": [
    "# code cell 5b\n",
    "\n",
    "def addTwoNums(a, b):\n",
    "    return a + b\n",
    "\n",
    "def subTwoNums(a, b):\n",
    "    return a - b\n",
    "\n",
    "def multTwoNums(a, b):\n",
    "    return a * b\n",
    "\n",
    "def divTwoNums(a, b):\n",
    "    c = None\n",
    "    if b == 0:\n",
    "        print('Division by zero is not allowed')\n",
    "    else:\n",
    "        c = a / b\n",
    "    return c\n",
    "\n",
    "def twoNumCalc(a, b, op):\n",
    "    c = None\n",
    "    if op == '+':\n",
    "        c = addTwoNums(a, b)\n",
    "    elif op == '-':\n",
    "        c = subTwoNums(a, b)\n",
    "    elif op == '*':\n",
    "        c = multTwoNums(a, b)\n",
    "    elif op == '/':\n",
    "        c = divTwoNums(a, b)\n",
    "    else:\n",
    "        print('Invalid operation')\n",
    "\n",
    "    return c\n",
    "\n",
    "\n",
    "def main():\n",
    "    while True:\n",
    "        print('Enter 0 for both numbers to stop.')\n",
    "        x = float(input('Enter a number: '))\n",
    "        y = float(input('Enter another number: '))\n",
    "        if (x == 0 and y == 0):\n",
    "            print('Goodbye!')\n",
    "            break\n",
    "        op = input('Enter an operation (+, -, *, /): ')\n",
    "        z = twoNumCalc(x, y, op)\n",
    "        print('The result is', z, '\\n')\n",
    "\n",
    "        \n",
    "# remember to invoke main()!\n",
    "main()"
   ]
  },
  {
   "cell_type": "markdown",
   "metadata": {
    "deletable": false,
    "editable": false
   },
   "source": [
    "Here is an example of a user-defined function to determine and print the sign of a number, and how it is used. Note the use of formatted strings below; see <a href=\"https://reference.codeproject.com/python3/string-methods/python-string-format\"><b>Python String format() method</b></a> and <a href=\"https://www.pythoncheatsheet.org/cheatsheet/string-formatting\"><b>Python String Formatting</b></a>."
   ]
  },
  {
   "cell_type": "code",
   "execution_count": null,
   "metadata": {
    "deletable": false,
    "editable": false
   },
   "outputs": [],
   "source": [
    "# code cell 6\n",
    "\n",
    "def sign(a):\n",
    "    if a < 0:\n",
    "        s = \"{0:.2f} is negative\".format(a)\n",
    "    elif a == 0:\n",
    "        s = \"{0:.2f} is zero\".format(a)\n",
    "    else:\n",
    "        s = \"{0:.2f} is positive\".format(a)\n",
    "    print(s)\n",
    "    return\n",
    "\n",
    "\n",
    "def main():\n",
    "    i = 0\n",
    "    print(\"i = \", end=\" \"); sign(i)\n",
    "    x = \"1.2e-01\"\n",
    "    print(\"x = \", end=\" \"); sign(float(x))\n",
    "    y = 3.5\n",
    "    print(\"-y = \", end=\" \"); sign(-y)\n",
    "\n",
    "\n",
    "# remember to invoke main()!\n",
    "main()"
   ]
  },
  {
   "cell_type": "markdown",
   "metadata": {
    "deletable": false,
    "editable": false
   },
   "source": [
    "Functions, whether user-defined or built-in, can also have arguments with default values or optional arguments - see <b>https://realpython.com/python-optional-arguments/</b>. Below are some examples, starting with the built-in <code>print()</code> function, which you have seen used above with the optional argument <code>end</code>, which is usually left out of its <b>signature</b> (definition of a function's inputs and outputs, and their types, if using a strongly-typed language). For the <code>print()</code> function, <code>end</code> has the default value <code>\\r\\n</code> (carriage return and linefeed, or CR-LF), so its default behavior is to print the specified string on its own line. However, if the default value of <code>end=\"\\r\\n\"</code> is overridden by specifying <code>end=\" \"</code>, then <code>print()</code> will print the specified string on a line, but will terminate with a space instead of a CR-LF. <br>\n",
    "\n",
    "N.B. The distinction between <b>parameters</b> and <b>arguments</b> is fussy, so I will often use these terms interchangeably. The RealPython article explains the subtle distinction between the two."
   ]
  },
  {
   "cell_type": "code",
   "execution_count": null,
   "metadata": {
    "deletable": false,
    "editable": false
   },
   "outputs": [],
   "source": [
    "# code cell 7\n",
    "# for more about the functions and default/optional arguments, see\n",
    "# https://realpython.com/python-optional-arguments/\n",
    "\n",
    "# default behavior of print()\n",
    "print(\"This line of text will be terminated with a CR-LF\")\n",
    "print()\n",
    "\n",
    "# overriding the default CR-LF behavior of print()\n",
    "print(\"This will be printed\", end=\" \")\n",
    "print(\"all on one line\")\n",
    "print()\n",
    "\n",
    "# another example\n",
    "print(\"Item one\", end=\", ..., \")\n",
    "print(\"Item two\")\n",
    "print()\n",
    "\n",
    "# here is a simple example of a user-defined function with a default argument\n",
    "def helloFunc(name=\"world\"):\n",
    "    print(\"Hello, \" + name + \"!\")\n",
    "    return\n",
    "\n",
    "\n",
    "# note the use of semicolons (not normally seen in Python) below\n",
    "# in order to write two lines of code on a single line\n",
    "# this is generally NOT a recommended practice (makes code less easily readable)\n",
    "\n",
    "print('Invoke helloFunc() with no inputs:', end=' '); helloFunc()\n",
    "print('Invoke helloFunc(\"Tom\"):', end=' '); helloFunc(\"Tom\")"
   ]
  },
  {
   "cell_type": "markdown",
   "metadata": {
    "deletable": false,
    "editable": false
   },
   "source": [
    "Note that function arguments without default values are required inputs - they must be specified when the function is invoked. If they are not specified, an error will result."
   ]
  },
  {
   "cell_type": "code",
   "execution_count": 6,
   "metadata": {
    "deletable": false,
    "editable": false
   },
   "outputs": [
    {
     "name": "stdout",
     "output_type": "stream",
     "text": [
      "addFunc(3.0, 1.0, 2.0) = 2.0\n",
      "\n"
     ]
    },
    {
     "ename": "TypeError",
     "evalue": "addFunc() missing 1 required positional argument: 'num3'",
     "output_type": "error",
     "traceback": [
      "\u001b[1;31m---------------------------------------------------------------------------\u001b[0m",
      "\u001b[1;31mTypeError\u001b[0m                                 Traceback (most recent call last)",
      "\u001b[1;32m<ipython-input-6-191865d07e80>\u001b[0m in \u001b[0;36m<module>\u001b[1;34m\u001b[0m\n\u001b[0;32m     16\u001b[0m \u001b[1;33m\u001b[0m\u001b[0m\n\u001b[0;32m     17\u001b[0m \u001b[1;31m# remember to invoke main()!\u001b[0m\u001b[1;33m\u001b[0m\u001b[1;33m\u001b[0m\u001b[1;33m\u001b[0m\u001b[0m\n\u001b[1;32m---> 18\u001b[1;33m \u001b[0mmain\u001b[0m\u001b[1;33m(\u001b[0m\u001b[1;33m)\u001b[0m\u001b[1;33m\u001b[0m\u001b[1;33m\u001b[0m\u001b[0m\n\u001b[0m",
      "\u001b[1;32m<ipython-input-6-191865d07e80>\u001b[0m in \u001b[0;36mmain\u001b[1;34m()\u001b[0m\n\u001b[0;32m     11\u001b[0m \u001b[1;33m\u001b[0m\u001b[0m\n\u001b[0;32m     12\u001b[0m     \u001b[1;31m# this will not run!\u001b[0m\u001b[1;33m\u001b[0m\u001b[1;33m\u001b[0m\u001b[1;33m\u001b[0m\u001b[0m\n\u001b[1;32m---> 13\u001b[1;33m     \u001b[0mretVal2\u001b[0m \u001b[1;33m=\u001b[0m \u001b[0maddFunc\u001b[0m\u001b[1;33m(\u001b[0m\u001b[1;36m3.0\u001b[0m\u001b[1;33m,\u001b[0m \u001b[1;36m1.0\u001b[0m\u001b[1;33m)\u001b[0m\u001b[1;33m\u001b[0m\u001b[1;33m\u001b[0m\u001b[0m\n\u001b[0m\u001b[0;32m     14\u001b[0m     \u001b[0mprint\u001b[0m\u001b[1;33m(\u001b[0m\u001b[1;34m\"addFunc(3.0, 1.0) = \"\u001b[0m \u001b[1;33m+\u001b[0m \u001b[0mstr\u001b[0m\u001b[1;33m(\u001b[0m\u001b[0mretVal2\u001b[0m\u001b[1;33m)\u001b[0m \u001b[1;33m+\u001b[0m \u001b[1;34m\"\\n\"\u001b[0m\u001b[1;33m)\u001b[0m\u001b[1;33m\u001b[0m\u001b[1;33m\u001b[0m\u001b[0m\n\u001b[0;32m     15\u001b[0m \u001b[1;33m\u001b[0m\u001b[0m\n",
      "\u001b[1;31mTypeError\u001b[0m: addFunc() missing 1 required positional argument: 'num3'"
     ]
    }
   ],
   "source": [
    "# code cell 8a\n",
    "\n",
    "def addFunc(num1, num2, num3):\n",
    "    myResult = (num1 + num2) / num3\n",
    "    return myResult\n",
    "\n",
    "def main():\n",
    "    # this will run\n",
    "    retVal1 = addFunc(3.0, 1.0, 2.0)\n",
    "    print(\"addFunc(3.0, 1.0, 2.0) = \" + str(retVal1) + \"\\n\")\n",
    "\n",
    "    # this will not run!\n",
    "    retVal2 = addFunc(3.0, 1.0)\n",
    "    print(\"addFunc(3.0, 1.0) = \" + str(retVal2) + \"\\n\")\n",
    "    \n",
    "\n",
    "# remember to invoke main()!\n",
    "main()"
   ]
  },
  {
   "cell_type": "markdown",
   "metadata": {
    "deletable": false,
    "editable": false
   },
   "source": [
    "You can also invoke functions with <b>keyword</b>, or <b>named</b>, arguments using the syntax shown below. Note that, when invoking the function in this manner, the order of arguments does not need to follow the function signature, since specifying the names of its input parameters removes all ambiguity about which argument goes with which parameter. (This is a case where it's helpful to make the distinction between parameter and argument.)"
   ]
  },
  {
   "cell_type": "code",
   "execution_count": null,
   "metadata": {
    "deletable": false,
    "editable": false
   },
   "outputs": [],
   "source": [
    "# code cell 8b\n",
    "\n",
    "def specialAddFunc(num1, num2, num3=1.0):\n",
    "    myResult = (num1 + num2) / num3\n",
    "    return myResult\n",
    "\n",
    "def main():\n",
    "    # lines 13 and 14 above did not run, but these do run now - why?\n",
    "    retVal3 = specialAddFunc(3.0, 1.0)\n",
    "    print(\"specialAddFunc(3.0, 1.0) = \" + str(retVal3))\n",
    "    \n",
    "    retVal4 = specialAddFunc(num3=2.0, num2=1.0, num1=3.0)\n",
    "    print(\"specialAddFunc(num3=2.0, num2=1.0, num1=3.0) = \" + str(retVal4))\n",
    "\n",
    "    \n",
    "# remember to invoke main()!\n",
    "main()"
   ]
  },
  {
   "cell_type": "markdown",
   "metadata": {
    "deletable": false
   },
   "source": [
    "You can read more about functions with a variable number of arguments (and how to unpack them), as well as the perils of using default arguments that happen to be mutable objects in the RealPython article. <br>\n",
    "\n",
    "<div class=\"alert alert-block alert-info\">\n",
    "Your turn again! In each case, be sure to invoke your user-defined functions (UDF) in your <code>main()</code> function: <br>\n",
    "    \n",
    "1. Write a UDF <code>string1toN()</code> whose inputs are an integer <code>N</code> and a boolean <code>rev</code> whose default value is <code>False</code>. Its output (return value) is a string <code>\"HGFEDCBA\"</code> (the first $N$ letters in reverse order) if <code>rev</code> is <code>True</code> (for <code>N = 8</code>), and <code>\"ABCDEFGH\"</code> (the first $N$ letters) otherwise. Have this function report an error and <code>return</code> an empty string if $N > 26$.<br><br>\n",
    "    \n",
    "2. Write another UDF <code>stringEveryOther()</code> whose inputs are an integer <code>N</code> and a boolean <code>odd</code> whose default value is <code>False</code>. It returns a string <code>\"ACEGIKMO\"</code> (the first $N$ odd-numbered letters) if <code>odd</code> is <code>True</code> (for <code>N = 8</code>), and <code>\"BDFHJLNP\"</code> (the first $N$ even-numbered letters) otherwise. Have this function report an error and <code>return</code> an empty string if $N > 13$. <br>\n",
    "    \n",
    "In your <code>main()</code>, prompt the user to enter a(n integer) value for <code>N</code>, then invoke both UDF's to produce output like this: <br>\n",
    "\n",
    "<pre>\n",
    "string of first 8 letters: ABCDEFGH\n",
    "string of first 8 letters, reversed: HGFEDCBA\n",
    "string of first 8 even letters: ACEGIKMO\n",
    "string of first 8 odd letters: BDFHJLNP\n",
    "</pre>\n",
    "Remember to <b>copy</b> your output (<code>CTRL-C</code>), <b>paste</b> it into the bottom of the code cell (<code>CTRL-V</code>), and <b>comment</b> it out (<code>CTRL-/</code>). <br>\n",
    "</div>"
   ]
  },
  {
   "cell_type": "code",
   "execution_count": null,
   "metadata": {
    "deletable": false
   },
   "outputs": [],
   "source": [
    "# code for UDF exercises\n",
    "\n",
    "import random\n",
    "\n",
    "def string1toN(N, rev):\n",
    "    pass\n",
    "\n",
    "def stringEveryOther(N, odd):\n",
    "    pass\n",
    "\n",
    "def main():\n",
    "    pass\n",
    "    \n",
    "    \n",
    "# remember to invoke main()!\n",
    "main()"
   ]
  },
  {
   "cell_type": "markdown",
   "metadata": {
    "deletable": false,
    "editable": false
   },
   "source": [
    "#### Recursive functions\n",
    "\n",
    "The word <b>recursion</b> comes from the Latin word _recurrere_, meaning to run or hasten back, return, revert, or recur. A <i>recursive definition</i> is one in which the defined term appears in the definition itself. (English teachers and logicians would call this a <i>circular definition</i>, something which is to be avoided.) A function that calls itself is said to be a <b>recursive function</b>. Python, like many other programming languages, allow functions to call themselves, and this is not such a bad thing unless it is not done properly. Below is a well-known example of a recursive function, which computes the factorial of a positive integer. For more information about recursive functions in Python, as well as their performance relative to ordinary (non-recursive) functions, see <b>https://realpython.com/python-recursion/</b>."
   ]
  },
  {
   "cell_type": "code",
   "execution_count": 9,
   "metadata": {
    "deletable": false,
    "editable": false
   },
   "outputs": [
    {
     "name": "stdout",
     "output_type": "stream",
     "text": [
      "1! = 1\n",
      "2! = 2\n",
      "3! = 6\n",
      "4! = 24\n",
      "5! = 120\n",
      "6! = 720\n",
      "7! = 5040\n",
      "8! = 40320\n",
      "9! = 362880\n"
     ]
    }
   ],
   "source": [
    "# code cell 10\n",
    "\n",
    "def factorial(n) -> int:\n",
    "    if str(n).isnumeric() == False:\n",
    "        print(\"Input must be numeric (integer, not float)!\")\n",
    "        return -1\n",
    "    if n == 0 or n == 1:\n",
    "        return 1\n",
    "    else:\n",
    "        return n * factorial(n - 1)\n",
    "    \n",
    "\n",
    "def main():\n",
    "    for m in range(1, 10):\n",
    "        print(str(m) + \"! =\", factorial(m))\n",
    "\n",
    "\n",
    "# remember to invoke main()!\n",
    "main()"
   ]
  },
  {
   "cell_type": "markdown",
   "metadata": {
    "deletable": false,
    "editable": false
   },
   "source": [
    "<div class=\"alert alert-block alert-info\">\n",
    "Your turn to write a couple of recursive functions! First, you will write a function to compute the sum $S_n$ of the first $n$ natural numbers (that is, $S_n = \\sum_{k=1}^{n} \\!k \\; = 1 + 2\\, +\\,\\, ...\\,+\\,n$ ). <br>\n",
    "    \n",
    "1. Call this function <code>SumOfFirstN(n)</code>, and have it return <code>1</code> if <code>n</code> is 1, and <code>n + SumofFirstN(n - 1)</code> otherwise. <br>\n",
    "2. Verify that your function produces the same result as the expression <code>n * (n + 1)/2</code>. <br>\n",
    "    \n",
    "    \n",
    "Next, you will write a function to compute Fibonacci numbers. The Fibonacci sequence consists of integers defined by the linear recurrence equation <br>\n",
    "    \n",
    " $$F_n=F_{n-1}+F_{n-2}$$ \t\n",
    "    \n",
    "with $F_1=1$ and $F_2=1$. Verify that the first ten Fibonacci numbers (that is, $F_n$ for $n=1, 2, ..., 10$) are 1, 1, 2, 3, 5, 8, 13, 21, 34, and 55. <br><br>\n",
    "\n",
    "3. Write a function <code>Fibonacci(n)</code> similar to <code>factorial(n)</code> above, but have it return <code>1</code> if <code>n</code> is 1 or 2; otherwise, use the recurrence relation to compute this for other values of <code>n</code>. <br>\n",
    "4. Verify that your code correctly produces the first ten Fibonacci numbers as given above. <br>\n",
    "5. Verify that your code correctly produces the 18th and 19th Fibonacci numbers, $F_{18}$ = 2584 and $F_{19}$ = 4181, respectively, and compute $F_{19}\\,/\\,F_{18}$. Then, verify that the ratio between successive Fibonacci numbers $F_{n+1}\\,/ \\,F_{n}$ approaches the Golden Ratio $\\phi = (1 + \\sqrt{5}\\,)\\, /\\, 2 \\approx 1.6180339887...$ for large values of $n$. <br>\n",
    "6. Then, write a second function <code>Lucas(n)</code> whose recurrence relation and code are identical to <code>Fibonacci(n)</code>, except that it returns 1 if <code>n = 1</code>, and 3 if <code>n = 2</code> (that is, $L_1$ = 1 and $L_2$ = 3). Verify that the first ten Lucas numbers are 1, 3, 4, 7, 11, 18, 29, 47, 76, and 123. <br>\n",
    "\n",
    "    \n",
    "<b>Extra challenge</b>: Write a recursive function <code>Pascal(row, col)</code> that generates <a href=\"https://en.wikipedia.org/wiki/Pascal%27s_triangle\"><b>Pascal's triangle</b></a>. Here, the recurrence relation is $P(r, c) = P(r-1, c-1) + P(r-1, c)$, where $P(0, 0) = 1$, $P(r, 0) = 1$, and $P(r, r) = 1$. Use this to print out the first 10 rows of Pascal's triangle.\n",
    "</div>"
   ]
  },
  {
   "cell_type": "code",
   "execution_count": null,
   "metadata": {
    "deletable": false
   },
   "outputs": [],
   "source": [
    "# code for recursive function exercises\n",
    "\n",
    "def SumOfFirstN(n) -> int:\n",
    "    pass\n",
    "\n",
    "def Fibonacci(n) -> int:\n",
    "    pass\n",
    "\n",
    "def Lucas(n) -> int:\n",
    "    pass\n",
    "\n",
    "\n",
    "def main():\n",
    "    pass\n",
    "\n",
    "\n",
    "# remember to invoke main()!\n",
    "main()"
   ]
  },
  {
   "cell_type": "markdown",
   "metadata": {
    "deletable": false,
    "editable": false
   },
   "source": [
    "In order to find all the modules that are available to you (i.e., that have been installed), run <code>help('modules')</code> - there's a <b>lot</b> of output here!"
   ]
  },
  {
   "cell_type": "code",
   "execution_count": null,
   "metadata": {
    "deletable": false
   },
   "outputs": [],
   "source": [
    "help('modules')"
   ]
  },
  {
   "cell_type": "markdown",
   "metadata": {
    "deletable": false,
    "editable": false
   },
   "source": [
    "Available modules in Python:\n",
    "\n",
    "```\n",
    "Cython              colorcet            kaggle              quopri\n",
    "IPython             colorlover          kapre               random\n",
    "OpenGL              colorsys            keras               re\n",
    "PIL                 community           keras_preprocessing readline\n",
    "ScreenResolution    compileall          keyword             regex\n",
    "__future__          concurrent          kiwisolver          reprlib\n",
    "_abc                configparser        korean_lunar_calendar requests\n",
    "_ast                contextlib          lib2to3             requests_oauthlib\n",
    "_asyncio            contextlib2         libfuturize         resampy\n",
    "_bisect             contextvars         libpasteurize       resource\n",
    "_blake2             convertdate         librosa             retrying\n",
    "_bootlocale         copy                lightgbm            rlcompleter\n",
    "_bz2                copyreg             linecache           rmagic\n",
    "_cffi_backend       coverage            llvmlite            rpy2\n",
    "_codecs             coveralls           lmdb                rsa\n",
    "_codecs_cn          crcmod              locale              runpy\n",
    "_codecs_hk          crypt               logging             samples\n",
    "_codecs_iso2022     csv                 lsb_release         sched\n",
    "_codecs_jp          ctypes              lunarcalendar       scipy\n",
    "_codecs_kr          cufflinks           lxml                scs\n",
    "_codecs_tw          curses              lzma                seaborn\n",
    "_collections        cv2                 macpath             secrets\n",
    "_collections_abc    cvxopt              mailbox             select\n",
    "_compat_pickle      cvxpy               mailcap             selectors\n",
    "_compression        cycler              markdown            semver\n",
    "_contextvars        cymem               markupsafe          send2trash\n",
    "_crypt              cython              marshal             setuptools\n",
    "_csv                cythonmagic         math                setuptools_git\n",
    "_ctypes             daft                matplotlib          shapely\n",
    "_ctypes_test        dask                matplotlib_inline   shelve\n",
    "_curses             dataclasses         matplotlib_venn     shlex\n",
    "_curses_panel       datascience         mimetypes           shutil\n",
    "_cvxcore            datetime            missingno           signal\n",
    "_datetime           dateutil            mistune             simplegeneric\n",
    "_dbm                dbm                 mizani              site\n",
    "_decimal            dbus                mlxtend             sitecustomize\n",
    "_distutils_hack     debugpy             mmap                six\n",
    "_dummy_thread       decimal             modulefinder        skimage\n",
    "_ecos               decorator           more_itertools      sklearn\n",
    "_elementtree        defusedxml          moviepy             sklearn_pandas\n",
    "_functools          descartes           mpmath              slugify\n",
    "_hashlib            difflib             msgpack             smart_open\n",
    "_heapq              dill                multiprocess        smtpd\n",
    "_imp                dis                 multiprocessing     smtplib\n",
    "_io                 distributed         multitasking        sndhdr\n",
    "_json               distutils           murmurhash          snowballstemmer\n",
    "_locale             dlib                music21             socket\n",
    "_lsprof             docopt              natsort             socketserver\n",
    "_lzma               docs                nbclient            socks\n",
    "_markupbase         doctest             nbconvert           sockshandler\n",
    "_md5                docutils            nbformat            softwareproperties\n",
    "_multibytecodec     dopamine            nest_asyncio        sortedcontainers\n",
    "_multiprocess       dot_parser          netCDF4             soundfile\n",
    "_multiprocessing    dummy_threading     netrc               spacy\n",
    "_opcode             easydict            networkx            sphinx\n",
    "_operator           ecos                nibabel             spwd\n",
    "_osx_support        editdistance        nis                 sql\n",
    "_pickle             ee                  nisext              sqlalchemy\n",
    "_plotly_future_     email               nltk                sqlite3\n",
    "_plotly_utils       en_core_web_sm      nntplib             sqlparse\n",
    "_posixsubprocess    encodings           notebook            sre_compile\n",
    "_py_abc             entrypoints         ntpath              sre_constants\n",
    "_pydecimal          enum                nturl2path          sre_parse\n",
    "_pyio               ephem               numba               srsly\n",
    "_pyrsistent_version erfa                numbergen           ssl\n",
    "_pytest             errno               numbers             stat\n",
    "_queue              et_xmlfile          numexpr             statistics\n",
    "_random             examples            numpy               statsmodels\n",
    "_rinterface_cffi_abi fa2                 nvidia_smi          storemagic\n",
    "_rinterface_cffi_api fastai              oauth2client        string\n",
    "_scs_direct         fastdtw             oauthlib            stringprep\n",
    "_scs_indirect       fastprogress        ogr                 struct\n",
    "_scs_python         fastrlock           okgrade             subprocess\n",
    "_sha1               faulthandler        opcode              sunau\n",
    "_sha256             fbprophet           openpyxl            symbol\n",
    "_sha3               fcntl               operator            sympy\n",
    "_sha512             feather             opt_einsum          sympyprinting\n",
    "_signal             filecmp             optparse            symtable\n",
    "_sitebuiltins       fileinput           os                  sys\n",
    "_socket             filelock            osgeo               sysconfig\n",
    "_soundfile          firebase_admin      osqp                syslog\n",
    "_sqlite3            fix_yahoo_finance   osqppurepy          tables\n",
    "_sre                flask               osr                 tabnanny\n",
    "_ssl                flatbuffers         ossaudiodev         tabulate\n",
    "_stat               fnmatch             packaging           tarfile\n",
    "_string             folium              palettable          tblib\n",
    "_strptime           formatter           pandas              telnetlib\n",
    "_struct             fractions           pandas_datareader   tempfile\n",
    "_symtable           ftplib              pandas_gbq          tensorboard\n",
    "_sysconfigdata_m_linux_x86_64-linux-gnu functools           pandas_profiling    tensorboard_data_server\n",
    "_testbuffer         future              pandocfilters       tensorboard_plugin_wit\n",
    "_testcapi           gast                panel               tensorflow\n",
    "_testimportmultiple gc                  param               tensorflow_datasets\n",
    "_testmultiphase     gdal                parser              tensorflow_estimator\n",
    "_thread             gdalconst           parso               tensorflow_gcs_config\n",
    "_threading_local    gdalnumeric         past                tensorflow_hub\n",
    "_tkinter            gdown               pasta               tensorflow_metadata\n",
    "_tracemalloc        genericpath         pathlib             tensorflow_probability\n",
    "_warnings           gensim              patsy               termcolor\n",
    "_weakref            geographiclib       pdb                 terminado\n",
    "_weakrefset         geopy               pep517              termios\n",
    "_xxtestfuzz         getopt              pexpect             test\n",
    "abc                 getpass             pickle              testpath\n",
    "absl                gettext             pickleshare         tests\n",
    "aifc                gi                  pickletools         text_unidecode\n",
    "alabaster           gin                 pip                 textblob\n",
    "albumentations      github2pypi         pipes               textwrap\n",
    "altair              glob                piptools            theano\n",
    "antigravity         glob2               pkg_resources       thinc\n",
    "apiclient           gnm                 pkgutil             this\n",
    "appdirs             google_auth_httplib2 plac                threading\n",
    "apt                 google_auth_oauthlib plac_core           tifffile\n",
    "apt_inst            google_drive_downloader plac_ext            time\n",
    "apt_pkg             googleapiclient     plac_tk             timeit\n",
    "aptsources          googlesearch        platform            tkinter\n",
    "argcomplete         graphviz            plistlib            tlz\n",
    "argon2              greenlet            plotly              token\n",
    "argparse            gridfs              plotlywidget        tokenize\n",
    "array               grp                 plotnine            toml\n",
    "arviz               grpc                pluggy              tomli\n",
    "ast                 gspread             pooch               toolz\n",
    "astor               gspread_dataframe   poplib              torch\n",
    "astropy             gym                 portpicker          torchsummary\n",
    "astunparse          gzip                posix               torchtext\n",
    "asynchat            h5py                posixpath           torchvision\n",
    "asyncio             hashlib             pprint              tornado\n",
    "asyncore            heapdict            prefetch_generator  tqdm\n",
    "atari_py            heapq               preshed             trace\n",
    "atexit              hijri_converter     prettytable         traceback\n",
    "atomicwrites        hmac                profile             tracemalloc\n",
    "attr                holidays            progressbar         traitlets\n",
    "audioop             holoviews           prometheus_client   tree\n",
    "audioread           html                promise             tty\n",
    "autograd            html5lib            prompt_toolkit      turtle\n",
    "autoreload          http                pstats              tweepy\n",
    "babel               httpimport          psutil              typeguard\n",
    "backcall            httplib2            psycopg2            types\n",
    "base64              httplib2shim        pty                 typing\n",
    "bdb                 humanize            ptyprocess          typing_extensions\n",
    "bin                 hyperopt            pvectorc            tzlocal\n",
    "binascii            ideep4py            pwd                 unicodedata\n",
    "binhex              idna                py                  unittest\n",
    "bisect              imageio             py_compile          uritemplate\n",
    "bleach              imagesize           pyarrow             urllib\n",
    "blis                imaplib             pyasn1              urllib3\n",
    "bokeh               imblearn            pyasn1_modules      uu\n",
    "boost               imgaug              pyclbr              uuid\n",
    "bottleneck          imghdr              pycocotools         vega_datasets\n",
    "branca              imp                 pycparser           venv\n",
    "bs4                 importlib           pyct                vis\n",
    "bson                importlib_metadata  pydata_google_auth  warnings\n",
    "builtins            importlib_resources pydoc               wasabi\n",
    "bz2                 imutils             pydoc_data          wave\n",
    "cProfile            inflect             pydot               wcwidth\n",
    "cachecontrol        iniconfig           pydot_ng            weakref\n",
    "cached_property     inspect             pydotplus           webbrowser\n",
    "cachetools          intervaltree        pydrive             webencodings\n",
    "caffe2              io                  pyemd               werkzeug\n",
    "calendar            ipaddress           pyexpat             wheel\n",
    "catalogue           ipykernel           pyglet              widgetsnbextension\n",
    "certifi             ipykernel_launcher  pygments            wordcloud\n",
    "cffi                ipython_genutils    pygtkcompat         wrapt\n",
    "cftime              ipywidgets          pylab               wsgiref\n",
    "cgi                 isympy              pymc3               xarray\n",
    "cgitb               itertools           pymeeus             xdrlib\n",
    "chardet             itsdangerous        pymongo             xgboost\n",
    "charset_normalizer  jax                 pymystem3           xkit\n",
    "chess               jaxlib              pynvml              xlrd\n",
    "chunk               jdcal               pyparsing           xlwt\n",
    "clang               jedi                pyrsistent          xml\n",
    "click               jieba               pysndfile           xmlrpc\n",
    "client              jinja2              pystan              xxlimited\n",
    "cloudpickle         joblib              pytest              xxsubtype\n",
    "cmake               jpeg4py             python_utils        yaml\n",
    "cmath               json                pytz                yellowbrick\n",
    "cmd                 jsonschema          pyviz_comms         zict\n",
    "cmdstanpy           jupyter             pywt                zipapp\n",
    "code                jupyter_client      pyximport           zipfile\n",
    "codecs              jupyter_console     qdldl               zipimport\n",
    "codeop              jupyter_core        qtconsole           zipp\n",
    "colab               jupyterlab_pygments qtpy                zlib\n",
    "collections         jupyterlab_widgets  queue               zmq\n",
    "```"
   ]
  },
  {
   "cell_type": "code",
   "execution_count": null,
   "metadata": {},
   "outputs": [],
   "source": []
  }
 ],
 "metadata": {
  "celltoolbar": "Edit Metadata",
  "colab": {
   "collapsed_sections": [],
   "name": "UDF Python Colab notebook.ipynb",
   "provenance": []
  },
  "kernelspec": {
   "display_name": "Python 3",
   "language": "python",
   "name": "python3"
  },
  "language_info": {
   "codemirror_mode": {
    "name": "ipython",
    "version": 3
   },
   "file_extension": ".py",
   "mimetype": "text/x-python",
   "name": "python",
   "nbconvert_exporter": "python",
   "pygments_lexer": "ipython3",
   "version": "3.8.8"
  }
 },
 "nbformat": 4,
 "nbformat_minor": 1
}
