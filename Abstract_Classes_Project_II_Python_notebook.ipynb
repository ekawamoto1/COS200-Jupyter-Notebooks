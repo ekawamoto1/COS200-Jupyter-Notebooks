{
 "cells": [
  {
   "cell_type": "markdown",
   "id": "033cb3f4",
   "metadata": {
    "deletable": false,
    "editable": false
   },
   "source": [
    "## **Abstract Classes & Project II - Python notebook**"
   ]
  },
  {
   "cell_type": "markdown",
   "id": "f51b734e",
   "metadata": {
    "deletable": false,
    "editable": false
   },
   "source": [
    "Abstract classes in Python:\n",
    "\n",
    "https://python-course.eu/oop/the-abc-of-abstract-base-classes.php <br>\n",
    "https://www.geeksforgeeks.org/abstract-classes-in-python/ <br>\n",
    "https://realpython.com/inheritance-composition-python/#abstract-base-classes-in-python <br>\n",
    "https://dotnettutorials.net/lesson/interfaces-in-python/ <br>\n",
    "https://docs.python.org/3/library/abc.html <br><br>\n"
   ]
  },
  {
   "cell_type": "markdown",
   "id": "9788ff06",
   "metadata": {
    "deletable": false,
    "editable": false
   },
   "source": [
    "### Abstract classes in Python\n",
    "An <b>[abstract class](https://www.geeksforgeeks.org/abstract-classes-in-python/)</b> can be considered as a blueprint for other classes. It allows you to create a set of methods that must be created within any child classes built from the abstract class. A class which contains _one or more_ abstract methods is called an abstract class. An <b>abstract method</b> is a method that has a declaration but does not have an implementation (that is, it has no body). When we want to provide a common interface for different implementations of a component, we use an abstract class. Abstract classes cannot be instantiated, and require subclasses to provide implementations for the abstract methods.<br><br>\n",
    "\n",
    "By contrast, a <b>[concrete class](https://realpython.com/python-interface/)</b> contains only concrete (normal) methods, whereas abstract classes may contain both concrete methods and abstract methods. A concrete class provides <b>concrete methods</b>, which are implementations of abstract methods. However, as we'll see later, an abstract base class can also provide an implementation of an abstract method, but that method must still be overridden in the derived class.\n"
   ]
  },
  {
   "cell_type": "markdown",
   "id": "524a9aac",
   "metadata": {
    "deletable": false,
    "editable": false
   },
   "source": [
    "### Why use abstract base classes?\n",
    "By defining an abstract base class, you can define a common Application Program Interface (API) for a set of subclasses. This capability is especially useful in situations where a third party is going to provide implementations, such as with plug-ins, but can also help you when working in a large team or with a large codebase where keeping all classes in your mind is difficult or impossible. <br>\n",
    "\n",
    "In the code below, we have what seems to be an abstract class because its only method is declared, but has no implementation. However, the code in <code>main()</code> allows <code>AbstractClass</code> to be instantiated, and its abstract method <code>do_something()</code> can be run (that is, Python does not require us to provide an implementation for this method)."
   ]
  },
  {
   "cell_type": "code",
   "execution_count": 14,
   "id": "1b0a3b23",
   "metadata": {
    "deletable": false
   },
   "outputs": [
    {
     "name": "stdout",
     "output_type": "stream",
     "text": [
      "done!\n"
     ]
    }
   ],
   "source": [
    "# code cell 1\n",
    "# examples from https://python-course.eu/oop/the-abc-of-abstract-base-classes.php\n",
    "#\n",
    "class AbstractClass:\n",
    "    def do_something(self):\n",
    "        pass\n",
    "\n",
    "class B(AbstractClass):\n",
    "    pass\n",
    "\n",
    "\n",
    "def main():\n",
    "    a = AbstractClass()\n",
    "    b = B()\n",
    "    b.do_something()\n",
    "    print(\"done!\")\n",
    "    \n",
    "if __name__ == '__main__':\n",
    "    main()  "
   ]
  },
  {
   "cell_type": "markdown",
   "id": "8bee29b8",
   "metadata": {
    "deletable": false,
    "editable": false
   },
   "source": [
    "By default, Python does not provide abstract classes. However, Python comes with a module that provides the base class for defining Abstract Base Classes (ABC) and that module name is <code>abc</code>. It provides the necessary infrastructure for defining abstract base classes and enforcing that child classes _must_ implement each of its abstract methods. The [decorator](https://stackoverflow.com/questions/7196376/python-abstractmethod-decorator) <code>@abstractmethod</code> is a function that causes an exception to be raised if a derived class does not define the method. ABC works by decorating methods of the base class as <code>@abstractmethod</code>, and then registering derived concrete classes as implementations of the abstract base class.<br>\n",
    "<div class=\"alert alert-block alert-info\">\n",
    "Try running the code below by uncommenting only line 19, then by uncommenting only line 20.\n",
    "</div>"
   ]
  },
  {
   "cell_type": "code",
   "execution_count": 17,
   "id": "d38610a5",
   "metadata": {
    "deletable": false
   },
   "outputs": [
    {
     "name": "stdout",
     "output_type": "stream",
     "text": [
      "done!\n"
     ]
    }
   ],
   "source": [
    "# code cell 2\n",
    "\n",
    "from abc import ABC, abstractmethod\n",
    " \n",
    "class AbstractClass(ABC):\n",
    "    def __init__(self, value):\n",
    "        self.value = value\n",
    "        super().__init__()\n",
    "    \n",
    "    @abstractmethod\n",
    "    def do_something(self):\n",
    "        pass\n",
    "\n",
    "class B(AbstractClass):\n",
    "    pass\n",
    "\n",
    "\n",
    "def main():\n",
    "    #a = AbstractClass()\n",
    "    #b = B()\n",
    "    print(\"done!\")\n",
    "\n",
    "if __name__ == '__main__':\n",
    "    main()   "
   ]
  },
  {
   "cell_type": "markdown",
   "id": "23ced2e2",
   "metadata": {
    "deletable": false,
    "editable": false
   },
   "source": [
    "Now that we're using the machinery provided by Python's <code>abc</code> module, we are forced to provide a concrete method (implementation) that overrides the abstract method <code>do_something()</code> in the superclass. Note here that we also provide an abstract method <code>do_something_else()</code> in <code>AbstractClass</code> that does have an implementation, but because it has the <code>@abstractmethod</code> decorator, it must be overridden with a concrete method in the derived classes of <code>AbstractClass</code>.<br><br>\n",
    "Note that the use of <code>super()</code> in the concrete methods is allowed, but not required. This enables the abstract method to provide some basic or general functionality, which can be enriched or made specific by the subclass implementation."
   ]
  },
  {
   "cell_type": "code",
   "execution_count": 39,
   "id": "9bbc5996",
   "metadata": {
    "deletable": false
   },
   "outputs": [
    {
     "name": "stdout",
     "output_type": "stream",
     "text": [
      "x is an instance of DoAdd42(10), a concrete class that inherits from AbstractClass(ABC)\n",
      "x.do_something() produces the result 52\n",
      "this abstract method does something else...\n",
      "...but nothing that important.\n",
      "\n",
      "y is an instance of DoMult42(10), a concrete class that inherits from AbstractClass(ABC)\n",
      "y.do_something() produces the result 420\n",
      "this abstract method does something else...\n",
      "...but nothing that important, either.\n",
      "\n",
      "uncommenting the line below will cause an error\n",
      "z would attempt to be an instance of DoNothing(), \n",
      "which does not provide a concrete implementation of do_something()\n",
      "or of do_something_else(), either\n"
     ]
    }
   ],
   "source": [
    "# code cell 3\n",
    "\n",
    "from abc import ABC, abstractmethod\n",
    " \n",
    "class AbstractClass(ABC):\n",
    "    def __init__(self, value):\n",
    "        self.value = value\n",
    "        super().__init__()\n",
    "    \n",
    "    @abstractmethod\n",
    "    def do_something(self):\n",
    "        pass\n",
    "    \n",
    "    # despite the implementation, this method must be overridden in derived classes\n",
    "    @abstractmethod\n",
    "    def do_something_else(self):\n",
    "        print(\"this abstract method does something else...\")\n",
    "\n",
    "class DoAdd42(AbstractClass):\n",
    "    def do_something(self):\n",
    "        return self.value + 42\n",
    "    \n",
    "    def do_something_else(self):\n",
    "        super().do_something_else()\n",
    "        print(\"...but nothing that important.\")\n",
    "    \n",
    "class DoMult42(AbstractClass):\n",
    "    def do_something(self):\n",
    "        return self.value * 42\n",
    "    \n",
    "    def do_something_else(self):\n",
    "        super().do_something_else()\n",
    "        print(\"...but nothing that important, either.\")\n",
    "\n",
    "class DoNothing(AbstractClass):\n",
    "    pass\n",
    "\n",
    "\n",
    "def main():\n",
    "    x = DoAdd42(10)\n",
    "    print(\"x is an instance of DoAdd42(10), a concrete class that inherits from AbstractClass(ABC)\")\n",
    "    print(\"x.do_something() produces the result \" + str(x.do_something()))\n",
    "    x.do_something_else()\n",
    "    print()\n",
    "    \n",
    "    y = DoMult42(10)\n",
    "    print(\"y is an instance of DoMult42(10), a concrete class that inherits from AbstractClass(ABC)\")\n",
    "    print(\"y.do_something() produces the result \" + str(y.do_something()))\n",
    "    y.do_something_else()\n",
    "    print()\n",
    "    \n",
    "    print(\"uncommenting the line below will cause an error\")\n",
    "    #z = DoNothing()\n",
    "    s = \"z would attempt to be an instance of DoNothing(), \"\n",
    "    s += \"\\nwhich does not provide a concrete implementation of do_something()\"\n",
    "    s += \"\\nor of do_something_else(), either\"\n",
    "    print(s)\n",
    "\n",
    "\n",
    "if __name__ == '__main__':\n",
    "    main()   "
   ]
  },
  {
   "cell_type": "markdown",
   "id": "f0172521",
   "metadata": {
    "deletable": false,
    "editable": false
   },
   "source": [
    "At a high level, an <b>interface</b> acts as a blueprint for designing classes. In other coding languages like Java and C++, [interfaces](https://www.javatpoint.com/interface-in-java) provide total abstraction, which means that <b>all</b> the methods in an interface are declared with an empty body (<code>pass</code>). A class that implements an interface must implement <b>all</b> the methods declared in the interface.<br><br>\n",
    "The [distinction between an interface and an abstract base class](https://www.tutorialspoint.com/java/java_interfaces.htm) is subtle. They are similar in that interfaces and ABC's can contain any number of methods. However, they differ in that <b>all</b> the methods of an interface are abstract, and an interface cannot be instantiated. (On the other hand, an ABC may have non-abstract methods.) When a class implements an interface, it is as if that class signs a contract, agreeing to provide (implement) <b>all</b> the behaviors (method signatures) specified by the interface."
   ]
  },
  {
   "cell_type": "markdown",
   "id": "8093ebec",
   "metadata": {},
   "source": [
    "<div class=\"alert alert-block alert-info\">\n",
    "Now, you try! From the exercise in the previous notebook involving a base class <code>Vehicle</code>, and its derived classes <code>Car</code>, <code>Truck</code>, and <code>Motorcycle</code>, we now make <code>Vehicle</code> an abstract base class, as below. We have also given three abstract methods, <code>start()</code>, <code>accelerate()</code>, and <code>stop()</code>. <br><br>\n",
    "1. Derive concrete classes for <code>Car</code>, <code>Truck</code>, and <code>Motorcycle</code> from <code>Vehicle</code><br>\n",
    "2. In each, provide an implementation for <code>description()</code> that builds on what <code>Vehicle</code> provides <br>\n",
    "3. Then, provide concrete methods for <code>start()</code>, <code>accelerate()</code>, and <code>stop()</code> that override those of <code>Vehicle</code>. For instance, for the <code>start()</code> method, these could simply print strings like \"Truck belches and starts\" or \"Motorcycle takes off\". <br>\n",
    "4. After doing this, add the lines <code>help(Vehicle)</code> and <code>help(Car)</code> to your <code>main()</code>, run the cell, and read the output from the calls to <code>help()</code>\n",
    "</div>"
   ]
  },
  {
   "cell_type": "markdown",
   "id": "3f89eac2",
   "metadata": {
    "deletable": false,
    "editable": false
   },
   "source": [
    "your output should resemble this:\n",
    "<pre>\n",
    "Car make: Chevy, model: Malibu, mpg: 23, fuel: gas, number of wheels: 4\n",
    "color: red, year: 2005\n",
    "is this 2005 car old? True\n",
    "Chevy starts\n",
    "Chevy accelerates\n",
    "Chevy stops\n",
    "\n",
    "Truck make: Freightliner, model: M2 112, mpg: 9, fuel: diesel, number of wheels: 6\n",
    "length: 28, height: 102\n",
    "Truck belches and starts\n",
    "Truck slowly accelerates\n",
    "Truck brakes\n",
    "\n",
    "Motorcycle make: Harley-Davidson, model: Iron 1200, mpg: 48, fuel: gas, number of wheels: 2\n",
    "horsepower: 60\n",
    "Motorcycle starts noisily\n",
    "Motorcycle takes off\n",
    "Motorcycle stops\n",
    "</pre>"
   ]
  },
  {
   "cell_type": "code",
   "execution_count": 3,
   "id": "55027ed8",
   "metadata": {
    "deletable": false
   },
   "outputs": [],
   "source": [
    "from abc import ABC, abstractmethod\n",
    "from datetime import datetime\n",
    "\n",
    "class Vehicle(ABC):\n",
    "    number_of_wheels = 4\n",
    "    \n",
    "    def __init__(self, make, model, mpg, fuel=\"gas\"):\n",
    "        self.make = make\n",
    "        self.model = model\n",
    "        self.mpg = mpg\n",
    "        self.fuel = fuel\n",
    "\n",
    "    @abstractmethod\n",
    "    def description(self):\n",
    "        s = \"make: \" + self.make + \", model: \" + self.model + \", mpg: \" + str(self.mpg) + \", fuel: \" + self.fuel\n",
    "        s += \", number of wheels: \" + str(self.number_of_wheels)\n",
    "        return s\n",
    "    \n",
    "    @abstractmethod\n",
    "    def start(self):\n",
    "        pass\n",
    "\n",
    "    @abstractmethod\n",
    "    def accelerate(self):\n",
    "        pass\n",
    "    \n",
    "    @abstractmethod\n",
    "    def stop(self):\n",
    "        pass\n",
    "    \n",
    "class Car(Vehicle):\n",
    "    number_of_wheels = 4\n",
    "    \n",
    "    def __init__(self, make, model, mpg, fuel, color, year):\n",
    "        super().__init__(make, model, mpg, fuel)\n",
    "        self.color = color\n",
    "        self.year = year\n",
    "\n",
    "    def isOld(self)->bool:\n",
    "        yCurrent = datetime.now().year\n",
    "        if self.year < yCurrent - 10:\n",
    "            return True\n",
    "        else:\n",
    "            return False\n",
    "        \n",
    "    def description(self):\n",
    "        pass\n",
    "    \n",
    "    def start(self):\n",
    "        pass\n",
    "        \n",
    "    def accelerate(self):\n",
    "        pass\n",
    "        \n",
    "    def stop(self):\n",
    "        pass\n",
    "        \n",
    "class Truck(Vehicle):\n",
    "    number_of_wheels = 6\n",
    "    \n",
    "    def __init__(self, make, model, mpg, length, height, fuel=\"diesel\"):\n",
    "        super().__init__(make, model, mpg, fuel)\n",
    "        self.length = length\n",
    "        self.height = height\n",
    "\n",
    "    def description(self):\n",
    "        pass\n",
    "    \n",
    "    def start(self):\n",
    "        pass\n",
    "        \n",
    "    def accelerate(self):\n",
    "        pass\n",
    "        \n",
    "    def stop(self):\n",
    "        pass\n",
    "        \n",
    "class Motorcycle(Vehicle):\n",
    "    number_of_wheels = 2\n",
    "    \n",
    "    def __init__(self, make, model, mpg, hp, fuel=\"diesel\"):\n",
    "        super().__init__(make, model, mpg, fuel)\n",
    "        self.hp = hp\n",
    "\n",
    "    def description(self):\n",
    "        pass\n",
    "\n",
    "    def start(self):\n",
    "        pass\n",
    "        \n",
    "    def accelerate(self):\n",
    "        pass\n",
    "        \n",
    "    def stop(self):\n",
    "        pass\n",
    "\n",
    "\n",
    "def main():\n",
    "    c = Car(\"Chevy\", \"Malibu\", 23, \"gas\", \"red\", 2005)\n",
    "    print(c.description())\n",
    "    print(\"is this \" + str(c.year) + \" car old? \" + str(c.isOld()))\n",
    "    c.start()\n",
    "    c.accelerate()\n",
    "    c.stop()\n",
    "    print()\n",
    "    \n",
    "    t = Truck(\"Freightliner\", \"M2 112\", 9, 28, 102, \"diesel\")\n",
    "    print(t.description())\n",
    "    t.start()\n",
    "    t.accelerate()\n",
    "    t.stop()\n",
    "    print()\n",
    "    \n",
    "    m = Motorcycle(\"Harley-Davidson\", \"Iron 1200\", 48, 60, \"gas\")\n",
    "    print(m.description())\n",
    "    m.start()\n",
    "    m.accelerate()\n",
    "    m.stop()\n",
    "    print()\n",
    "\n",
    "\n",
    "if __name__ == '__main__':\n",
    "    main() "
   ]
  },
  {
   "cell_type": "markdown",
   "id": "79450737",
   "metadata": {
    "deletable": false,
    "editable": false
   },
   "source": [
    "#### Project II: OOP two-card poker game\n",
    "<div class=\"alert alert-block alert-info\">\n",
    "For this project, you are to use what you know about data structures and classes to create a simple two-card poker game for three or more players. In order to do this, you will need to create methods for the <code>Game</code> class that compare two-card hands with each other. The usual rules apply:<br><br>\n",
    "* If cards in both hands are dissimilar, then the hand with the highest card(s) wins. <br>\n",
    "* If one hand has a pair and the other doesn't, then the hand with the pair wins. <br>\n",
    "* If both hands have a pair, then the highest pair wins. <br>\n",
    "\n",
    "Do the following: <br>\n",
    "1. Randomize (shuffle) the cards that are dealt to each player <br>\n",
    "2. Print the cards in the deck <br>\n",
    "3. Only allow cards to be dealt if there are enough remaining in the deck <br>\n",
    "4. Print the cards that each player is holding, so you can determine the winner by inspection. (Here, suits don't matter, so you can ignore them.) <br>\n",
    "5. Now, for the hard part: identify the winner(s) of each game according to the rules given above. (This is difficult because you need to account for the possibility of two or more players having the same high card if nobody has a pair, as well as the possibility that two or more players may have a pair, and comparing what they have a pair of.) <br><br>\n",
    "    \n",
    "Here is a hint that may make your coding easier: use dictionaries to keep track of each player's high card and what they have a pair of. (If a player has no pair, the value associated with this player will be zero.) <br><br>\n",
    "    \n",
    "After you've done this, test this for:<br>\n",
    "* Two players play two rounds <br>\n",
    "* Three or more players play three or more rounds <br>\n",
    "\n",
    "Then, see if you can modify the code to choose the winner when no player holds a pair, but more than one player has the same high card (that is, the winning hand has the highest sum of the two cards) <br>\n",
    "</div>"
   ]
  },
  {
   "cell_type": "markdown",
   "id": "6bad4863",
   "metadata": {
    "deletable": false,
    "editable": false
   },
   "source": [
    "your output should resemble this:\n",
    "<pre>\n",
    "Deck of 52: ⬥6 ♠6 ⬥4 ♥4 ♠11 ♥5 ♥12 ♣8 ⬥13 ♣10 ♠3 ⬥3 ♥8 ♣13 ⬥10 ⬥1 ♥9 ♥3 ♠2 ♥10 ⬥5 ⬥12 ♠13 ♣4 ♠9 ♥13 ♠7 ♥11 ♣5 ⬥2 ♠4 ♠5 ♣9 ♠10 ♣12 ♣11 ♠8 ♠12 ♣1 ♣6 ♥2 ♠1 ♣7 ⬥11 ⬥8 ⬥7 ♣3 ♥7 ♥6 ♥1 ♣2 ⬥9 \n",
    "\n",
    "A: ⬥6 ♠6 \n",
    "B: ⬥4 ♥4 \n",
    "C: ♠11 ♥5 \n",
    "D: ♥12 ♣8 \n",
    "high cards: {'A': 6, 'B': 4, 'C': 11, 'D': 12}\n",
    "pairs: {'A': 6, 'B': 4, 'C': 0, 'D': 0}\n",
    "A is a winner with a pair of 6\n",
    "\n",
    "Deck of 44: ⬥13 ♣10 ♠3 ⬥3 ♥8 ♣13 ⬥10 ⬥1 ♥9 ♥3 ♠2 ♥10 ⬥5 ⬥12 ♠13 ♣4 ♠9 ♥13 ♠7 ♥11 ♣5 ⬥2 ♠4 ♠5 ♣9 ♠10 ♣12 ♣11 ♠8 ♠12 ♣1 ♣6 ♥2 ♠1 ♣7 ⬥11 ⬥8 ⬥7 ♣3 ♥7 ♥6 ♥1 ♣2 ⬥9 \n",
    "Deck of 44: ♣11 ⬥2 ♥8 ⬥11 ♣12 ♣4 ♣3 ♣13 ⬥5 ♠1 ♣6 ♠3 ⬥12 ⬥8 ⬥3 ♠7 ♠2 ♠8 ⬥13 ♠12 ♣9 ⬥1 ♠5 ♣2 ♥11 ♥3 ♣7 ♥2 ♥1 ⬥10 ♣5 ♥13 ♣1 ♥10 ⬥7 ♠10 ♣10 ♥6 ♠9 ♠13 ♥9 ♥7 ⬥9 ♠4 \n",
    "\n",
    "A: ♣11 ⬥2 \n",
    "B: ♥8 ⬥11 \n",
    "C: ♣12 ♣4 \n",
    "D: ♣3 ♣13 \n",
    "high cards: {'A': 11, 'B': 11, 'C': 12, 'D': 13}\n",
    "pairs: {'A': 0, 'B': 0, 'C': 0, 'D': 0}\n",
    "D is a winner with a high card of 13\n",
    "\n",
    "Deck of 36: ⬥5 ♠1 ♣6 ♠3 ⬥12 ⬥8 ⬥3 ♠7 ♠2 ♠8 ⬥13 ♠12 ♣9 ⬥1 ♠5 ♣2 ♥11 ♥3 ♣7 ♥2 ♥1 ⬥10 ♣5 ♥13 ♣1 ♥10 ⬥7 ♠10 ♣10 ♥6 ♠9 ♠13 ♥9 ♥7 ⬥9 ♠4 \n",
    "Deck of 36: ♠13 ⬥13 ♣6 ♣7 ⬥7 ⬥9 ♥7 ⬥1 ⬥5 ♣9 ♠2 ⬥12 ♣1 ♠12 ♣5 ♠3 ♣2 ♠5 ♥10 ⬥3 ♠4 ♠1 ⬥10 ♥6 ♥11 ♠7 ♥1 ♠8 ♥9 ♠10 ♥3 ♣10 ♥2 ♥13 ⬥8 ♠9 \n",
    "\n",
    "A: ♠13 ⬥13 \n",
    "B: ♣6 ♣7 \n",
    "C: ⬥7 ⬥9 \n",
    "D: ♥7 ⬥1 \n",
    "high cards: {'A': 13, 'B': 7, 'C': 9, 'D': 7}\n",
    "pairs: {'A': 13, 'B': 0, 'C': 0, 'D': 0}\n",
    "A is a winner with a pair of 13\n",
    "\n",
    "Deck of 28: ⬥5 ♣9 ♠2 ⬥12 ♣1 ♠12 ♣5 ♠3 ♣2 ♠5 ♥10 ⬥3 ♠4 ♠1 ⬥10 ♥6 ♥11 ♠7 ♥1 ♠8 ♥9 ♠10 ♥3 ♣10 ♥2 ♥13 ⬥8 ♠9 \n",
    "Deck of 28: ♠5 ⬥5 ♠9 ♥11 ♠1 ♥9 ♠8 ♠3 ♠4 ♥10 ⬥10 ♣9 ♣5 ⬥12 ♣1 ♠2 ♥2 ♣2 ♥6 ⬥8 ⬥3 ♥3 ♥1 ♠12 ♣10 ♠7 ♥13 ♠10 \n",
    "</pre>"
   ]
  },
  {
   "cell_type": "code",
   "execution_count": 5,
   "id": "99d35b7a",
   "metadata": {
    "deletable": false
   },
   "outputs": [
    {
     "name": "stdout",
     "output_type": "stream",
     "text": [
      "\n",
      "\n"
     ]
    }
   ],
   "source": [
    "# code adapted from https://stackoverflow.com/questions/57842421/oop-python-card-game-class-methods\n",
    "import random\n",
    "\n",
    "class Card:\n",
    "    def __init__(self, suit, val):\n",
    "        self.suit = suit\n",
    "        self.value = val\n",
    "\n",
    "class Deck:\n",
    "    def __init__(self):\n",
    "        self.cards = []\n",
    "        self.build()\n",
    "\n",
    "    def build(self):\n",
    "        for i in [\"♥\", \"⬥\", \"♠\", \"♣\"]:\n",
    "            for j in range(1,14):\n",
    "                self.cards.append(Card(i, j))\n",
    "        self.shuffle()\n",
    "\n",
    "    def shuffle(self):\n",
    "        random.shuffle(self.cards)\n",
    "        \n",
    "    def print_deck(self):\n",
    "        pass\n",
    "        \n",
    "    def length(self):\n",
    "        return len(self.cards)\n",
    "\n",
    "class Game:\n",
    "    def __init__(self, players, deck):\n",
    "        self.players = players\n",
    "        self.deck = deck\n",
    "        self.cards = deck.cards\n",
    "        self.deck.print_deck()\n",
    "\n",
    "    def deal(self, numCards)->bool:\n",
    "        # add code to check for number of cards in deck, number to be dealt to each player\n",
    "        # return True if there are enough cards in the deck to deal to all players, False if not\n",
    "        for player in self.players:\n",
    "            for i in range(numCards):\n",
    "                player.cards.append(self.drawCard())\n",
    "        return True\n",
    "\n",
    "\n",
    "    def drawCard(self):\n",
    "        drawnCard = self.deck.cards[0]\n",
    "        self.deck.cards = self.deck.cards[1:]\n",
    "        return drawnCard\n",
    "    \n",
    "    def compareHands(self, players): # this might be easier if you use dictionaries\n",
    "        pass\n",
    "\n",
    "class Player:\n",
    "    def __init__(self, name):\n",
    "        self.name = name\n",
    "        self.cards = []\n",
    "        \n",
    "    def printCards(self):\n",
    "        pass\n",
    "\n",
    "    def discardCards(self):\n",
    "        self.cards = []\n",
    "    \n",
    "\n",
    "def main():\n",
    "    # example game for two players\n",
    "    deckOfCards = Deck()\n",
    "    p1 = Player(\"A\")\n",
    "    p2 = Player(\"B\")\n",
    "    newGame = Game([p1, p2], deckOfCards)\n",
    "    print()\n",
    "    \n",
    "    isDealt = newGame.deal(2) # deal ONLY two cards to each player\n",
    "    if isDealt:\n",
    "        p1.printCards()\n",
    "        p2.printCards()\n",
    "\n",
    "        newGame.compareHands([p1, p2])\n",
    "\n",
    "        p1.discardCards()\n",
    "        p2.discardCards()\n",
    "\n",
    "        deckOfCards.print_deck()\n",
    "        deckOfCards.shuffle()\n",
    "        deckOfCards.print_deck()\n",
    "        print()\n",
    "    \n",
    "\n",
    "if __name__ == '__main__':\n",
    "    main() "
   ]
  },
  {
   "cell_type": "code",
   "execution_count": null,
   "id": "8cfd690f",
   "metadata": {},
   "outputs": [],
   "source": []
  }
 ],
 "metadata": {
  "kernelspec": {
   "display_name": "Python 3 (ipykernel)",
   "language": "python",
   "name": "python3"
  },
  "language_info": {
   "codemirror_mode": {
    "name": "ipython",
    "version": 3
   },
   "file_extension": ".py",
   "mimetype": "text/x-python",
   "name": "python",
   "nbconvert_exporter": "python",
   "pygments_lexer": "ipython3",
   "version": "3.9.2"
  }
 },
 "nbformat": 4,
 "nbformat_minor": 5
}
