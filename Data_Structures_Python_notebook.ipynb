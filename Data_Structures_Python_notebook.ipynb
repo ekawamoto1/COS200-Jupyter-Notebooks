{
 "cells": [
  {
   "cell_type": "markdown",
   "metadata": {
    "id": "OtDV7d-vfUKY"
   },
   "source": [
    "## **Data Structures - Python notebook**\n",
    "\n"
   ]
  },
  {
   "cell_type": "markdown",
   "metadata": {
    "id": "tKtlp3RsB_qj"
   },
   "source": [
    "data structures in Python:\n",
    "\n",
    "https://thomas-cokelaer.info/tutorials/python/data_structures.html\n",
    "\n",
    "lists (mutable), sets (mutable), tuples (immutable), strings (immutable), dictionaries (mutable)"
   ]
  },
  {
   "cell_type": "markdown",
   "metadata": {
    "id": "_w24POmuMA4t"
   },
   "source": [
    "lists: https://www.analyticsvidhya.com/blog/2021/06/15-functions-you-should-know-to-master-lists-in-python/. https://www.w3schools.com/python/python_lists.asp\n",
    "\n",
    "<b>Lists</b> are a type of <b>collection object</b> in Python. They function like arrays in strongly typed languages (Java, C++, C#), but are a bit more general, in that they can hold values that do not have to be of the same data type. List items are indexed, ordered, changeable, and can have non-unique values. Indexed means that elements are referred to by index, or order in the list; the first element has index <code>[0]</code>, the second element has index <code>[1]</code>, and the Nth element has index <code>[N-1]</code>. Ordered means that existing elements of a list have a defined order which will not change as items are appended (added onto the end of the list). Changeable (mutable) means that list elements can be changed, added, or removed after a list has been created. Finally, since each element of a list can be referred to by its index, elements can occur more than once (that is, they can be non-unique). <br>\n",
    "\n",
    "The following methods are operations that can be done on lists:\n",
    "\n",
    "```\n",
    "* append(): Adds one element to the end of a list.\n",
    "* clear(): Removes all the elements from the list.\n",
    "* copy():  Returns a (shallow) copy of the list.\n",
    "* count(): Returns the number of elements with the specified value.\n",
    "* extend(): Adds multiple elements to a list.\n",
    "* index(): Returns the index of the first occurrence of a particular value.\n",
    "* insert(): Adds a component at the specified position.\n",
    "* max(list): Returns the item from the list with a max value.\n",
    "* min(list): Returns the item from the list with a min value.\n",
    "* len(list): Gives the overall length of the list.\n",
    "* pop(): Removes the list element at the specified position.\n",
    "* remove(): Removes the list element with the specified value.\n",
    "* reverse(): Reverses the order of the list.\n",
    "* sort(): Sorts the list in ascending order.\n",
    "* type(list): It returns the class type of a list object.\n",
    "```\n",
    "\n",
    "<b>Lists use brackets <code>[ ]</code> as delimiters.</b>"
   ]
  },
  {
   "cell_type": "markdown",
   "metadata": {
    "id": "4owlrhkXeMhz"
   },
   "source": [
    "Examples of operations on lists. Note that lists can contain objects that are not all of the same data type. For instance, in some of the lists below, most of the elements are integers, but a few of them are floats or strings. Some coding languages like Java or C++ do not allow (or make it difficult for) these <b>collection objects</b> to be heterogeneous, but there are often legitimate reasons for doing so (for instance, passing inputs to and outputs from functions as lists)."
   ]
  },
  {
   "cell_type": "code",
   "execution_count": 2,
   "metadata": {
    "colab": {
     "base_uri": "https://localhost:8080/"
    },
    "id": "et6VW5efTLHq",
    "outputId": "09a72761-e53c-4b92-c09f-614591db5678"
   },
   "outputs": [
    {
     "name": "stdout",
     "output_type": "stream",
     "text": [
      "the minimum value of L1 is -7\n",
      "the value of L1 at index 3 is 2\n",
      "the index of -7 in L1 is 4\n",
      "the number of occurrences of 6 in L1 is 2\n",
      "\n",
      "after appending a string 'x', L1 now looks like [9, 6, 5, 2, -7, 4, 3, -1, 6, 'x']\n",
      "\n",
      "after appending a list [0, 1.2e+01, -5], L1 now looks like [9, 6, 5, 2, -7, 4, 3, -1, 6, 'x', 0, 12.0, -5]\n",
      "\n",
      "'x' is at index 9\n",
      "after removing 'x', L1 now looks like [9, 6, 5, 2, -7, 4, 3, -1, 6, 0, 12.0, -5]\n",
      "after popping final element, L1 now looks like [9, 6, 5, 2, -7, 4, 3, -1, 6, 0, 12.0]\n",
      "\n",
      "-7 is at index 4\n",
      "after popping element at index 4, L1 now looks like [9, 6, 5, 2, 4, 3, -1, 6, 0, 12.0]\n",
      "after inserting element 'y' at index 1, L1 now looks like [9, 'y', 6, 5, 2, 4, 3, -1, 6, 0, 12.0]\n",
      "\n",
      "now print each element in L1: \n",
      "9, y, 6, 5, 2, 4, 3, -1, 6, 0, 12.0, \n",
      "after clearing, L1 is now []\n"
     ]
    }
   ],
   "source": [
    "L1 = [9, 6, 5, 2, -7, 4, 3, -1, 6]\n",
    "print('the minimum value of L1 is '  + str(min(L1)))\n",
    "print('the value of L1 at index 3 is ' + str(L1[3]))\n",
    "print('the index of -7 in L1 is ' + str(L1.index(-7)))\n",
    "print('the number of occurrences of 6 in L1 is ' + str(L1.count(6)))\n",
    "print()\n",
    "\n",
    "L1.append('x') # takes only a single value as an argument\n",
    "print(\"after appending a string 'x', L1 now looks like \" + str(L1)) # note that a Python list can contain different data types\n",
    "# lMax = max(L1) # this line won't work - why?\n",
    "print() \n",
    "\n",
    "\n",
    "L1.extend([0, 1.2e+01, -5]) # takes a list as an argument\n",
    "print('after appending a list [0, 1.2e+01, -5], L1 now looks like ' + str(L1))\n",
    "print()\n",
    "\n",
    "p = L1.index('x')\n",
    "print(\"'x' is at index \" + str(p))\n",
    "L1.remove('x')\n",
    "print(\"after removing 'x', L1 now looks like \" + str(L1))\n",
    "L1.pop()\n",
    "print(\"after popping final element, L1 now looks like \" + str(L1))\n",
    "q = L1.index(-7)\n",
    "print()\n",
    "\n",
    "print('-7 is at index ' + str(q))\n",
    "L1.pop(q)\n",
    "print(\"after popping element at index \" + str(q) + \", L1 now looks like \" + str(L1))\n",
    "L1.insert(1, 'y')\n",
    "print(\"after inserting element 'y' at index 1, L1 now looks like \" + str(L1))\n",
    "print()\n",
    "\n",
    "print('now print each element in L1: ')\n",
    "for i in L1:\n",
    "  print(i, end=\", \")\n",
    "print()\n",
    "\n",
    "L1.clear()\n",
    "print(\"after clearing, L1 is now \" + str(L1))"
   ]
  },
  {
   "cell_type": "markdown",
   "metadata": {
    "id": "UcfpBEXUa2zx"
   },
   "source": [
    "deep vs. shallow copy: https://www.geeksforgeeks.org/copy-python-deep-copy-shallow-copy/\n",
    "\n",
    "Later, we will revisit the notion of copying objects in more depth. For now, just be aware that the assignment operator (<code>=</code>) does NOT make an independent copy of a mutable (changeable) object such as a list, but instead, simply assigns a new **name** (reference) to the same object. Thus, if you have a list <code>L1</code> whose contents you want to preserve while you operate upon a copy <code>L2</code> of it, that will NOT happen if you create that copy by using <code>L2 = L1</code>. Instead, you will need to make either a <b>shallow</b> or a <b>deep</b> copy of <code>L1</code>, and assign it to the variable <code>L2</code>. At this point, there is no difference between shallow and deep copies of a list, but we will see later that the distinction becomes important when the elements of the list you're copying are themselves mutable objects (e.g., lists of lists, or lists of dictionaries)."
   ]
  },
  {
   "cell_type": "code",
   "execution_count": 17,
   "metadata": {
    "colab": {
     "base_uri": "https://localhost:8080/"
    },
    "id": "DSfXdkDlCKAn",
    "outputId": "2e03403f-e37b-4c27-b89c-45384984000d"
   },
   "outputs": [
    {
     "name": "stdout",
     "output_type": "stream",
     "text": [
      "L1 = [9, 6, 5, 2, -7, 4, 3, -1, 6]\n",
      "L1 has 9 elements\n",
      "L1 is of type <class 'list'>\n",
      "\n",
      "L2 = [9, 6, 5, 2, -7, 4, 3, -1, 6] is another name for (reference to) L1 - not a copy at all!\n",
      "L2 is just a different name for L1: True\n",
      "L2 has the same elements as L1: True\n",
      "L2 = [-7, -1, 2, 3, 4, 5, 6, 6, 9] is L2 after sorting its elements\n",
      "L1 = [-7, -1, 2, 3, 4, 5, 6, 6, 9] is L1 after sorting the elements of L2!\n",
      "L2 = [9, 6, 6, 5, 4, 3, 2, -1, -7] is L2 after reversing its order of elements\n",
      "L1 = [9, 6, 6, 5, 4, 3, 2, -1, -7] is L1 after reversing the order of elements in L2!\n",
      "\n",
      "L3 = [9, 6, 5, 2, -7, 4, 3, -1, 6]\n",
      "L4 = [9, 6, 5, 2, -7, 4, 3, -1, 6] is a *shallow copy* of L3\n",
      "L4 is just a different name for L3: False\n",
      "L4 has the same elements as L3: True\n",
      "L4 = [-7, -1, 2, 3, 4, 5, 6, 6, 9] is L4 after sorting its elements\n",
      "L3 = [9, 6, 5, 2, -7, 4, 3, -1, 6] is L3 after sorting the elements of L4: L3 is unchanged\n",
      "L4 = [9, 6, 6, 5, 4, 3, 2, -1, -7] is L4 after reversing its order of elements\n",
      "L3 = [9, 6, 5, 2, -7, 4, 3, -1, 6] is L3 after reversing the order of elements in L4: L3 is unchanged\n",
      "\n",
      "L5 = [9, 6, 5, 2, -7, 4, 3, -1, 6]\n",
      "L6 = [9, 6, 5, 2, -7, 4, 3, -1, 6] is a *deep copy* of L6\n",
      "L6 is just a different name for L5: False\n",
      "L6 has the same elements as L5: True\n",
      "L6 = [-7, -1, 2, 3, 4, 5, 6, 6, 9] is L6 after sorting its elements\n",
      "L5 = [9, 6, 5, 2, -7, 4, 3, -1, 6] is L5 after sorting the elements of L6: L5 is unchanged\n",
      "L6 = [9, 6, 6, 5, 4, 3, 2, -1, -7] is L6 after reversing its order of elements\n",
      "L5 = [9, 6, 5, 2, -7, 4, 3, -1, 6] is L5 after reversing the order of elements in L6: L5 is unchanged\n",
      "\n"
     ]
    }
   ],
   "source": [
    "L1 = [9, 6, 5, 2, -7, 4, 3, -1, 6]\n",
    "print('L1 = ' + str(L1))\n",
    "print('L1 has ' + str(len(L1)) + ' elements')\n",
    "print('L1 is of type ' + str(type(L1)))\n",
    "print()\n",
    "\n",
    "L2 = L1  # L2 *is* L1 - sorting this L2 also sorts L1\n",
    "print('L2 = ' + str(L2) + ' is another name for (reference to) L1 - not a copy at all!')\n",
    "print('L2 is just a different name for L1: ' + str(L2 is L1))\n",
    "print('L2 has the same elements as L1: ' + str(L2 == L1))\n",
    "L2.sort() # print(L2.sort()) does not work - why?\n",
    "print('L2 = ' + str(L2) + ' is L2 after sorting its elements')\n",
    "print('L1 = ' + str(L1) + ' is L1 after sorting the elements of L2!')\n",
    "L2.reverse() # reverse the order of L2\n",
    "print('L2 = ' + str(L2) + ' is L2 after reversing its order of elements')\n",
    "print('L1 = ' + str(L1) + ' is L1 after reversing the order of elements in L2!')\n",
    "print()\n",
    "\n",
    "import copy\n",
    "L3 = [9, 6, 5, 2, -7, 4, 3, -1, 6]\n",
    "print('L3 = ' + str(L3))\n",
    "L4 = copy.copy(L3) # L4 is a *shallow copy* of L3 - changing L4 does not change L3\n",
    "# L4 = L3.copy()   # this should do the same thing as L4 = copy.copy(L3) - try it yourself!\n",
    "print('L4 = ' + str(L4) + ' is a *shallow copy* of L3')\n",
    "print('L4 is just a different name for L3: ' + str(L4 is L3))\n",
    "print('L4 has the same elements as L3: ' + str(L4 == L3))\n",
    "L4.sort() # print(L4.sort()) does not work - why?\n",
    "print('L4 = ' + str(L4) + ' is L4 after sorting its elements')\n",
    "print('L3 = ' + str(L3) + ' is L3 after sorting the elements of L4: L3 is unchanged')\n",
    "L4.reverse() # reverse the order of L4\n",
    "print('L4 = ' + str(L4) + ' is L4 after reversing its order of elements')\n",
    "print('L3 = ' + str(L3) + ' is L3 after reversing the order of elements in L4: L3 is unchanged')\n",
    "print()\n",
    "\n",
    "L5 = [9, 6, 5, 2, -7, 4, 3, -1, 6]\n",
    "print('L5 = ' + str(L5))\n",
    "L6 = copy.deepcopy(L5) # L6 is a *deep copy* of L5 - changing L6 does not change L5\n",
    "print('L6 = ' + str(L6) + ' is a *deep copy* of L6')\n",
    "print('L6 is just a different name for L5: ' + str(L6 is L5))\n",
    "print('L6 has the same elements as L5: ' + str(L6 == L5))\n",
    "L6.sort()\n",
    "print('L6 = ' + str(L6) + ' is L6 after sorting its elements')\n",
    "print('L5 = ' + str(L5) + ' is L5 after sorting the elements of L6: L5 is unchanged')\n",
    "L6.reverse() # reverse the order of L6\n",
    "print('L6 = ' + str(L6) + ' is L6 after reversing its order of elements')\n",
    "print('L5 = ' + str(L5) + ' is L5 after reversing the order of elements in L6: L5 is unchanged')\n",
    "print()"
   ]
  },
  {
   "cell_type": "markdown",
   "metadata": {
    "id": "XlkWkUt3a8Hn"
   },
   "source": [
    "<div class=\"alert alert-block alert-info\">\n",
    "now, you try! create a list of strings <code>'abc'</code>, <code>'def'</code>, <code>'xyz'</code>, then <br>\n",
    "1. append strings <code>'pqr'</code> and <code>'def'</code> to it <br>\n",
    "2. find the indices of both occurrences of <code>'def'</code> (hint: <a href=https://www.geeksforgeeks.org/python-list-index/>https://www.geeksforgeeks.org/python-list-index/</a>) <br>\n",
    "3. now, take the string <code>\"abc, def, xyz, pqr, def\"</code> and convert it to a list (hint: <a href=https://www.geeksforgeeks.org/python-program-convert-string-list/>https://www.geeksforgeeks.org/python-program-convert-string-list/</a>) <br>\n",
    "4. convert this list back into a string (with a new name) (hint: <a href=https://www.geeksforgeeks.org/python-program-to-convert-a-list-to-string/>https://www.geeksforgeeks.org/python-program-to-convert-a-list-to-string/</a>; read methods #1 and #2) <br>\n",
    "5. take the string <code>'abcdef'</code> and convert it to a list of characters (use the <code>list()</code> function)\n",
    "</div>"
   ]
  },
  {
   "cell_type": "code",
   "execution_count": null,
   "metadata": {
    "id": "ilEad20cf0kq"
   },
   "outputs": [],
   "source": []
  },
  {
   "cell_type": "markdown",
   "metadata": {
    "id": "fqI28s1uMje4"
   },
   "source": [
    "sets: https://www.w3schools.com/python/python_ref_set.asp, https://www.tutorialspoint.com/python_data_structure/python_sets.htm\n",
    "\n",
    "<b>Sets</b> are very similar to lists, except that <b>all elements must be unique</b>. Lists can contain as many identical elements as you wish, but sets will only contain unique elements, just like sets in mathematics. Sets can also be heterogeneous (that is, elements can be of different data types), just as long as they are unique. One other important difference between sets and lists is that lists preserve the order of their elements. Elements in a list occur in the order it was initialized with, or in the sequence that they were appended to it. On the other hand, elements in a set are NOT ordered - they may occur in any order, and that order can change if elements are added to or removed from the set. An important consequence of this is that **elements of sets**, unlike those of lists, **cannot be referred to by index**.\n",
    "\n",
    "The following methods for sets mirror the operations that one can perform on sets in math.\n",
    "\n",
    "```\n",
    "* add():\tAdds an element to the set\n",
    "* clear():\tRemoves all the elements from the set\n",
    "* copy():\tReturns a (shallow) copy of the set\n",
    "* difference():\tReturns a set containing the difference between two or more sets\n",
    "* difference_update():\tRemoves the items in this set that are also included in another, specified set\n",
    "* discard():\tRemove the specified item\n",
    "* intersection():\tReturns a set, that is the intersection of two or more sets\n",
    "* intersection_update():\tRemoves the items in this set that are not present in other, specified set(s)\n",
    "* isdisjoint():\tReturns whether two sets have a intersection or not\n",
    "* issubset():\tReturns whether another set contains this set or not\n",
    "* issuperset():\tReturns whether this set contains another set or not\n",
    "* pop(): Removes an element from the set\n",
    "* remove():\tRemoves the specified element\n",
    "* symmetric_difference(): Returns a set with the symmetric differences of two sets\n",
    "* symmetric_difference_update(): inserts the symmetric differences from this set and another\n",
    "* union(): Return a set containing the union of sets\n",
    "* update(): Update the set with another set, or any other iterable\n",
    "```"
   ]
  },
  {
   "cell_type": "markdown",
   "metadata": {
    "id": "QMmEB_eYbYc_"
   },
   "source": [
    "some examples of sets and their usage: https://www.pythontutorial.net/python-basics/python-set/\n",
    "\n",
    "#### Note that sets use braces ```{ }``` instead of brackets ```[ ]``` as delimiters.\n",
    "Be careful here, because dictionaries also use braces, but there are syntactical differences between sets and dictionaries, as we will see shortly."
   ]
  },
  {
   "cell_type": "code",
   "execution_count": 4,
   "metadata": {
    "colab": {
     "base_uri": "https://localhost:8080/"
    },
    "id": "sCpOcUsDbcJY",
    "outputId": "fc117f7c-5b79-4e0b-aa83-18ff9201ea82"
   },
   "outputs": [
    {
     "name": "stdout",
     "output_type": "stream",
     "text": [
      "set s1 = {'l', 'e', 't', 'r'}\n",
      "list L1 = ['l', 'e', 't', 't', 'e', 'r']\n",
      "set s1 has 4 elements\n",
      "\n",
      "set s2 = {1, 2, 3, 4}\n",
      "list L2 = [1, 2, 3, 4, 3, 2, 1]\n",
      "3 is in set s2: True\n",
      "-1 is in set s2: False\n",
      "3 is in list L2: True\n",
      "-1 is in list L2: False\n",
      "\n",
      "try to add already existing element 4 to s2: {1, 2, 3, 4}\n",
      "try to add new element 5 to s2: {1, 2, 3, 4, 5}\n",
      "\n",
      "now print each element in s2\n",
      "1, 2, 3, 4, 5, \n",
      "\n",
      "set s3 = {'h', 'w', 'e', ',', ' ', '!', 'l', 'r', 'd', 'o'}\n",
      "s4, the union of s1 and s3, is {'h', 't', 'w', 'e', ',', ' ', '!', 'l', 'r', 'd', 'o'}\n",
      "s5, the intersection of s1 and s3, is {'l', 'e', 'r'}\n",
      "\n",
      "s1 is a subset of s3? False\n",
      "s1 is a subset of s4? True\n",
      "s4 is a superset of s3? True\n",
      "s3 is a superset of s1? False\n",
      "s1 and s2 are disjoint? True\n"
     ]
    }
   ],
   "source": [
    "s1 = set('letter')\n",
    "L1 = list('letter')\n",
    "print('set s1 = ' + str(s1)) # sets do not contain duplicate elements, while lists do!\n",
    "print('list L1 = ' + str(L1)) # also, note the difference in ordering of the elements\n",
    "print('set s1 has ' + str(len(s1)) + ' elements')\n",
    "print()\n",
    "\n",
    "s2 = {1, 2, 3, 4, 3, 2, 1}\n",
    "L2 = [1, 2, 3, 4, 3, 2, 1]\n",
    "print('set s2 = ' + str(s2)) # sets do not contain duplicate elements\n",
    "print('list L2 = ' + str(L2)) # while lists do!\n",
    "print('3 is in set s2: ' + str(3 in s2))\n",
    "print('-1 is in set s2: ' + str(-1 in s2))\n",
    "print('3 is in list L2: ' + str(3 in L2))\n",
    "print('-1 is in list L2: ' + str(-1 in L2))\n",
    "print()\n",
    "\n",
    "s2.add(4)\n",
    "print('try to add already existing element 4 to s2: ' + str(s2))\n",
    "s2.add(5)\n",
    "print('try to add new element 5 to s2: ' + str(s2))\n",
    "print()\n",
    "\n",
    "print('now print each element in s2')\n",
    "for i in s2:\n",
    "  print(i, end = ', ')\n",
    "print()\n",
    "print()\n",
    "\n",
    "s3 = set('hello, world!')\n",
    "print('set s3 = ' + str(s3)) # note the ordering of this set!\n",
    "s4 = set.union(s1, s3)\n",
    "print('s4, the union of s1 and s3, is ' + str(s4))\n",
    "s5 = set.intersection(s1, s3)\n",
    "print('s5, the intersection of s1 and s3, is ' + str(s5))\n",
    "print()\n",
    "\n",
    "print('s1 is a subset of s3? ' + str(s1.issubset(s3)))\n",
    "print('s1 is a subset of s4? ' + str(s1.issubset(s4)))\n",
    "print('s4 is a superset of s3? ' + str(s4.issuperset(s3)))\n",
    "print('s3 is a superset of s1? ' + str(s3.issubset(s1)))\n",
    "print('s1 and s2 are disjoint? ' + str(s1.isdisjoint(s2)))"
   ]
  },
  {
   "cell_type": "markdown",
   "metadata": {
    "id": "7gOowJApbcav"
   },
   "source": [
    "<div class=\"alert alert-block alert-info\">\n",
    "your turn! create a set of strings <code>'abc', 'def', 'xyz'</code>, then <br>\n",
    "1. add elements <code>7</code> and <code>'def'</code> to it (hint: <a href=https://www.geeksforgeeks.org/set-add-python/>https://www.geeksforgeeks.org/set-add-python/</a>) <br>\n",
    "2. see whether <code>'def'</code> is in this set, and how many times it occurs in it <br>\n",
    "3. now, update this set with another set containing just the two elements <code>-3.5</code> and <code>'x'</code> (hint: <a href=https://www.programiz.com/python-programming/methods/set/update>https://www.programiz.com/python-programming/methods/set/update</a>) \n",
    "</div>"
   ]
  },
  {
   "cell_type": "code",
   "execution_count": null,
   "metadata": {
    "id": "MIdxbvVUpnkW"
   },
   "outputs": [],
   "source": []
  },
  {
   "cell_type": "markdown",
   "metadata": {
    "id": "JGbJccyNNEe3"
   },
   "source": [
    "tuples (immutable): https://www.w3schools.com/python/python_ref_tuple.asp\n",
    "\n",
    "```\n",
    "* count(): Returns the number of times a specified value occurs in a tuple\n",
    "* index(): Searches the tuple for a specified value and returns the position of where it was found\n",
    "```"
   ]
  },
  {
   "cell_type": "markdown",
   "metadata": {
    "id": "A10o5Ss9bmMv"
   },
   "source": [
    "some examples of tuples and their usage:\n",
    "\n",
    "see https://www.w3schools.com/python/python_tuples.asp\n",
    "\n",
    "<b>Tuples</b> are ordered lists (which can have duplicate elements) which are <b>immutable</b>: they **cannot** be modified (that is, after a tuple is initialized, no elements may be added, removed, or changed). In the methods shown above, note that there are none that add or remove elements from a tuple! Tuples are not as frequently used as lists and sets, so just know that these exist. \n",
    "\n",
    "<b>Note that tuples use parentheses ```( )``` instead of brackets ```[ ]``` as delimiters. </b>"
   ]
  },
  {
   "cell_type": "code",
   "execution_count": 4,
   "metadata": {
    "colab": {
     "base_uri": "https://localhost:8080/"
    },
    "id": "HBZkJVVWbonH",
    "outputId": "1f76a3c4-3eba-4351-a9aa-94c607f390b5"
   },
   "outputs": [
    {
     "name": "stdout",
     "output_type": "stream",
     "text": [
      "tuple t1 = ('t', 'l', 'e', 'r', 'l')\n",
      "t1 has 5 elements\n",
      "'l' occurs 2 times in t1\n",
      "'l' occurs at indices 1 and 4\n"
     ]
    }
   ],
   "source": [
    "t1 = ('t', 'l', 'e', 'r', 'l')\n",
    "print('tuple t1 = ' + str(t1))\n",
    "print('t1 has ' + str(len(t1)) + ' elements')\n",
    "print(\"'l' occurs \" + str(t1.count('l')) + \" times in t1\")\n",
    "p1 = t1.index('l')\n",
    "p2 = t1.index('l', p1 + 1)\n",
    "print(\"'l' occurs at indices \" + str(p1) + ' and ' + str(p2))"
   ]
  },
  {
   "cell_type": "markdown",
   "metadata": {
    "id": "bM67toknNq-4"
   },
   "source": [
    "dictionaries: https://www.w3schools.com/python/python_ref_dictionary.asp, https://www.w3schools.com/python/python_dictionaries.asp\n",
    "\n",
    "<b>Dictionaries</b> are arrays of **values** that can be indexed, not just by consecutive integers, but by **keys**. They are ordered (items occur in the order that the dictionary was initialized with, or in the sequence they were appended to it) and mutable (items can be modified), but keys <b>must be unique</b> (that is, keys are set-like), while values do not have to be (values are list-like).\n",
    "\n",
    "```\n",
    "* clear(): Removes all the elements from the dictionary\n",
    "* copy(): Returns a copy of the dictionary\n",
    "* fromkeys(): Returns a dictionary with the specified keys and value\n",
    "* get(): Returns the value of the specified key\n",
    "* items(): Returns a list containing a tuple for each key value pair\n",
    "* keys(): Returns a list containing the dictionary's keys\n",
    "* pop(): Removes the element with the specified key\n",
    "* popitem(): Removes the last inserted key-value pair\n",
    "* setdefault(): Returns the value of the specified key. If the key does not exist, insert the key with the specified value\n",
    "* update(): Updates the dictionary with the specified key-value pairs\n",
    "* values(): Returns a list of all the values in the dictionary\n",
    "```\n",
    "\n",
    "some examples of dictionaries and their usage:\n",
    "\n",
    "#### Note that dictionaries use braces ```{ }``` as delimiters, just as sets do.\n",
    "Be careful here, because there are syntactical differences between how dictionaries and sets are initialized, and how their elements are specified."
   ]
  },
  {
   "cell_type": "code",
   "execution_count": 6,
   "metadata": {
    "colab": {
     "base_uri": "https://localhost:8080/"
    },
    "id": "h70nzCwfxgFI",
    "outputId": "2fef0a78-5071-4514-f67d-b598746af15c"
   },
   "outputs": [
    {
     "name": "stdout",
     "output_type": "stream",
     "text": [
      "get the value associated with key 'brand': Ford\n",
      "get the value associated with key 'model': Mustang\n",
      "\n",
      "change the value associated with key 'year': 1969\n",
      "{'brand': 'Ford', 'model': 'Mustang', 'year': 1969}\n",
      "change the value associated with key 'year' again: 1965\n",
      "{'brand': 'Ford', 'model': 'Mustang', 'year': 1965}\n",
      "\n",
      "add a new key-value pair: 'color': 'red' {'brand': 'Ford', 'model': 'Mustang', 'year': 1965, 'color': 'red'}\n",
      "key 'model' exists in car1: True\n",
      "key 'make' exists in car1: False\n",
      "remove value with key 'model': {'brand': 'Ford', 'year': 1965, 'color': 'red'}\n",
      "remove value with key 'year': {'brand': 'Ford', 'color': 'red'}\n",
      "clear items in car1: {}\n",
      "if you delete car1 altogether, it is no longer defined ('str(car1)' produces an error)\n"
     ]
    }
   ],
   "source": [
    "car1 = {\n",
    "\"brand\": \"Ford\",\n",
    "\"model\": \"Mustang\",\n",
    "\"year\": 1964\n",
    "}\n",
    "\n",
    "# note how single and double quotes are OK\n",
    "print(\"get the value associated with key 'brand': \" + str(car1['brand']))\n",
    "print(\"get the value associated with key 'model': \" + str(car1.get(\"model\")))\n",
    "print()\n",
    "\n",
    "car1['year'] = 1969\n",
    "print(\"change the value associated with key 'year': \" + str(car1[\"year\"]))\n",
    "print(str(car1))\n",
    "car1.update({'year': 1965})\n",
    "print(\"change the value associated with key 'year' again: \" + str(car1[\"year\"]))\n",
    "print(str(car1))\n",
    "print()\n",
    "\n",
    "car1['color'] = \"red\"\n",
    "print(\"add a new key-value pair: 'color': 'red' \" + str(car1))\n",
    "print(\"key 'model' exists in car1: \" + str('model' in car1))\n",
    "print(\"key 'make' exists in car1: \" + str('make' in car1))\n",
    "car1.pop('model')\n",
    "print(\"remove value with key 'model': \" + str(car1))\n",
    "del car1['year']\n",
    "print(\"remove value with key 'year': \" + str(car1))\n",
    "car1.clear()\n",
    "print('clear items in car1: ' + str(car1))\n",
    "del car1\n",
    "print(\"if you delete car1 altogether, it is no longer defined ('str(car1)' produces an error)\")\n",
    "# print(str(car1)) # uncomment this to try "
   ]
  },
  {
   "cell_type": "markdown",
   "metadata": {
    "id": "wQ3SbfVHxeU2"
   },
   "source": [
    "deep vs. shallow copy: https://www.geeksforgeeks.org/copy-python-deep-copy-shallow-copy/\n",
    "\n",
    "Once again, we will revisit the notion of copying objects in more depth. For now, just be aware that the assignment operator (<code>=</code>) does NOT make an independent copy of a mutable object like a dictionary, but instead, simply assigns a new **name** (reference) to the same object. Thus, if you have a dictionary <code>car1</code> whose contents you want to preserve while you operate upon a copy <code>car2</code> of it, that will NOT happen if you create that copy by using <code>car2 = car1</code>. Instead, you will need to make either a <b>shallow</b> or a <b>deep</b> copy of <code>car1</code>, and assign it to the variable <code>car2</code>. At this point, there is no difference between shallow and deep copies of a dictionary, but we will see later that the distinction becomes important when the elements of the dictionary you're copying are themselves mutable objects (e.g., dictionaries of lists, dictionaries of dictionaries, etc.)."
   ]
  },
  {
   "cell_type": "code",
   "execution_count": 26,
   "metadata": {
    "colab": {
     "base_uri": "https://localhost:8080/"
    },
    "id": "1FdESCQYbx-I",
    "outputId": "57c4c99e-fe54-4234-92c3-bed0f92cf1d5"
   },
   "outputs": [
    {
     "name": "stdout",
     "output_type": "stream",
     "text": [
      "the dictionary car1 = {'brand': 'Ford', 'model': 'Mustang', 'year': 1964}\n",
      "<class 'dict'>\n",
      "car1 has 3 items\n",
      "the keys of car1 = dict_keys(['brand', 'model', 'year'])\n",
      "the values of car1 = dict_values(['Ford', 'Mustang', 1964])\n",
      "the dictionary car1 = {'brand': 'Ford', 'model': 'Mustang', 'year': 1964}\n",
      "\n",
      "car2 = {'brand': 'Ford', 'model': 'Mustang', 'year': 1964} is another name for (reference to) car1 - not a copy at all!\n",
      "car2 is just a different name for car1: True\n",
      "car2 has the same elements as car1: True\n",
      "car2 after appending an element to it: {'brand': 'Ford', 'model': 'Mustang', 'year': 1964, 'color': 'white'}\n",
      "car1 after appending an element to car2: {'brand': 'Ford', 'model': 'Mustang', 'year': 1964, 'color': 'white'}\n",
      "car2 has 4 items\n",
      "car1 has 4 items\n",
      "\n",
      "the dictionary car3 = {'brand': 'Ford', 'model': 'Mustang', 'year': 1964}\n",
      "the dictionary car4 = {'brand': 'Ford', 'model': 'Mustang', 'year': 1964} is a *shallow copy* of car3\n",
      "car4 is just a different name for car3: False\n",
      "car4 has the same elements as car3: True\n",
      "car4 after appending an element to it: {'brand': 'Ford', 'model': 'Mustang', 'year': 1964, 'color': 'white'}\n",
      "car3 after appending an element to car4: {'brand': 'Ford', 'model': 'Mustang', 'year': 1964}\n",
      "car4 has 4 items\n",
      "car3 has 3 items\n",
      "\n",
      "the dictionary car5 = {'brand': 'Ford', 'model': 'Mustang', 'year': 1964}\n",
      "the dictionary car6 = {'brand': 'Ford', 'model': 'Mustang', 'year': 1964} is a *deep copy* of car5\n",
      "car6 is just a different name for car5: False\n",
      "car6 has the same elements as car5: True\n",
      "car6 after appending an element to it: {'brand': 'Ford', 'model': 'Mustang', 'year': 1964, 'color': 'white'}\n",
      "car5 after appending an element to car4: {'brand': 'Ford', 'model': 'Mustang', 'year': 1964}\n",
      "car6 has 4 items\n",
      "car5 has 3 items\n",
      "\n"
     ]
    }
   ],
   "source": [
    "car1 = {\n",
    "\"brand\": \"Ford\",\n",
    "\"model\": \"Mustang\",\n",
    "\"year\": 1964\n",
    "}\n",
    "\n",
    "print('the dictionary car1 = ' + str(car1)) \n",
    "print(type(car1))\n",
    "print('car1 has ' + str(len(car1)) + ' items')\n",
    "k1 = car1.keys()\n",
    "print('the keys of car1 = ' + str(k1))\n",
    "v1 = car1.values()\n",
    "print('the values of car1 = ' + str(v1))\n",
    "print('the dictionary car1 = ' + str(car1))\n",
    "print()\n",
    "\n",
    "car2 = car1 # dictionary car2 is just another name (reference) for car1\n",
    "print('car2 = ' + str(car2) + ' is another name for (reference to) car1 - not a copy at all!')\n",
    "print('car2 is just a different name for car1: ' + str(car2 is car1))\n",
    "print('car2 has the same elements as car1: ' + str(car2 == car1))\n",
    "car2[\"color\"] = \"white\"\n",
    "print('car2 after appending an element to it: ' + str(car2))\n",
    "print('car1 after appending an element to car2: ' + str(car1))\n",
    "print('car2 has ' + str(len(car2)) + ' items')\n",
    "print('car1 has ' + str(len(car1)) + ' items')\n",
    "print()\n",
    "\n",
    "\n",
    "import copy\n",
    "car3 = {\n",
    "\"brand\": \"Ford\",\n",
    "\"model\": \"Mustang\",\n",
    "\"year\": 1964\n",
    "}\n",
    "car4 = copy.copy(car3)\n",
    "# car4 = car3.copy()  # this should do the same thing as car4 = copy.copy(car3) - try it yourself!\n",
    "print('the dictionary car3 = ' + str(car3)) \n",
    "print('the dictionary car4 = ' + str(car4) + ' is a *shallow copy* of car3')\n",
    "print('car4 is just a different name for car3: ' + str(car4 is car3))\n",
    "print('car4 has the same elements as car3: ' + str(car4 == car3))\n",
    "car4[\"color\"] = \"white\"\n",
    "print('car4 after appending an element to it: ' + str(car4))\n",
    "print('car3 after appending an element to car4: ' + str(car3))\n",
    "print('car4 has ' + str(len(car4)) + ' items')\n",
    "print('car3 has ' + str(len(car3)) + ' items')\n",
    "print()\n",
    "\n",
    "car5 = {\n",
    "\"brand\": \"Ford\",\n",
    "\"model\": \"Mustang\",\n",
    "\"year\": 1964\n",
    "}\n",
    "car6 = copy.deepcopy(car5)\n",
    "print('the dictionary car5 = ' + str(car5)) \n",
    "print('the dictionary car6 = ' + str(car6) + ' is a *deep copy* of car5')\n",
    "print('car6 is just a different name for car5: ' + str(car6 is car5))\n",
    "print('car6 has the same elements as car5: ' + str(car6 == car5))\n",
    "car6[\"color\"] = \"white\"\n",
    "print('car6 after appending an element to it: ' + str(car6))\n",
    "print('car5 after appending an element to car4: ' + str(car5))\n",
    "print('car6 has ' + str(len(car6)) + ' items')\n",
    "print('car5 has ' + str(len(car5)) + ' items')\n",
    "print()\n"
   ]
  },
  {
   "cell_type": "markdown",
   "metadata": {
    "id": "5G-oUMe7byPf"
   },
   "source": [
    "<div class=\"alert alert-block alert-info\">\n",
    "now, you try: <br>\n",
    "1. in the UDF <code>deal()</code> below, complete the dictionary of playing cards to create a deck <code>{'A': 1, '2': 2, ..., '10': 10, 'J': 11, 'Q': 12, 'K': 13}</code> <br>\n",
    "2. then, have <code>deal()</code> shuffle the keys and return a dictionary containing <code>numCards = 3</code> from the shuffled deck; print out both the dealt cards and the shuffled deck <br>\n",
    "3. call <code>deal()</code> three more times in your <code>main()</code>, and again, print out what cards are dealt (try this with <code>numCards = 5</code> cards for these deals) as well as the shuffled deck. The presence of duplicate cards in these hands should show cards being dealt from the deck <b>with replacement</b> <br>\n",
    "4. create a new code cell, copy the code you just wrote into it, then modify it so that cards are dealt from the deck <b>without replacement</b> (no duplicate cards in the four hands); be sure to print out the hands dealt and the deck after each deal  \n",
    "</div>"
   ]
  },
  {
   "cell_type": "code",
   "execution_count": 7,
   "metadata": {
    "colab": {
     "base_uri": "https://localhost:8080/"
    },
    "id": "16P7AeUQbzdP",
    "outputId": "d5d06fc4-dec5-4a89-c5e7-a71e6b00244c"
   },
   "outputs": [
    {
     "name": "stdout",
     "output_type": "stream",
     "text": [
      "{'A': 1, '2': 2, '3': 3, '4': 4}\n",
      "{'A': 1, '2': 2}\n",
      "\n"
     ]
    }
   ],
   "source": [
    "# you may need to import something in order to get shuffle to work!\n",
    "deck = {'A': 1, '2': 2, '3': 3, '4': 4}\n",
    "\n",
    "def deal(numCards) -> dict:\n",
    "  keys = list(deck.keys())\n",
    "  outCards = {}\n",
    "  for i in range(0, numCards):\n",
    "    outCards[str(keys[i])] = deck[str(keys[i])]\n",
    "  print(deck)\n",
    "  return outCards\n",
    "\n",
    "def main():\n",
    "  myHand1 = deal(2)\n",
    "  print(myHand1)\n",
    "  print()\n",
    "\n",
    "\n",
    "main()"
   ]
  },
  {
   "cell_type": "code",
   "execution_count": null,
   "metadata": {},
   "outputs": [],
   "source": []
  }
 ],
 "metadata": {
  "colab": {
   "collapsed_sections": [],
   "name": "Data Structures Python Colab notebook.ipynb",
   "provenance": []
  },
  "kernelspec": {
   "display_name": "Python 3 (ipykernel)",
   "language": "python",
   "name": "python3"
  },
  "language_info": {
   "codemirror_mode": {
    "name": "ipython",
    "version": 3
   },
   "file_extension": ".py",
   "mimetype": "text/x-python",
   "name": "python",
   "nbconvert_exporter": "python",
   "pygments_lexer": "ipython3",
   "version": "3.9.2"
  }
 },
 "nbformat": 4,
 "nbformat_minor": 1
}
